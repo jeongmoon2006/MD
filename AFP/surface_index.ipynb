{
 "cells": [
  {
   "cell_type": "code",
   "execution_count": 1,
   "metadata": {},
   "outputs": [],
   "source": [
    "import numpy as np\n",
    "import MDAnalysis as mda\n",
    "import timeit\n",
    "import matplotlib.pyplot as plt  \n",
    "\n",
    "u = mda.Universe(\"prd.tpr\", \"prd_whole.xtc\")\n",
    "p = u.select_atoms(\"name OW\")\n",
    "box = np.array([65, 80, 60])"
   ]
  },
  {
   "cell_type": "code",
   "execution_count": 2,
   "metadata": {},
   "outputs": [],
   "source": [
    "import numpy as np\n",
    "\n",
    "class surface_protein:\n",
    "    \"\"\"\n",
    "    Args:\n",
    "        box(np.ndarray): An array of [Lx,Ly,Lz]\n",
    "        radius(float): sphere radius in Angstrom\n",
    "        universe: MDAnalysis universe\n",
    "        time_array(np.ndarray): An array of time\n",
    "   \n",
    "    \"\"\"\n",
    "    \n",
    "    def __init__(self,box,radius,universe,time_array):\n",
    "        \n",
    "        # Length of the box\n",
    "        self.box = box\n",
    "        self.Lx,self.Ly,self.Lz = box\n",
    "     \n",
    "        # sphere radius\n",
    "        self.radius = radius\n",
    "        \n",
    "        # universe\n",
    "        self.u = universe\n",
    "        \n",
    "        # time_array\n",
    "        self.time_array = time_array\n",
    "        \n",
    "    def surface_protein_idx(self,protein,water):\n",
    "        \"\"\"\n",
    "        Args:\n",
    "            get surface protein index\n",
    "            pos_p(np.ndarray) = position of protein\n",
    "            pos_w(np.ndarray) = position of water            \n",
    "        \"\"\"\n",
    "        \n",
    "        pos_p = protein.positions\n",
    "        pos_w = water.positions\n",
    "        dist = np.abs(pos_w[:,np.newaxis,:] - pos_p)\n",
    "        cond = dist > box/2\n",
    "        dr = box*cond - dist \n",
    "        distance = np.sqrt((dr**2).sum(axis=-1))\n",
    "\n",
    "        idx = np.argmin(distance, axis = 1)\n",
    "        idx = np.unique(idx)\n",
    "        \n",
    "        idx = protein[idx].indices\n",
    "\n",
    "        return idx\n",
    "    \n",
    "    def time_surface_protein_idx(self):\n",
    "        \"\"\"\n",
    "        Args:\n",
    "            Found that surface protein index varies with time.\n",
    "            This will search surface protein index for time_array and add alltogether.\n",
    "            Most generous surface protein index\n",
    "        \"\"\"\n",
    "    \n",
    "        time_ndx = []\n",
    "        u = self.u\n",
    "        \n",
    "        for i in self.time_array:\n",
    "            u.trajectory[np.int(i)]\n",
    "            protein = u.select_atoms('protein and not (name H*)')\n",
    "            water = u.select_atoms('name OW')\n",
    "            nn = self.surface_protein_idx(protein,water)\n",
    "            time_ndx += [nn]\n",
    "            \n",
    "        reference = time_ndx[0]\n",
    "        for i in time_ndx:\n",
    "            new = np.concatenate((reference,i))\n",
    "            new = np.unique(new)\n",
    "            reference = new\n",
    "        \n",
    "        return new\n",
    "    \n",
    "    @staticmethod\n",
    "    def save_idx(idx, file_name):\n",
    "        file = open(file_name, 'w')\n",
    "        for i in idx:\n",
    "            file.write(np.str(i+1)+\"\\n\")\n",
    "        file.close()\n",
    "        \n"
   ]
  },
  {
   "cell_type": "code",
   "execution_count": 22,
   "metadata": {},
   "outputs": [],
   "source": [
    "import numpy as np\n",
    "\n",
    "def water_in_sphere(protein, water, radius):\n",
    "    pos_p = protein.positions\n",
    "    pos_w = water.positions\n",
    "    dist = np.abs(pos_w[:,np.newaxis,:] - pos_p)\n",
    "    cond = dist > box/2\n",
    "    dr = box*cond - dist \n",
    "    distance = np.sqrt((dr**2).sum(axis=-1))\n",
    "    \n",
    "    condd = distance < radius\n",
    "    \n",
    "    nn = np.any(condd, axis = 1)\n",
    "    \n",
    "    probe_water = np.count_nonzero(nn)\n",
    "    \n",
    "    return probe_water,nn\n",
    "\n",
    "def time_water_in_sphere(protein, water, radius, time_array, universe):\n",
    "    u = universe\n",
    "    prob_water = []\n",
    "    for i in time_array:\n",
    "        u.trajectory[np.int(i)]\n",
    "        probe_water,_ = water_in_sphere(protein, water, radius)\n",
    "        prob_water += [probe_water]\n",
    "    \n",
    "    return np.array(prob_water)"
   ]
  },
  {
   "cell_type": "code",
   "execution_count": 4,
   "metadata": {},
   "outputs": [],
   "source": [
    "u1 = mda.Universe(\"prd.tpr\", \"prd_whole_1frame_protein.xtc\")\n",
    "box = np.array([65, 80, 60])\n",
    "\n",
    "a = surface_protein(box,12,u1,np.linspace(100,1000,500))\n",
    "u1.trajectory[0]\n",
    "idx = a.surface_protein_idx(u1.select_atoms('protein and not (name H*)'), u1.select_atoms('name OW'))\n",
    "hh = np.str(idx)\n",
    "hh = hh.replace('[','')\n",
    "hh = hh.replace(']','')\n",
    "\n",
    "protein1= u1.select_atoms(\"index\"+hh)\n",
    "water1 = u1.select_atoms(\"name OW\")"
   ]
  },
  {
   "cell_type": "code",
   "execution_count": 108,
   "metadata": {},
   "outputs": [],
   "source": [
    "a.save_idx(idx, 'surface.ndx')"
   ]
  },
  {
   "cell_type": "code",
   "execution_count": 5,
   "metadata": {},
   "outputs": [
    {
     "name": "stdout",
     "output_type": "stream",
     "text": [
      "1915\n"
     ]
    }
   ],
   "source": [
    "water_count = water_in_sphere(protein1, water1, 12)\n",
    "print(water_count)\n",
    "prob_water1 = time_water_in_sphere(protein1, water1, 12, np.linspace(100,1000,500), u1)"
   ]
  },
  {
   "cell_type": "code",
   "execution_count": 14,
   "metadata": {},
   "outputs": [
    {
     "name": "stdout",
     "output_type": "stream",
     "text": [
      "1878.27\n",
      "stdev of prob_water1 is 14.350787434841338\n"
     ]
    },
    {
     "data": {
      "image/png": "[encoded data removed]",
      "text/plain": [
       "<Figure size 432x288 with 1 Axes>"
      ]
     },
     "metadata": {
      "needs_background": "light"
     },
     "output_type": "display_data"
    }
   ],
   "source": [
    "counts, bins = np.histogram(prob_water1, bins =20)\n",
    "counts = counts/np.sum(counts)\n",
    "plt.hist(bins[:-1], bins, weights=counts)\n",
    "plt.xlabel('Nv')\n",
    "plt.ylabel('P(Nv)')\n",
    "print(np.average(prob_water1))\n",
    "print(f'stdev of prob_water1 is {np.std(prob_water1)}')"
   ]
  },
  {
   "cell_type": "code",
   "execution_count": 15,
   "metadata": {},
   "outputs": [],
   "source": [
    "-------------------to get atom name change-----------------\n",
    "u3 = mda.Universe('prd2.gro', formate='gro')"
   ]
  },
  {
   "cell_type": "code",
   "execution_count": 25,
   "metadata": {},
   "outputs": [],
   "source": [
    "protein3 = u3.select_atoms(\"index\"+hh)\n",
    "water3 = u3.select_atoms(\"name OW\")"
   ]
  },
  {
   "cell_type": "code",
   "execution_count": 26,
   "metadata": {},
   "outputs": [],
   "source": [
    "probe_water, nn = water_in_sphere(protein3, water3, 12)"
   ]
  },
  {
   "cell_type": "code",
   "execution_count": 44,
   "metadata": {},
   "outputs": [],
   "source": [
    "for i in range(len(nn)):\n",
    "    if nn[i] == True:\n",
    "        index = water3[i].index\n",
    "        u3.atoms[index].residue.resname = 'probe_water'\n",
    "u3.atoms.write('prd2.gro', reindex=False)"
   ]
  },
  {
   "cell_type": "code",
   "execution_count": 31,
   "metadata": {},
   "outputs": [
    {
     "name": "stdout",
     "output_type": "stream",
     "text": [
      "<Atom 1032: OW of type O of resname SOL, resid 84 and segid SYSTEM>\n"
     ]
    }
   ],
   "source": [
    "print(water3[0])"
   ]
  },
  {
   "cell_type": "code",
   "execution_count": 10,
   "metadata": {},
   "outputs": [
    {
     "data": {
      "text/plain": [
       "500"
      ]
     },
     "execution_count": 10,
     "metadata": {},
     "output_type": "execute_result"
    }
   ],
   "source": [
    "np.sum(counts)"
   ]
  },
  {
   "cell_type": "code",
   "execution_count": 93,
   "metadata": {},
   "outputs": [],
   "source": [
    "u1 = mda.Universe(\"prd.tpr\", \"prd_whole_1frame_protein.xtc\")\n",
    "box = np.array([65, 80, 60])\n",
    "\n",
    "u.trajectory[0]\n",
    "t_idx = a.time_surface_protein_idx()"
   ]
  },
  {
   "cell_type": "code",
   "execution_count": 94,
   "metadata": {},
   "outputs": [],
   "source": [
    "hh2 = np.str(t_idx)\n",
    "hh2 = hh2.replace('[','')\n",
    "hh2 = hh2.replace(']','')\n",
    "\n",
    "protein2= u1.select_atoms(\"index\"+hh2)\n",
    "water2 = u1.select_atoms(\"name OW\")"
   ]
  },
  {
   "cell_type": "code",
   "execution_count": 95,
   "metadata": {},
   "outputs": [
    {
     "name": "stdout",
     "output_type": "stream",
     "text": [
      "1915\n"
     ]
    }
   ],
   "source": [
    "water_count = water_in_sphere(protein2, water2, 12)\n",
    "print(water_count)\n",
    "prob_water2 = time_water_in_sphere(protein2, water2, 12, np.linspace(10,1000,500), u1)"
   ]
  },
  {
   "cell_type": "code",
   "execution_count": 100,
   "metadata": {},
   "outputs": [
    {
     "name": "stdout",
     "output_type": "stream",
     "text": [
      "1878.0\n",
      "stdev of prob_water2 is 14.14369117309905\n"
     ]
    },
    {
     "data": {
      "image/png": "[encoded data removed]",
      "text/plain": [
       "<Figure size 432x288 with 1 Axes>"
      ]
     },
     "metadata": {
      "needs_background": "light"
     },
     "output_type": "display_data"
    }
   ],
   "source": [
    "counts, bins = np.histogram(prob_water2, bins = 20)\n",
    "plt.hist(bins[:-1], bins, weights=counts)\n",
    "print(np.average(prob_water2))\n",
    "print(f'stdev of prob_water2 is {np.std(prob_water2)}')"
   ]
  },
  {
   "cell_type": "code",
   "execution_count": 43,
   "metadata": {},
   "outputs": [
    {
     "name": "stdout",
     "output_type": "stream",
     "text": [
      "[[33.100002 58.590004 27.730003]\n",
      " [31.970003 57.630005 27.640001]\n",
      " [31.170002 57.900005 26.390001]\n",
      " ...\n",
      " [28.79     20.61     32.39    ]\n",
      " [29.52     20.46     31.380003]\n",
      " [28.27     19.650002 32.97    ]]\n"
     ]
    }
   ],
   "source": [
    "\n",
    "protein = u.select_atoms('protein and not (name H*)')\n",
    "u.trajectory[4]\n",
    "print(protein.positions)"
   ]
  },
  {
   "cell_type": "code",
   "execution_count": 4,
   "metadata": {},
   "outputs": [],
   "source": [
    "a = surface_protein(box, 12, u, np.linspace(10,200,191))"
   ]
  },
  {
   "cell_type": "code",
   "execution_count": 5,
   "metadata": {},
   "outputs": [],
   "source": [
    "idx = a.surface_protein_idx(u.select_atoms('protein and not (name H*)'), u.select_atoms('name OW'))"
   ]
  },
  {
   "cell_type": "code",
   "execution_count": 7,
   "metadata": {},
   "outputs": [],
   "source": [
    "t_idx = a.time_surface_protein_idx()"
   ]
  },
  {
   "cell_type": "code",
   "execution_count": 6,
   "metadata": {},
   "outputs": [],
   "source": [
    "# a.save_idx(idx, 'one_surface.ndx')"
   ]
  },
  {
   "cell_type": "code",
   "execution_count": 161,
   "metadata": {},
   "outputs": [
    {
     "name": "stdout",
     "output_type": "stream",
     "text": [
      "idx shape is (189,)\n",
      "t_idx shape is (289,)\n"
     ]
    }
   ],
   "source": [
    "print(f'idx shape is {idx.shape}')\n",
    "print(f't_idx shape is {t_idx.shape}')"
   ]
  },
  {
   "cell_type": "code",
   "execution_count": 28,
   "metadata": {},
   "outputs": [],
   "source": [
    "mol = u.select_atoms(\"index\"+hhhh)"
   ]
  },
  {
   "cell_type": "code",
   "execution_count": 27,
   "metadata": {},
   "outputs": [
    {
     "name": "stdout",
     "output_type": "stream",
     "text": [
      "   0    6   13   14   19   23   26   33   35   39   42   45   49   50\n",
      "   52   55   56   57   59   61   66   71   75   78   88   95   99  102\n",
      "  105  107  110  113  130  134  137  138  140  145  149  154  164  171\n",
      "  175  181  185  195  202  207  211  212  231  234  240  249  250  254\n",
      "  269  271  275  287  291  311  315  327  328  332  355  356  369  371\n",
      "  373  394  398  403  414  417  420  425  440  444  445  456  460  473\n",
      "  480  484  490  494  512  516  528  529  541  546  550  555  560  562\n",
      "  566  569  579  590  591  592  603  607  627  631  639  643  644  648\n",
      "  667  670  673  676  690  691  712  714  716  723  735  736  738  753\n",
      "  756  757  758  769  773  786  793  797  808  809  810  812  830  834\n",
      "  846  847  866  869  870  872  874  875  877  879  882  885  887  893\n",
      "  896  899  904  914  919  921  925  928  931  933  943  946  948  955\n",
      "  959  963  965  970  971  972  976  987  988  990  992  995  999 1001\n",
      " 1005 1010 1015 1023 1026 1029 1030\n"
     ]
    }
   ],
   "source": [
    "hh = np.str(idx)\n",
    "hhh = hh.replace('[','')\n",
    "hhhh = hhh.replace(']','')\n",
    "print(hhhh)"
   ]
  },
  {
   "cell_type": "code",
   "execution_count": 29,
   "metadata": {},
   "outputs": [
    {
     "data": {
      "text/plain": [
       "<AtomGroup with 189 atoms>"
      ]
     },
     "execution_count": 29,
     "metadata": {},
     "output_type": "execute_result"
    }
   ],
   "source": [
    "mol"
   ]
  },
  {
   "cell_type": "code",
   "execution_count": 11,
   "metadata": {},
   "outputs": [
    {
     "name": "stdout",
     "output_type": "stream",
     "text": [
      "[   0    6   13   14   19   23   26   33   35   39   42   45   49   50\n",
      "   52   55   56   57   59   61   66   71   75   78   88   95   99  102\n",
      "  105  107  110  113  130  134  137  138  140  145  149  154  164  171\n",
      "  175  181  185  195  202  207  211  212  231  234  240  249  250  254\n",
      "  269  271  275  287  291  311  315  327  328  332  355  356  369  371\n",
      "  373  394  398  403  414  417  420  425  440  444  445  456  460  473\n",
      "  480  484  490  494  512  516  528  529  541  546  550  555  560  562\n",
      "  566  569  579  590  591  592  603  607  627  631  639  643  644  648\n",
      "  667  670  673  676  690  691  712  714  716  723  735  736  738  753\n",
      "  756  757  758  769  773  786  793  797  808  809  810  812  830  834\n",
      "  846  847  866  869  870  872  874  875  877  879  882  885  887  893\n",
      "  896  899  904  914  919  921  925  928  931  933  943  946  948  955\n",
      "  959  963  965  970  971  972  976  987  988  990  992  995  999 1001\n",
      " 1005 1010 1015 1023 1026 1029 1030]\n"
     ]
    }
   ],
   "source": [
    "print(np.str(idx))"
   ]
  },
  {
   "cell_type": "code",
   "execution_count": 106,
   "metadata": {},
   "outputs": [],
   "source": [
    "a = surface_protein(box, 12, u, np.linspace(10,200,191))"
   ]
  },
  {
   "cell_type": "code",
   "execution_count": 107,
   "metadata": {},
   "outputs": [],
   "source": [
    "a.save_idx(time_ndx, 'hello.ndx')"
   ]
  },
  {
   "cell_type": "code",
   "execution_count": 108,
   "metadata": {},
   "outputs": [
    {
     "data": {
      "text/plain": [
       "(289,)"
      ]
     },
     "execution_count": 108,
     "metadata": {},
     "output_type": "execute_result"
    }
   ],
   "source": [
    "time_ndx.shape"
   ]
  },
  {
   "cell_type": "code",
   "execution_count": 102,
   "metadata": {},
   "outputs": [],
   "source": [
    "time_ndx = a.time_surface_protein_idx()"
   ]
  },
  {
   "cell_type": "code",
   "execution_count": 103,
   "metadata": {},
   "outputs": [
    {
     "data": {
      "text/plain": [
       "array([  0,   1,   2,   4,   5,   6,   8,   9,  11,  12,  15,  17,  18,\n",
       "        19,  21,  22,  23,  24,  25,  26,  27,  28,  29,  30,  31,  32,\n",
       "        34,  35,  37,  38,  39,  40,  42,  46,  48,  49,  51,  52,  53,\n",
       "        54,  55,  56,  57,  58,  59,  61,  67,  68,  70,  71,  72,  74,\n",
       "        75,  76,  77,  79,  81,  83,  89,  93,  94,  95,  96,  97,  98,\n",
       "       100, 105, 106, 107, 108, 110, 113, 114, 115, 116, 127, 128, 131,\n",
       "       134, 135, 136, 137, 139, 147, 148, 149, 151, 155, 156, 164, 168,\n",
       "       169, 173, 174, 175, 176, 177, 178, 179, 180, 185, 189, 190, 191,\n",
       "       192, 197, 198, 199, 200, 201, 202, 204, 213, 214, 215, 217, 219,\n",
       "       220, 221, 222, 223, 224, 226, 231, 233, 234, 235, 236, 237, 239,\n",
       "       242, 243, 244, 246, 251, 252, 256, 257, 260, 261, 263, 272, 273,\n",
       "       274, 280, 281, 282, 290, 293, 295, 296, 298, 301, 302, 303, 305,\n",
       "       306, 308, 310, 313, 314, 315, 316, 317, 318, 319, 320, 323, 324,\n",
       "       325, 327, 330, 332, 336, 337, 342, 343, 344, 345, 347, 356, 357,\n",
       "       358, 359, 360, 366, 367, 368, 375, 379, 381, 382, 383, 384, 387,\n",
       "       388, 391, 392, 393, 394, 396, 399, 401, 404, 405, 406, 407, 409,\n",
       "       413, 414, 416, 422, 425, 426, 427, 432, 433, 434, 435, 436, 437,\n",
       "       443, 446, 447, 448, 455, 456, 467, 468, 469, 470, 471, 472, 473,\n",
       "       474, 476, 478, 479, 480, 481, 482, 483, 485, 490, 492, 493, 494,\n",
       "       495, 496, 497, 498, 499, 500, 502, 503, 505, 506, 508, 510, 512,\n",
       "       513, 516, 517, 518, 519, 520, 521, 522, 523, 524, 525, 528, 529,\n",
       "       530, 531, 532, 533, 536, 537, 538, 539, 540, 542, 545, 548, 549,\n",
       "       550, 552, 553], dtype=int64)"
      ]
     },
     "execution_count": 103,
     "metadata": {},
     "output_type": "execute_result"
    }
   ],
   "source": [
    "time_ndx"
   ]
  },
  {
   "cell_type": "code",
   "execution_count": null,
   "metadata": {},
   "outputs": [],
   "source": [
    "time_ndx"
   ]
  },
  {
   "cell_type": "code",
   "execution_count": 10,
   "metadata": {},
   "outputs": [],
   "source": [
    "protein = u.select_atoms('protein and not (name H*)')\n",
    "water = u.select_atoms('name OW')"
   ]
  },
  {
   "cell_type": "code",
   "execution_count": 25,
   "metadata": {},
   "outputs": [],
   "source": [
    "idx = a.get_nn_idx(protein,water)"
   ]
  },
  {
   "cell_type": "code",
   "execution_count": 66,
   "metadata": {},
   "outputs": [
    {
     "ename": "SyntaxError",
     "evalue": "illegal target for annotation (<ipython-input-66-48e2e1eb5542>, line 1)",
     "output_type": "error",
     "traceback": [
      "\u001b[1;36m  File \u001b[1;32m\"<ipython-input-66-48e2e1eb5542>\"\u001b[1;36m, line \u001b[1;32m1\u001b[0m\n\u001b[1;33m    0:2\u001b[0m\n\u001b[1;37m    ^\u001b[0m\n\u001b[1;31mSyntaxError\u001b[0m\u001b[1;31m:\u001b[0m illegal target for annotation\n"
     ]
    }
   ],
   "source": [
    "0:2"
   ]
  },
  {
   "cell_type": "code",
   "execution_count": 64,
   "metadata": {},
   "outputs": [
    {
     "data": {
      "text/plain": [
       "<Atom 1: N of type N3 of resname GLN, resid 0 and segid seg_0_Protein>"
      ]
     },
     "execution_count": 64,
     "metadata": {},
     "output_type": "execute_result"
    }
   ],
   "source": [
    "aaa[0]"
   ]
  },
  {
   "cell_type": "code",
   "execution_count": 59,
   "metadata": {},
   "outputs": [],
   "source": [
    "bbb = u.select_atoms(\"protein\")"
   ]
  },
  {
   "cell_type": "code",
   "execution_count": 61,
   "metadata": {},
   "outputs": [
    {
     "data": {
      "text/plain": [
       "<Atom 1: N of type N3 of resname GLN, resid 0 and segid seg_0_Protein>"
      ]
     },
     "execution_count": 61,
     "metadata": {},
     "output_type": "execute_result"
    }
   ],
   "source": [
    "bbb[0]"
   ]
  },
  {
   "cell_type": "code",
   "execution_count": 55,
   "metadata": {},
   "outputs": [
    {
     "data": {
      "text/plain": [
       "<Atom 52: H of type H of resname GLY, resid 4 and segid seg_0_Protein>"
      ]
     },
     "execution_count": 55,
     "metadata": {},
     "output_type": "execute_result"
    }
   ],
   "source": [
    "aaa[51]"
   ]
  },
  {
   "cell_type": "code",
   "execution_count": 26,
   "metadata": {},
   "outputs": [
    {
     "data": {
      "text/plain": [
       "array([  0,   2,   5,   6,   9,  11,  12,  17,  18,  19,  21,  23,  25,\n",
       "        26,  27,  28,  29,  30,  31,  32,  34,  37,  39,  42,  48,  52,\n",
       "        53,  55,  57,  58,  59,  61,  71,  72,  74,  75,  76,  79,  81,\n",
       "        83,  89,  93,  94,  98, 100, 106, 110, 113, 115, 116, 127, 128,\n",
       "       131, 136, 137, 139, 147, 148, 149, 155, 156, 168, 169, 176, 177,\n",
       "       179, 191, 192, 199, 200, 201, 214, 215, 217, 222, 223, 224, 226,\n",
       "       234, 236, 237, 243, 244, 252, 256, 257, 261, 263, 273, 274, 281,\n",
       "       282, 290, 293, 295, 298, 301, 302, 303, 305, 310, 315, 316, 317,\n",
       "       323, 324, 336, 337, 342, 344, 345, 347, 357, 358, 359, 360, 367,\n",
       "       368, 381, 382, 383, 387, 393, 394, 396, 404, 405, 406, 407, 413,\n",
       "       414, 422, 426, 427, 433, 434, 435, 437, 447, 448, 455, 456, 467,\n",
       "       468, 469, 470, 471, 472, 473, 474, 476, 478, 479, 481, 482, 483,\n",
       "       485, 490, 493, 494, 495, 497, 499, 500, 505, 506, 508, 512, 513,\n",
       "       516, 517, 519, 520, 521, 523, 529, 530, 531, 532, 533, 536, 537,\n",
       "       539, 542, 545, 549, 550, 552, 553], dtype=int64)"
      ]
     },
     "execution_count": 26,
     "metadata": {},
     "output_type": "execute_result"
    }
   ],
   "source": [
    "idx"
   ]
  },
  {
   "cell_type": "code",
   "execution_count": 109,
   "metadata": {},
   "outputs": [],
   "source": [
    "def get_nn_idx(protein, water):\n",
    "    pos_p = protein.positions\n",
    "    pos_w = water.positions\n",
    "    dist = np.abs(pos_w[:,np.newaxis,:] - pos_p)\n",
    "    cond = dist > box/2\n",
    "    dr = box*cond - dist \n",
    "    distance = np.sqrt((dr**2).sum(axis=-1))\n",
    "    \n",
    "    idx = np.argmin(distance, axis = 1)\n",
    "    idx = np.unique(idx)\n",
    "    \n",
    "    return idx"
   ]
  },
  {
   "cell_type": "code",
   "execution_count": 110,
   "metadata": {},
   "outputs": [],
   "source": [
    "def time_idx(time_array, universe):\n",
    "    \n",
    "    time_ndx = []\n",
    "    \n",
    "    for i in time_array:\n",
    "        u.trajectory[np.int(i)]\n",
    "        protein = u.select_atoms('protein and not (name H*)')\n",
    "        water = u.select_atoms('name OW')\n",
    "        nn = get_nn_idx(protein,water)\n",
    "        time_ndx += [nn]\n",
    "    \n",
    "    return time_ndx"
   ]
  },
  {
   "cell_type": "code",
   "execution_count": 111,
   "metadata": {},
   "outputs": [],
   "source": [
    "def include_idx(time_ndx):\n",
    "    reference = time_ndx[0]\n",
    "    \n",
    "    for i in time_ndx:\n",
    "        new = np.concatenate((reference,i))\n",
    "        new = np.unique(new)\n",
    "        reference = new\n",
    "    \n",
    "    return new"
   ]
  },
  {
   "cell_type": "code",
   "execution_count": 53,
   "metadata": {},
   "outputs": [],
   "source": [
    "def water_in_sphere(protein, water, radius):\n",
    "    pos_p = protein.positions\n",
    "    pos_w = water.positions\n",
    "    dist = np.abs(pos_w[:,np.newaxis,:] - pos_p)\n",
    "    cond = dist > box/2\n",
    "    dr = box*cond - dist \n",
    "    distance = np.sqrt((dr**2).sum(axis=-1))\n",
    "    \n",
    "    condd = distance < radius\n",
    "    nn = np.any(cond, axis = 1)\n",
    "    \n",
    "    print(nn)\n",
    "    \n",
    "    probe_water = np.count_nonzero(nn)"
   ]
  },
  {
   "cell_type": "code",
   "execution_count": 213,
   "metadata": {},
   "outputs": [],
   "source": [
    "file = open('surface.ndx', 'w')\n",
    "for i in ndx:\n",
    "    file.write(np.str(i)+\"\\n\")\n",
    "file.close()"
   ]
  },
  {
   "cell_type": "code",
   "execution_count": null,
   "metadata": {},
   "outputs": [],
   "source": [
    "-----------practice----------------"
   ]
  },
  {
   "cell_type": "code",
   "execution_count": 117,
   "metadata": {},
   "outputs": [],
   "source": [
    "u.trajectory[0]\n",
    "protein = u.select_atoms('protein and not (name H*)')\n",
    "water = u.select_atoms('name OW')"
   ]
  },
  {
   "cell_type": "code",
   "execution_count": 120,
   "metadata": {},
   "outputs": [],
   "source": [
    "idx = get_nn_idx(protein, water)"
   ]
  },
  {
   "cell_type": "code",
   "execution_count": 121,
   "metadata": {},
   "outputs": [
    {
     "data": {
      "text/plain": [
       "array([  0,   2,   5,   6,   9,  11,  12,  17,  18,  19,  21,  23,  25,\n",
       "        26,  27,  28,  29,  30,  31,  32,  34,  37,  39,  42,  48,  52,\n",
       "        53,  55,  57,  58,  59,  61,  71,  72,  74,  75,  76,  79,  81,\n",
       "        83,  89,  93,  94,  98, 100, 106, 110, 113, 115, 116, 127, 128,\n",
       "       131, 136, 137, 139, 147, 148, 149, 155, 156, 168, 169, 176, 177,\n",
       "       179, 191, 192, 199, 200, 201, 214, 215, 217, 222, 223, 224, 226,\n",
       "       234, 236, 237, 243, 244, 252, 256, 257, 261, 263, 273, 274, 281,\n",
       "       282, 290, 293, 295, 298, 301, 302, 303, 305, 310, 315, 316, 317,\n",
       "       323, 324, 336, 337, 342, 344, 345, 347, 357, 358, 359, 360, 367,\n",
       "       368, 381, 382, 383, 387, 393, 394, 396, 404, 405, 406, 407, 413,\n",
       "       414, 422, 426, 427, 433, 434, 435, 437, 447, 448, 455, 456, 467,\n",
       "       468, 469, 470, 471, 472, 473, 474, 476, 478, 479, 481, 482, 483,\n",
       "       485, 490, 493, 494, 495, 497, 499, 500, 505, 506, 508, 512, 513,\n",
       "       516, 517, 519, 520, 521, 523, 529, 530, 531, 532, 533, 536, 537,\n",
       "       539, 542, 545, 549, 550, 552, 553], dtype=int64)"
      ]
     },
     "execution_count": 121,
     "metadata": {},
     "output_type": "execute_result"
    }
   ],
   "source": []
  },
  {
   "cell_type": "code",
   "execution_count": 143,
   "metadata": {},
   "outputs": [
    {
     "ename": "AttributeError",
     "evalue": "Atom has no attribute atom_number. ",
     "output_type": "error",
     "traceback": [
      "\u001b[1;31m---------------------------------------------------------------------------\u001b[0m",
      "\u001b[1;31mAttributeError\u001b[0m                            Traceback (most recent call last)",
      "\u001b[1;32m<ipython-input-143-0dfbcb6b66d2>\u001b[0m in \u001b[0;36m<module>\u001b[1;34m\u001b[0m\n\u001b[0;32m      1\u001b[0m \u001b[1;32mfor\u001b[0m \u001b[0mi\u001b[0m \u001b[1;32min\u001b[0m \u001b[0midx\u001b[0m\u001b[1;33m:\u001b[0m\u001b[1;33m\u001b[0m\u001b[1;33m\u001b[0m\u001b[0m\n\u001b[1;32m----> 2\u001b[1;33m     \u001b[0mprint\u001b[0m\u001b[1;33m(\u001b[0m\u001b[0mprotein\u001b[0m\u001b[1;33m[\u001b[0m\u001b[0mi\u001b[0m\u001b[1;33m]\u001b[0m\u001b[1;33m.\u001b[0m\u001b[0matom_number\u001b[0m\u001b[1;33m)\u001b[0m\u001b[1;33m\u001b[0m\u001b[1;33m\u001b[0m\u001b[0m\n\u001b[0m\u001b[0;32m      3\u001b[0m     \u001b[0mprint\u001b[0m\u001b[1;33m(\u001b[0m\u001b[0mi\u001b[0m\u001b[1;33m)\u001b[0m\u001b[1;33m\u001b[0m\u001b[1;33m\u001b[0m\u001b[0m\n",
      "\u001b[1;32m~\\anaconda3\\lib\\site-packages\\MDAnalysis\\core\\groups.py\u001b[0m in \u001b[0;36m__getattr__\u001b[1;34m(self, attr)\u001b[0m\n\u001b[0;32m   3703\u001b[0m         \u001b[1;32melif\u001b[0m \u001b[0mattr\u001b[0m \u001b[1;33m==\u001b[0m \u001b[1;34m'position'\u001b[0m\u001b[1;33m:\u001b[0m\u001b[1;33m\u001b[0m\u001b[1;33m\u001b[0m\u001b[0m\n\u001b[0;32m   3704\u001b[0m             \u001b[1;32mraise\u001b[0m \u001b[0mNoDataError\u001b[0m\u001b[1;33m(\u001b[0m\u001b[1;34m'This Universe has no coordinates'\u001b[0m\u001b[1;33m)\u001b[0m\u001b[1;33m\u001b[0m\u001b[1;33m\u001b[0m\u001b[0m\n\u001b[1;32m-> 3705\u001b[1;33m         \u001b[1;32mreturn\u001b[0m \u001b[0msuper\u001b[0m\u001b[1;33m(\u001b[0m\u001b[0mAtom\u001b[0m\u001b[1;33m,\u001b[0m \u001b[0mself\u001b[0m\u001b[1;33m)\u001b[0m\u001b[1;33m.\u001b[0m\u001b[0m__getattr__\u001b[0m\u001b[1;33m(\u001b[0m\u001b[0mattr\u001b[0m\u001b[1;33m)\u001b[0m\u001b[1;33m\u001b[0m\u001b[1;33m\u001b[0m\u001b[0m\n\u001b[0m\u001b[0;32m   3706\u001b[0m \u001b[1;33m\u001b[0m\u001b[0m\n\u001b[0;32m   3707\u001b[0m     \u001b[1;33m@\u001b[0m\u001b[0mproperty\u001b[0m\u001b[1;33m\u001b[0m\u001b[1;33m\u001b[0m\u001b[0m\n",
      "\u001b[1;32m~\\anaconda3\\lib\\site-packages\\MDAnalysis\\core\\groups.py\u001b[0m in \u001b[0;36m__getattr__\u001b[1;34m(self, attr)\u001b[0m\n\u001b[0;32m   3583\u001b[0m                 \u001b[1;32mraise\u001b[0m \u001b[0mNoDataError\u001b[0m\u001b[1;33m(\u001b[0m\u001b[0merr\u001b[0m\u001b[1;33m.\u001b[0m\u001b[0mformat\u001b[0m\u001b[1;33m(\u001b[0m\u001b[0msingular\u001b[0m\u001b[1;33m=\u001b[0m\u001b[0mcls\u001b[0m\u001b[1;33m.\u001b[0m\u001b[0msingular\u001b[0m\u001b[1;33m)\u001b[0m\u001b[1;33m)\u001b[0m\u001b[1;33m\u001b[0m\u001b[1;33m\u001b[0m\u001b[0m\n\u001b[0;32m   3584\u001b[0m         \u001b[1;32melse\u001b[0m\u001b[1;33m:\u001b[0m\u001b[1;33m\u001b[0m\u001b[1;33m\u001b[0m\u001b[0m\n\u001b[1;32m-> 3585\u001b[1;33m             \u001b[1;32mreturn\u001b[0m \u001b[0msuper\u001b[0m\u001b[1;33m(\u001b[0m\u001b[0mComponentBase\u001b[0m\u001b[1;33m,\u001b[0m \u001b[0mself\u001b[0m\u001b[1;33m)\u001b[0m\u001b[1;33m.\u001b[0m\u001b[0m__getattr__\u001b[0m\u001b[1;33m(\u001b[0m\u001b[0mattr\u001b[0m\u001b[1;33m)\u001b[0m\u001b[1;33m\u001b[0m\u001b[1;33m\u001b[0m\u001b[0m\n\u001b[0m\u001b[0;32m   3586\u001b[0m \u001b[1;33m\u001b[0m\u001b[0m\n\u001b[0;32m   3587\u001b[0m     \u001b[1;32mdef\u001b[0m \u001b[0m__lt__\u001b[0m\u001b[1;33m(\u001b[0m\u001b[0mself\u001b[0m\u001b[1;33m,\u001b[0m \u001b[0mother\u001b[0m\u001b[1;33m)\u001b[0m\u001b[1;33m:\u001b[0m\u001b[1;33m\u001b[0m\u001b[1;33m\u001b[0m\u001b[0m\n",
      "\u001b[1;32m~\\anaconda3\\lib\\site-packages\\MDAnalysis\\core\\groups.py\u001b[0m in \u001b[0;36m__getattr__\u001b[1;34m(self, attr)\u001b[0m\n\u001b[0;32m    387\u001b[0m                 \u001b[0mmatch\u001b[0m \u001b[1;33m=\u001b[0m \u001b[0m_TOPOLOGY_ATTRNAMES\u001b[0m\u001b[1;33m[\u001b[0m\u001b[0mclean\u001b[0m\u001b[1;33m]\u001b[0m\u001b[1;33m\u001b[0m\u001b[1;33m\u001b[0m\u001b[0m\n\u001b[0;32m    388\u001b[0m                 \u001b[0merr\u001b[0m \u001b[1;33m+=\u001b[0m \u001b[1;34m'Did you mean {match}?'\u001b[0m\u001b[1;33m.\u001b[0m\u001b[0mformat\u001b[0m\u001b[1;33m(\u001b[0m\u001b[0mmatch\u001b[0m\u001b[1;33m=\u001b[0m\u001b[0mmatch\u001b[0m\u001b[1;33m)\u001b[0m\u001b[1;33m\u001b[0m\u001b[1;33m\u001b[0m\u001b[0m\n\u001b[1;32m--> 389\u001b[1;33m             \u001b[1;32mraise\u001b[0m \u001b[0mAttributeError\u001b[0m\u001b[1;33m(\u001b[0m\u001b[0merr\u001b[0m\u001b[1;33m)\u001b[0m\u001b[1;33m\u001b[0m\u001b[1;33m\u001b[0m\u001b[0m\n\u001b[0m\u001b[0;32m    390\u001b[0m \u001b[1;33m\u001b[0m\u001b[0m\n\u001b[0;32m    391\u001b[0m \u001b[1;33m\u001b[0m\u001b[0m\n",
      "\u001b[1;31mAttributeError\u001b[0m: Atom has no attribute atom_number. "
     ]
    }
   ],
   "source": [
    "for i in idx:\n",
    "    print(protein[i].atom_number)\n",
    "    print(i)"
   ]
  },
  {
   "cell_type": "code",
   "execution_count": 151,
   "metadata": {},
   "outputs": [
    {
     "data": {
      "text/plain": [
       "array([   0,    6,   13,   14,   19,   23,   26,   33,   35,   39,   42,\n",
       "         45,   49,   50,   52,   55,   56,   57,   59,   61,   66,   71,\n",
       "         75,   78,   88,   95,   99,  102,  105,  107,  110,  113,  130,\n",
       "        134,  137,  138,  140,  145,  149,  154,  164,  171,  175,  181,\n",
       "        185,  195,  202,  207,  211,  212,  231,  234,  240,  249,  250,\n",
       "        254,  269,  271,  275,  287,  291,  311,  315,  327,  328,  332,\n",
       "        355,  356,  369,  371,  373,  394,  398,  403,  414,  417,  420,\n",
       "        425,  440,  444,  445,  456,  460,  473,  480,  484,  490,  494,\n",
       "        512,  516,  528,  529,  541,  546,  550,  555,  560,  562,  566,\n",
       "        569,  579,  590,  591,  592,  603,  607,  627,  631,  639,  643,\n",
       "        644,  648,  667,  670,  673,  676,  690,  691,  712,  714,  716,\n",
       "        723,  735,  736,  738,  753,  756,  757,  758,  769,  773,  786,\n",
       "        793,  797,  808,  809,  810,  812,  830,  834,  846,  847,  866,\n",
       "        869,  870,  872,  874,  875,  877,  879,  882,  885,  887,  893,\n",
       "        896,  899,  904,  914,  919,  921,  925,  928,  931,  933,  943,\n",
       "        946,  948,  955,  959,  963,  965,  970,  971,  972,  976,  987,\n",
       "        988,  990,  992,  995,  999, 1001, 1005, 1010, 1015, 1023, 1026,\n",
       "       1029, 1030], dtype=int64)"
      ]
     },
     "execution_count": 151,
     "metadata": {},
     "output_type": "execute_result"
    }
   ],
   "source": [
    "protein[idx].indices"
   ]
  },
  {
   "cell_type": "code",
   "execution_count": null,
   "metadata": {},
   "outputs": [],
   "source": []
  },
  {
   "cell_type": "code",
   "execution_count": 217,
   "metadata": {},
   "outputs": [],
   "source": [
    "pos_p = protein.positions\n",
    "pos_w = water.positions\n",
    "dist = np.abs(pos_w[:,np.newaxis,:] - pos_p)\n",
    "cond = dist > box/2\n",
    "dr = box*cond - dist \n",
    "distance = np.sqrt((dr**2).sum(axis=-1))"
   ]
  },
  {
   "cell_type": "code",
   "execution_count": 222,
   "metadata": {},
   "outputs": [],
   "source": [
    "distance.shape\n",
    "radius = 12\n",
    "cond = distance < radius"
   ]
  },
  {
   "cell_type": "code",
   "execution_count": 228,
   "metadata": {},
   "outputs": [],
   "source": [
    "nn = np.any(cond, axis = 1)"
   ]
  },
  {
   "cell_type": "code",
   "execution_count": 231,
   "metadata": {},
   "outputs": [
    {
     "name": "stdout",
     "output_type": "stream",
     "text": [
      "1915\n"
     ]
    }
   ],
   "source": [
    "print(np.count_nonzero(nn))"
   ]
  },
  {
   "cell_type": "code",
   "execution_count": null,
   "metadata": {},
   "outputs": [],
   "source": []
  },
  {
   "cell_type": "code",
   "execution_count": 221,
   "metadata": {},
   "outputs": [
    {
     "name": "stdout",
     "output_type": "stream",
     "text": [
      "[False False  True]\n",
      "True\n"
     ]
    }
   ],
   "source": [
    "a = np.array([10,20,1])\n",
    "cond = a < 5\n",
    "print(cond)\n",
    "print(np.any(cond))"
   ]
  },
  {
   "cell_type": "code",
   "execution_count": 185,
   "metadata": {},
   "outputs": [],
   "source": [
    "aa = np.array([1,2])\n",
    "bb = np.array([2,3,5])"
   ]
  },
  {
   "cell_type": "code",
   "execution_count": 189,
   "metadata": {},
   "outputs": [],
   "source": [
    "cc = np.concatenate((aa,bb))"
   ]
  },
  {
   "cell_type": "code",
   "execution_count": 191,
   "metadata": {},
   "outputs": [],
   "source": [
    "cc = np.unique(cc)"
   ]
  },
  {
   "cell_type": "code",
   "execution_count": 192,
   "metadata": {},
   "outputs": [
    {
     "data": {
      "text/plain": [
       "array([1, 2, 3, 5])"
      ]
     },
     "execution_count": 192,
     "metadata": {},
     "output_type": "execute_result"
    }
   ],
   "source": [
    "cc"
   ]
  },
  {
   "cell_type": "code",
   "execution_count": 183,
   "metadata": {},
   "outputs": [],
   "source": [
    "ndx = time_ndx[0]\n",
    "\n",
    "for i in time_ndx:\n",
    "    "
   ]
  },
  {
   "cell_type": "code",
   "execution_count": 150,
   "metadata": {},
   "outputs": [
    {
     "name": "stdout",
     "output_type": "stream",
     "text": [
      "wrong at 0th index\n",
      "wrong at 1th index\n",
      "wrong at 2th index\n",
      "wrong at 3th index\n",
      "wrong at 4th index\n",
      "wrong at 5th index\n",
      "wrong at 6th index\n",
      "wrong at 7th index\n",
      "wrong at 8th index\n",
      "wrong at 9th index\n",
      "wrong at 10th index\n",
      "wrong at 11th index\n",
      "wrong at 12th index\n",
      "wrong at 13th index\n",
      "wrong at 14th index\n",
      "wrong at 15th index\n",
      "wrong at 16th index\n",
      "wrong at 17th index\n",
      "wrong at 18th index\n",
      "wrong at 19th index\n",
      "wrong at 20th index\n",
      "wrong at 21th index\n",
      "wrong at 22th index\n",
      "wrong at 23th index\n",
      "wrong at 24th index\n",
      "wrong at 25th index\n",
      "wrong at 26th index\n",
      "wrong at 27th index\n",
      "wrong at 28th index\n",
      "wrong at 29th index\n",
      "wrong at 30th index\n",
      "wrong at 31th index\n",
      "wrong at 32th index\n",
      "wrong at 33th index\n",
      "wrong at 34th index\n",
      "wrong at 35th index\n",
      "wrong at 36th index\n",
      "wrong at 37th index\n",
      "wrong at 38th index\n",
      "wrong at 39th index\n",
      "wrong at 40th index\n",
      "wrong at 41th index\n",
      "wrong at 42th index\n",
      "wrong at 43th index\n",
      "wrong at 44th index\n",
      "wrong at 45th index\n",
      "wrong at 46th index\n",
      "wrong at 47th index\n",
      "wrong at 48th index\n",
      "wrong at 49th index\n",
      "wrong at 50th index\n",
      "wrong at 51th index\n",
      "wrong at 52th index\n",
      "wrong at 53th index\n",
      "wrong at 54th index\n",
      "wrong at 55th index\n",
      "wrong at 56th index\n",
      "wrong at 57th index\n",
      "wrong at 58th index\n",
      "wrong at 59th index\n",
      "wrong at 60th index\n",
      "wrong at 61th index\n",
      "wrong at 62th index\n",
      "wrong at 63th index\n",
      "wrong at 64th index\n",
      "wrong at 65th index\n",
      "wrong at 66th index\n",
      "wrong at 67th index\n",
      "wrong at 68th index\n",
      "wrong at 69th index\n",
      "wrong at 70th index\n",
      "wrong at 71th index\n",
      "wrong at 72th index\n",
      "wrong at 73th index\n",
      "wrong at 74th index\n",
      "wrong at 75th index\n",
      "wrong at 76th index\n",
      "wrong at 77th index\n",
      "wrong at 78th index\n",
      "wrong at 79th index\n",
      "wrong at 80th index\n",
      "wrong at 81th index\n",
      "wrong at 82th index\n",
      "wrong at 83th index\n",
      "wrong at 84th index\n",
      "wrong at 85th index\n",
      "wrong at 86th index\n",
      "wrong at 87th index\n",
      "wrong at 88th index\n",
      "wrong at 89th index\n",
      "wrong at 90th index\n",
      "wrong at 91th index\n",
      "wrong at 92th index\n",
      "wrong at 93th index\n",
      "wrong at 94th index\n",
      "wrong at 95th index\n",
      "wrong at 96th index\n",
      "wrong at 97th index\n",
      "wrong at 98th index\n",
      "wrong at 99th index\n",
      "wrong at 100th index\n",
      "wrong at 101th index\n",
      "wrong at 102th index\n",
      "wrong at 103th index\n",
      "wrong at 104th index\n",
      "wrong at 105th index\n",
      "wrong at 106th index\n",
      "wrong at 107th index\n",
      "wrong at 108th index\n",
      "wrong at 109th index\n",
      "wrong at 110th index\n",
      "wrong at 111th index\n",
      "wrong at 112th index\n",
      "wrong at 113th index\n",
      "wrong at 114th index\n",
      "wrong at 115th index\n",
      "wrong at 116th index\n",
      "wrong at 117th index\n",
      "wrong at 118th index\n",
      "wrong at 119th index\n",
      "wrong at 120th index\n",
      "wrong at 121th index\n",
      "wrong at 122th index\n",
      "wrong at 123th index\n",
      "wrong at 124th index\n",
      "wrong at 125th index\n",
      "wrong at 126th index\n",
      "wrong at 127th index\n",
      "wrong at 128th index\n",
      "wrong at 129th index\n",
      "wrong at 130th index\n",
      "wrong at 131th index\n",
      "wrong at 132th index\n",
      "wrong at 133th index\n",
      "wrong at 134th index\n",
      "wrong at 135th index\n",
      "wrong at 136th index\n",
      "wrong at 137th index\n",
      "wrong at 138th index\n",
      "wrong at 139th index\n",
      "wrong at 140th index\n",
      "wrong at 141th index\n",
      "wrong at 142th index\n",
      "wrong at 143th index\n",
      "wrong at 144th index\n",
      "wrong at 145th index\n",
      "wrong at 146th index\n",
      "wrong at 147th index\n",
      "wrong at 148th index\n",
      "wrong at 149th index\n",
      "wrong at 150th index\n",
      "wrong at 151th index\n",
      "wrong at 152th index\n",
      "wrong at 153th index\n",
      "wrong at 154th index\n",
      "wrong at 155th index\n",
      "wrong at 156th index\n",
      "wrong at 157th index\n",
      "wrong at 158th index\n",
      "wrong at 159th index\n",
      "wrong at 160th index\n",
      "wrong at 161th index\n",
      "wrong at 162th index\n",
      "wrong at 163th index\n",
      "wrong at 164th index\n",
      "wrong at 165th index\n",
      "wrong at 166th index\n",
      "wrong at 167th index\n",
      "wrong at 168th index\n",
      "wrong at 169th index\n",
      "wrong at 170th index\n",
      "wrong at 171th index\n",
      "wrong at 172th index\n",
      "wrong at 173th index\n",
      "wrong at 174th index\n",
      "wrong at 175th index\n",
      "wrong at 176th index\n",
      "wrong at 177th index\n",
      "wrong at 178th index\n",
      "wrong at 179th index\n",
      "wrong at 180th index\n",
      "wrong at 181th index\n",
      "wrong at 182th index\n",
      "wrong at 183th index\n",
      "wrong at 184th index\n",
      "wrong at 185th index\n",
      "wrong at 186th index\n",
      "wrong at 187th index\n",
      "wrong at 188th index\n",
      "wrong at 189th index\n"
     ]
    }
   ],
   "source": [
    "reference = time_ndx[0]\n",
    "\n",
    "p = 0\n",
    "wrong = 0\n",
    "for i in time_ndx:\n",
    "    if np.array_equal(reference,i):\n",
    "        continue\n",
    "    else:\n",
    "        wrong += 1\n",
    "        print(f'wrong at {p}th index')\n",
    "    p += 1"
   ]
  },
  {
   "cell_type": "code",
   "execution_count": 177,
   "metadata": {},
   "outputs": [],
   "source": [
    "reference = time_ndx[0]\n",
    "reference = reference.shape[0]\n",
    "\n",
    "p = 0\n",
    "for i in time_ndx:\n",
    "    index_len = i.shape[0]\n",
    "    \n",
    "    \n",
    "    big_len = max(reference,index_len)\n",
    "    if big_len == index_len:\n",
    "        bbb = p\n",
    "    \n",
    "    reference = big_len\n",
    "    p += 1"
   ]
  },
  {
   "cell_type": "code",
   "execution_count": 169,
   "metadata": {},
   "outputs": [],
   "source": [
    "reference = time_ndx[0]\n",
    "reference = reference.shape[0]\n"
   ]
  },
  {
   "cell_type": "code",
   "execution_count": 182,
   "metadata": {},
   "outputs": [
    {
     "data": {
      "text/plain": [
       "(192,)"
      ]
     },
     "execution_count": 182,
     "metadata": {},
     "output_type": "execute_result"
    }
   ],
   "source": [
    "time_ndx[106].shape"
   ]
  },
  {
   "cell_type": "code",
   "execution_count": 180,
   "metadata": {},
   "outputs": [
    {
     "data": {
      "text/plain": [
       "192"
      ]
     },
     "execution_count": 180,
     "metadata": {},
     "output_type": "execute_result"
    }
   ],
   "source": [
    "big_len"
   ]
  },
  {
   "cell_type": "code",
   "execution_count": 158,
   "metadata": {},
   "outputs": [
    {
     "data": {
      "text/plain": [
       "False"
      ]
     },
     "execution_count": 158,
     "metadata": {},
     "output_type": "execute_result"
    }
   ],
   "source": [
    "np.array_equal(reference, time_ndx[6])"
   ]
  },
  {
   "cell_type": "code",
   "execution_count": 167,
   "metadata": {},
   "outputs": [
    {
     "data": {
      "text/plain": [
       "178"
      ]
     },
     "execution_count": 167,
     "metadata": {},
     "output_type": "execute_result"
    }
   ],
   "source": [
    "reference.shape[0]"
   ]
  },
  {
   "cell_type": "code",
   "execution_count": 149,
   "metadata": {},
   "outputs": [
    {
     "data": {
      "text/plain": [
       "(178,)"
      ]
     },
     "execution_count": 149,
     "metadata": {},
     "output_type": "execute_result"
    }
   ],
   "source": [
    "reference.shape"
   ]
  },
  {
   "cell_type": "code",
   "execution_count": 147,
   "metadata": {},
   "outputs": [
    {
     "data": {
      "text/plain": [
       "False"
      ]
     },
     "execution_count": 147,
     "metadata": {},
     "output_type": "execute_result"
    }
   ],
   "source": [
    "np.array_equal(i, reference)"
   ]
  },
  {
   "cell_type": "code",
   "execution_count": 109,
   "metadata": {},
   "outputs": [],
   "source": [
    "protein = u.select_atoms('protein and not (name H*)')\n",
    "water = u.select_atoms('name OW')\n",
    "pos_p = protein.positions\n",
    "pos_w = water.positions"
   ]
  },
  {
   "cell_type": "code",
   "execution_count": 124,
   "metadata": {},
   "outputs": [],
   "source": [
    "dist = np.abs(pos_w[:,np.newaxis,:] - pos_p)\n",
    "cond = dist > box/2\n",
    "dr = box*cond - dist \n",
    "distance = np.sqrt((dr**2).sum(axis=-1))\n",
    "\n",
    "\n",
    "idx = np.argmin(distance, axis = 1)\n",
    "idx = np.unique(idx)\n",
    "# idx = []\n",
    "# for i in range distance.shape[0]:\n",
    "    "
   ]
  },
  {
   "cell_type": "code",
   "execution_count": 111,
   "metadata": {},
   "outputs": [
    {
     "data": {
      "text/plain": [
       "(9947, 554)"
      ]
     },
     "execution_count": 111,
     "metadata": {},
     "output_type": "execute_result"
    }
   ],
   "source": [
    "distance.shape"
   ]
  },
  {
   "cell_type": "code",
   "execution_count": 89,
   "metadata": {},
   "outputs": [
    {
     "data": {
      "text/plain": [
       "(554, 9947)"
      ]
     },
     "execution_count": 89,
     "metadata": {},
     "output_type": "execute_result"
    }
   ],
   "source": [
    "distance.shape"
   ]
  },
  {
   "cell_type": "code",
   "execution_count": null,
   "metadata": {},
   "outputs": [],
   "source": [
    "-----------practice-----------"
   ]
  },
  {
   "cell_type": "code",
   "execution_count": 100,
   "metadata": {},
   "outputs": [],
   "source": [
    "try_distance = distance"
   ]
  },
  {
   "cell_type": "code",
   "execution_count": 112,
   "metadata": {},
   "outputs": [],
   "source": [
    "dd = distance[0]"
   ]
  },
  {
   "cell_type": "code",
   "execution_count": 115,
   "metadata": {},
   "outputs": [
    {
     "ename": "TypeError",
     "evalue": "int() argument must be a string, a bytes-like object or a number, not 'tuple'",
     "output_type": "error",
     "traceback": [
      "\u001b[1;31m---------------------------------------------------------------------------\u001b[0m",
      "\u001b[1;31mTypeError\u001b[0m                                 Traceback (most recent call last)",
      "\u001b[1;32m<ipython-input-115-385907f99ce2>\u001b[0m in \u001b[0;36m<module>\u001b[1;34m\u001b[0m\n\u001b[1;32m----> 1\u001b[1;33m \u001b[0mp\u001b[0m \u001b[1;33m=\u001b[0m \u001b[0mnp\u001b[0m\u001b[1;33m.\u001b[0m\u001b[0mint\u001b[0m\u001b[1;33m(\u001b[0m\u001b[0mnp\u001b[0m\u001b[1;33m.\u001b[0m\u001b[0mwhere\u001b[0m\u001b[1;33m(\u001b[0m \u001b[0mdd\u001b[0m \u001b[1;33m==\u001b[0m \u001b[0mnp\u001b[0m\u001b[1;33m.\u001b[0m\u001b[0mamin\u001b[0m\u001b[1;33m(\u001b[0m\u001b[0mdd\u001b[0m\u001b[1;33m)\u001b[0m\u001b[1;33m)\u001b[0m\u001b[1;33m)\u001b[0m\u001b[1;33m\u001b[0m\u001b[1;33m\u001b[0m\u001b[0m\n\u001b[0m",
      "\u001b[1;31mTypeError\u001b[0m: int() argument must be a string, a bytes-like object or a number, not 'tuple'"
     ]
    }
   ],
   "source": [
    "p = np.where( dd == np.amin(dd))"
   ]
  },
  {
   "cell_type": "code",
   "execution_count": 116,
   "metadata": {},
   "outputs": [],
   "source": [
    "idx = np.argmin(distance, axis = 1)"
   ]
  },
  {
   "cell_type": "code",
   "execution_count": 119,
   "metadata": {},
   "outputs": [],
   "source": [
    "idx = np.sort(idx)"
   ]
  },
  {
   "cell_type": "code",
   "execution_count": 121,
   "metadata": {},
   "outputs": [],
   "source": [
    "idx = np.unique(idx)"
   ]
  },
  {
   "cell_type": "code",
   "execution_count": 123,
   "metadata": {},
   "outputs": [
    {
     "data": {
      "text/plain": [
       "(189,)"
      ]
     },
     "execution_count": 123,
     "metadata": {},
     "output_type": "execute_result"
    }
   ],
   "source": [
    "idx.shape"
   ]
  },
  {
   "cell_type": "code",
   "execution_count": null,
   "metadata": {},
   "outputs": [],
   "source": []
  }
 ],
 "metadata": {
  "kernelspec": {
   "display_name": "Python 3",
   "language": "python",
   "name": "python3"
  },
  "language_info": {
   "codemirror_mode": {
    "name": "ipython",
    "version": 3
   },
   "file_extension": ".py",
   "mimetype": "text/x-python",
   "name": "python",
   "nbconvert_exporter": "python",
   "pygments_lexer": "ipython3",
   "version": "3.8.5"
  }
 },
 "nbformat": 4,
 "nbformat_minor": 4
}
