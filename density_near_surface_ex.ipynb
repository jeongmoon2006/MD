{
 "cells": [
  {
   "cell_type": "code",
   "execution_count": 1,
   "metadata": {},
   "outputs": [],
   "source": [
    "import sys\n",
    "import os\n",
    "import numpy as np\n",
    "import MDAnalysis as mda\n",
    "import pandas as pd\n",
    "import matplotlib.pyplot as plt\n",
    "from matplotlib.pyplot import figure"
   ]
  },
  {
   "cell_type": "code",
   "execution_count": 2,
   "metadata": {},
   "outputs": [],
   "source": [
    "cur_path1 = os.getcwd()"
   ]
  },
  {
   "cell_type": "code",
   "execution_count": 3,
   "metadata": {},
   "outputs": [],
   "source": [
    "q_star_arr = [\"100\", \"200\", \"300\", \"400\", \"500\", \"600\", \"700\", \"800\", \"900\", \"1000\", \"1100\", \"1200\", \"1300\", \"1400\", \"1500\", \"1600\", \"1700\", \"1800\", \"1900\", \"2000\", \"2100\", \"2200\" ]\n",
    "# q_star_arr = [ \"100\", \"200\", \"300\", \"400\", \"500\", \"600\", \"700\", \"800\", \"900\", \"1000\",\"1100\", \"1200\", \"1300\", \"1400\",\"1500\", \"1600\", \"1700\", \"1800\", \"1900\", \"2000\", \"2100\", \"2200\" ]"
   ]
  },
  {
   "cell_type": "code",
   "execution_count": 4,
   "metadata": {},
   "outputs": [
    {
     "name": "stdout",
     "output_type": "stream",
     "text": [
      "there are 251 time frames in 100 q_star\n",
      "there are 251 time frames in 200 q_star\n",
      "there are 251 time frames in 300 q_star\n",
      "there are 251 time frames in 400 q_star\n",
      "there are 251 time frames in 500 q_star\n",
      "there are 251 time frames in 600 q_star\n",
      "there are 251 time frames in 700 q_star\n",
      "there are 251 time frames in 800 q_star\n",
      "there are 251 time frames in 900 q_star\n",
      "there are 251 time frames in 1000 q_star\n",
      "there are 251 time frames in 1100 q_star\n",
      "there are 251 time frames in 1200 q_star\n",
      "there are 251 time frames in 1300 q_star\n",
      "there are 251 time frames in 1400 q_star\n",
      "there are 251 time frames in 1500 q_star\n",
      "there are 251 time frames in 1600 q_star\n",
      "there are 251 time frames in 1700 q_star\n",
      "there are 251 time frames in 1800 q_star\n",
      "there are 251 time frames in 1900 q_star\n",
      "there are 251 time frames in 2000 q_star\n",
      "there are 251 time frames in 2100 q_star\n",
      "there are 251 time frames in 2200 q_star\n"
     ]
    }
   ],
   "source": [
    "#Get atom_pos for each universe for each time frame (N, timeframe, positions(M molecules,3))\n",
    "atom_pos = []\n",
    "u_list = []\n",
    "index_file = \"solid_like_atoms.index\"\n",
    "\n",
    "\n",
    "for i in q_star_arr:\n",
    "    work_path = cur_path1 + \"\\\\\" +i\n",
    "    os.chdir(work_path)\n",
    "    u = mda.Universe(\"bias.gro\",\"bias_whole.xtc\")\n",
    "    u_list += [u]\n",
    "    \n",
    "    solid_ndx = []\n",
    "    df = open(index_file, \"r+\")\n",
    "    for line in df.readlines():\n",
    "        solid = np.fromstring(line, dtype=int, sep=' ') -1\n",
    "        solid_ndx += [solid]\n",
    "        \n",
    "    print('there are %s time frames in %s q_star' %(len(solid_ndx), i))\n",
    "    \n",
    "    solid_pos = []\n",
    "    for j in range(len(solid_ndx)):\n",
    "        solid = solid_ndx[j]\n",
    "        solid_poss = np.zeros([len(solid), 3])\n",
    "        for k in range(len(solid)):\n",
    "            solid_poss[k] = u.atoms[solid[k]].position\n",
    "        solid_pos += [solid_poss]\n",
    "\n",
    "    \n",
    "    atom_pos += [solid_pos]\n",
    "    \n",
    "atom_pos = atom_pos[:-1]\n",
    "ref_pos = atom_pos[-1]"
   ]
  },
  {
   "cell_type": "code",
   "execution_count": 5,
   "metadata": {},
   "outputs": [],
   "source": [
    "t_atom_position = atom_pos[0]"
   ]
  },
  {
   "cell_type": "code",
   "execution_count": 6,
   "metadata": {},
   "outputs": [
    {
     "name": "stdout",
     "output_type": "stream",
     "text": [
      "there are 189 surface atoms in this simulation.\n"
     ]
    }
   ],
   "source": [
    "#get surface atom's position\n",
    "# surface_pos is the key\n",
    "\n",
    "u = u_list[-1]\n",
    "ref_indx = \"surface.ndx\"\n",
    "\n",
    "sf = open(ref_indx, \"r+\")\n",
    "surface_ndx = []\n",
    "for line in sf.readlines():\n",
    "    surface_ndx += [np.int(line)]\n",
    "surface_ndx = np.array(surface_ndx)\n",
    "\n",
    "#convert to python scheme\n",
    "surface_ndx = surface_ndx - 1\n",
    "\n",
    "surface_pos = np.zeros([len(surface_ndx), 3])\n",
    "for i in range(len(surface_ndx)):\n",
    "    surface_pos[i] = u.atoms[surface_ndx[i]].position\n",
    "print('there are %s surface atoms in this simulation.' % surface_pos.shape[0])"
   ]
  },
  {
   "cell_type": "code",
   "execution_count": null,
   "metadata": {},
   "outputs": [],
   "source": []
  },
  {
   "cell_type": "code",
   "execution_count": 7,
   "metadata": {},
   "outputs": [],
   "source": [
    "# This code is written by Jeongmoon Choi\n",
    "# email: jeongmoon2006@gmail.com\n",
    "\n",
    "import numpy as np\n",
    "import matplotlib.pyplot as plt\n",
    "from matplotlib.pyplot import figure\n",
    "\n",
    "class density_near_surface:\n",
    "    '''\n",
    "    Calculates density near surface and returns heavy atoms that satisfies density > cutoff\n",
    "    \n",
    "    Args:\n",
    "    atom_pos(list): atom position of interest per simulation, time (# of simulation, # time frame, (# of atom, 3))\n",
    "    ref_pos(list): reference atom position of interest for one simulation. (# time frame, (# of atom, 3))\n",
    "    surface_pos(numpy.ndarray): surface atom position (# of surface atoms, 3)\n",
    "    box(numpy.ndarray): simuation box size (3,)\n",
    "    radius_cutoff(float): cutoff for union of sphere's radius\n",
    "    density_cutoff(float): cutoff for density\n",
    "    \n",
    "    Density counts number of ice molecules surrounded by a sphere centering i'th heavy atom's position and radius as radius_cutoff  \n",
    "\n",
    "    '''\n",
    "    \n",
    "    def __init__(self, atom_pos, ref_pos, surface_pos, box, surface_index, radius_cutoff, density_cutoff=0.5):\n",
    "        self.atom_pos = atom_pos\n",
    "        self.ref_pos = ref_pos\n",
    "        self.surface_pos = surface_pos\n",
    "        self.box = box\n",
    "        self.radius_cutoff = radius_cutoff\n",
    "        self.density_cutoff = density_cutoff\n",
    "        self.surface_index = surface_index\n",
    "        \n",
    "        #for reference\n",
    "        self.ref_solid_count = np.zeros((len(self.surface_pos), len(self.ref_pos))) # (# of surface atom, # of data frame)\n",
    "        self.avg_ref_solid_count = np.zeros(len(self.surface_pos),)\n",
    "        \n",
    "        #for real\n",
    "        self.solid_count = [] # (# of data frame, # of surface atoms, # of simulations)\n",
    "        self.avg_solid_count = []  #( # of surface atoms, # of simulations)\n",
    "        \n",
    "        #if i th surface atom;s density is greater than cutoff, it is 1, if not 0\n",
    "        self.true_density = [] #(# of simulations, # of surface atoms)\n",
    "        # index of surface atom where density is greater than cutoff\n",
    "        self.surface_density_ndx = [] #(# of simulations, # of surface atoms)\n",
    "        \n",
    "        \n",
    "    def get_ref_density(self):\n",
    "        # i for time frame\n",
    "        for i in range(len(self.ref_pos)):\n",
    "            ref_poss = self.ref_pos[i]\n",
    "            dist = np.abs(ref_poss[:, np.newaxis, :] - self.surface_pos)\n",
    "            cond = 1*(dist > self.box/2)\n",
    "            dist = abs(cond*self.box - dist)\n",
    "            dist = np.sum(dist*dist, axis = 2).T\n",
    "            dist = np.sqrt(dist)\n",
    "            \n",
    "            self.ref_solid_count[:,i] = np.count_nonzero( dist < self.radius_cutoff , axis = 1)\n",
    "\n",
    "        self.avg_ref_solid_count = np.average(self.ref_solid_count, axis = 1)\n",
    "        \n",
    "        return self.avg_ref_solid_count\n",
    "    \n",
    "    def get_density(self):\n",
    "        # i for simulation\n",
    "        for i in range(len(self.atom_pos)):\n",
    "            solid_countt = np.zeros((len(self.surface_pos), len(self.ref_pos)))\n",
    "            t_atom_position = self.atom_pos[i]\n",
    "            \n",
    "            #j for time frame\n",
    "            for j in range(len(t_atom_position)):\n",
    "                atom_poss = t_atom_position[j]\n",
    "                dist = np.abs(atom_poss[:, np.newaxis, :] - self.surface_pos)\n",
    "                cond = 1*(dist > self.box/2)\n",
    "                dist = abs(cond*self.box - dist)\n",
    "                dist = np.sum(dist*dist, axis = 2).T\n",
    "                dist = np.sqrt(dist)\n",
    "                \n",
    "                solid_countt[:,j] = np.count_nonzero( dist < self.radius_cutoff, axis = 1)\n",
    "            self.avg_solid_count += [np.average(solid_countt, axis = 1)]\n",
    "        \n",
    "        \n",
    "        return self.avg_solid_count\n",
    "    \n",
    "    def compare_density(self):\n",
    "        # i for simulation\n",
    "        for i in range(len(self.atom_pos)):\n",
    "            density = self.avg_solid_count[i]/self.avg_ref_solid_count\n",
    "            true_density = density > self.density_cutoff\n",
    "            true_density = true_density.astype(int)\n",
    "            surface_index = true_density*self.surface_index\n",
    "            surface_index = surface_index[np.nonzero(surface_index)]\n",
    "            \n",
    "            self.true_density += [true_density]\n",
    "            self.surface_density_ndx += [surface_index]\n",
    "        \n",
    "        return self.true_density, self.surface_density_ndx\n",
    "\n"
   ]
  },
  {
   "cell_type": "code",
   "execution_count": 8,
   "metadata": {},
   "outputs": [],
   "source": [
    "dnf = density_near_surface(atom_pos, ref_pos, surface_pos, np.array([64.6204,   79.5328,   59.6496]), surface_ndx, 12, 0.5)"
   ]
  },
  {
   "cell_type": "code",
   "execution_count": 9,
   "metadata": {},
   "outputs": [],
   "source": [
    "avg_ref_solid_count = dnf.get_ref_density()"
   ]
  },
  {
   "cell_type": "code",
   "execution_count": 10,
   "metadata": {},
   "outputs": [
    {
     "data": {
      "text/plain": [
       "[<matplotlib.lines.Line2D at 0x1f443ab7a00>]"
      ]
     },
     "execution_count": 10,
     "metadata": {},
     "output_type": "execute_result"
    },
    {
     "data": {
      "image/png": "[encoded data removed]",
      "text/plain": [
       "<Figure size 432x288 with 1 Axes>"
      ]
     },
     "metadata": {
      "needs_background": "light"
     },
     "output_type": "display_data"
    }
   ],
   "source": [
    "plt.plot(avg_ref_solid_count)"
   ]
  },
  {
   "cell_type": "code",
   "execution_count": 11,
   "metadata": {},
   "outputs": [
    {
     "data": {
      "text/plain": [
       "[<matplotlib.lines.Line2D at 0x1f444d99220>]"
      ]
     },
     "execution_count": 11,
     "metadata": {},
     "output_type": "execute_result"
    },
    {
     "data": {
      "image/png": "[encoded data removed]",
      "text/plain": [
       "<Figure size 432x288 with 1 Axes>"
      ]
     },
     "metadata": {
      "needs_background": "light"
     },
     "output_type": "display_data"
    }
   ],
   "source": [
    "avg_solid_count = dnf.get_density()\n",
    "plt.plot(avg_solid_count[0])"
   ]
  },
  {
   "cell_type": "code",
   "execution_count": 12,
   "metadata": {},
   "outputs": [
    {
     "name": "stdout",
     "output_type": "stream",
     "text": [
      "21\n"
     ]
    },
    {
     "data": {
      "text/plain": [
       "[<matplotlib.lines.Line2D at 0x1f444dd2d00>]"
      ]
     },
     "execution_count": 12,
     "metadata": {},
     "output_type": "execute_result"
    },
    {
     "data": {
      "image/png": "[encoded data removed]",
      "text/plain": [
       "<Figure size 432x288 with 1 Axes>"
      ]
     },
     "metadata": {
      "needs_background": "light"
     },
     "output_type": "display_data"
    }
   ],
   "source": [
    "print(len(avg_solid_count))\n",
    "plt.plot(avg_ref_solid_count - avg_solid_count[1])"
   ]
  },
  {
   "cell_type": "code",
   "execution_count": 13,
   "metadata": {},
   "outputs": [],
   "source": [
    "true_density, true_surface_index = dnf.compare_density()"
   ]
  },
  {
   "cell_type": "code",
   "execution_count": 19,
   "metadata": {},
   "outputs": [],
   "source": [
    "np.savetxt('icy_heavy_atoms.txt',true_surface_index[-1], fmt='%s')"
   ]
  },
  {
   "cell_type": "code",
   "execution_count": 18,
   "metadata": {},
   "outputs": [
    {
     "data": {
      "text/plain": [
       "array([   6,   13,   14,   19,   23,   26,   33,   35,   39,   42,   45,\n",
       "         49,   50,   52,   55,   56,   57,   59,   61,   66,   71,   75,\n",
       "         78,   88,   95,   99,  102,  105,  107,  110,  113,  130,  134,\n",
       "        137,  138,  140,  145,  149,  154,  164,  171,  175,  181,  185,\n",
       "        195,  202,  207,  211,  212,  231,  234,  240,  249,  250,  254,\n",
       "        269,  271,  275,  287,  291,  311,  315,  327,  328,  332,  355,\n",
       "        356,  369,  371,  373,  394,  398,  403,  414,  417,  420,  425,\n",
       "        440,  444,  445,  456,  460,  473,  480,  484,  490,  494,  512,\n",
       "        516,  528,  529,  541,  546,  550,  555,  560,  562,  566,  569,\n",
       "        579,  590,  591,  592,  603,  607,  627,  631,  639,  643,  644,\n",
       "        648,  667,  670,  673,  676,  690,  691,  712,  714,  716,  723,\n",
       "        735,  736,  738,  753,  756,  757,  758,  769,  773,  786,  793,\n",
       "        797,  808,  809,  810,  812,  830,  834,  846,  847,  866,  869,\n",
       "        870,  872,  874,  875,  877,  879,  882,  885,  887,  893,  896,\n",
       "        899,  904,  914,  919,  921,  925,  928,  931,  933,  943,  946,\n",
       "        948,  955,  959,  963,  965,  970,  971,  972,  976,  987,  988,\n",
       "        990,  992,  995,  999, 1001, 1005, 1010, 1015, 1023, 1026, 1029,\n",
       "       1030])"
      ]
     },
     "execution_count": 18,
     "metadata": {},
     "output_type": "execute_result"
    }
   ],
   "source": [
    "true_surface_index[-1]"
   ]
  },
  {
   "cell_type": "code",
   "execution_count": 32,
   "metadata": {},
   "outputs": [
    {
     "name": "stdout",
     "output_type": "stream",
     "text": [
      "1\n",
      "2\n",
      "3\n",
      "4\n",
      "5\n",
      "6\n",
      "7\n",
      "8\n",
      "9\n",
      "10\n",
      "11\n",
      "12\n",
      "13\n",
      "14\n",
      "15\n",
      "16\n",
      "17\n",
      "18\n",
      "19\n",
      "20\n",
      "21\n"
     ]
    }
   ],
   "source": [
    "#Save file\n",
    "\n",
    "p = 0\n",
    "for i in q_star_arr[:-1]:\n",
    "    work_path = cur_path1 + \"\\\\\" +i\n",
    "    os.chdir(work_path)\n",
    "    tsi = true_surface_index[p]\n",
    "    p += 1\n",
    "    \n",
    "    print(p)\n",
    "    \n",
    "    if len(tsi) == 0:\n",
    "        continue\n",
    "    else:\n",
    "        np.savetxt('icy_heavy_atoms.txt',tsi, fmt='%s')    \n",
    "    "
   ]
  },
  {
   "cell_type": "code",
   "execution_count": 31,
   "metadata": {},
   "outputs": [
    {
     "data": {
      "text/plain": [
       "22"
      ]
     },
     "execution_count": 31,
     "metadata": {},
     "output_type": "execute_result"
    }
   ],
   "source": [
    "len(q_star_arr)"
   ]
  },
  {
   "cell_type": "code",
   "execution_count": 22,
   "metadata": {},
   "outputs": [
    {
     "name": "stdout",
     "output_type": "stream",
     "text": [
      "(0,)\n"
     ]
    }
   ],
   "source": []
  },
  {
   "cell_type": "code",
   "execution_count": 21,
   "metadata": {},
   "outputs": [
    {
     "data": {
      "text/plain": [
       "[array([], dtype=int32),\n",
       " array([], dtype=int32),\n",
       " array([], dtype=int32),\n",
       " array([], dtype=int32),\n",
       " array([287, 315, 456, 473, 480, 484, 603, 627, 631, 797]),\n",
       " array([ 33,  35,  39,  42,  45,  49,  50,  52,  55,  56,  57, 164, 171,\n",
       "        175, 181, 185, 195, 311, 327, 332]),\n",
       " array([ 23,  26,  33,  39, 140, 145, 149, 154, 164, 171, 175, 275, 287,\n",
       "        291, 311, 315, 327, 456, 460, 473, 480, 484, 603, 607, 627, 631,\n",
       "        797]),\n",
       " array([145, 149, 154, 164, 171, 175, 269, 275, 287, 291, 311, 315, 327,\n",
       "        440, 444, 445, 456, 460, 473, 480, 484, 490, 579, 590, 591, 603,\n",
       "        607, 627, 631, 639, 753, 756, 757, 758, 769, 773, 786, 793, 797,\n",
       "        808, 809, 810, 919, 925, 928, 931, 933, 943, 948, 955, 959, 963]),\n",
       " array([ 66,  75,  88,  95,  99, 102, 105, 181, 185, 195, 202, 207, 212,\n",
       "        327, 328, 332, 355, 356, 369, 373, 480, 490, 494, 512, 516, 627,\n",
       "        639, 643, 644, 648, 667, 670, 673, 676, 690, 691, 808, 809, 810,\n",
       "        812, 830, 834, 970, 971, 972, 976, 988, 992, 995]),\n",
       " array([  6,  13,  14,  19,  23,  26,  33,  35,  39,  42,  45,  49,  50,\n",
       "         52,  55,  56,  57,  59,  61,  66,  71,  75,  78,  88,  95,  99,\n",
       "        102, 105, 107, 110, 113, 130, 134, 137, 138, 140, 145, 149, 154,\n",
       "        164, 171, 175, 181, 185, 195, 202, 207, 211, 212, 231, 234, 240,\n",
       "        249, 250, 254, 271, 275, 287, 291, 311, 315, 327, 328, 332, 355,\n",
       "        356, 369, 371, 373, 398, 414, 417, 420, 456, 473, 480, 484, 490,\n",
       "        603, 607, 627, 631, 793, 797]),\n",
       " array([  23,   33,   35,   39,   42,   45,   49,   50,   52,   55,   56,\n",
       "          57,  140,  145,  149,  154,  164,  171,  175,  181,  185,  195,\n",
       "         269,  271,  275,  287,  291,  311,  315,  327,  328,  332,  440,\n",
       "         444,  445,  456,  460,  473,  480,  484,  490,  494,  579,  591,\n",
       "         603,  607,  627,  631,  639,  643,  644,  648,  753,  756,  757,\n",
       "         758,  769,  773,  786,  793,  797,  808,  809,  810,  812,  882,\n",
       "         885,  904,  914,  919,  921,  925,  928,  931,  933,  943,  946,\n",
       "         948,  955,  959,  963,  965,  970,  971,  972,  976,  987,  988,\n",
       "         990,  999, 1001, 1005, 1010, 1015, 1023, 1026, 1029, 1030]),\n",
       " array([  6,  13,  14,  19,  23,  26,  33,  35,  39,  42,  45,  49,  50,\n",
       "         52,  55,  56,  75,  78,  88,  95,  99, 102, 105, 107, 110, 113,\n",
       "        130, 134, 137, 138, 140, 145, 149, 154, 164, 171, 175, 181, 185,\n",
       "        195, 231, 234, 240, 249, 250, 254, 269, 271, 275, 287, 291, 311,\n",
       "        315, 327, 328, 332, 394, 398, 403, 414, 417, 420, 425, 440, 444,\n",
       "        445, 460, 480, 484, 490, 494, 541, 546, 550, 555, 560, 562, 566,\n",
       "        569, 579, 590, 591, 592, 627, 639, 643, 644, 648, 712, 714, 716,\n",
       "        723, 735, 736, 738, 753, 756, 758, 808, 809, 866, 869, 870, 872,\n",
       "        882, 885, 887, 893, 896, 899, 904]),\n",
       " array([  6,  13,  14,  19,  23,  26,  33,  35,  39,  42,  45,  49,  50,\n",
       "         52,  55,  56,  57,  59,  61,  66,  71,  75,  78,  88,  95,  99,\n",
       "        102, 105, 107, 110, 113, 130, 134, 137, 138, 140, 145, 149, 154,\n",
       "        164, 171, 175, 181, 185, 195, 202, 207, 211, 212, 231, 234, 240,\n",
       "        249, 250, 254, 269, 271, 275, 287, 291, 311, 315, 327, 328, 332,\n",
       "        355, 356, 369, 371, 373, 394, 398, 403, 414, 417, 420, 425, 440,\n",
       "        444, 445, 456, 460, 473, 480, 484, 490, 494, 512, 516, 528, 529,\n",
       "        541, 546, 550, 555, 560, 562, 566, 569, 579, 603, 607, 627, 631,\n",
       "        639, 643, 644, 648, 667, 670, 673, 676, 690, 691, 712, 714, 716,\n",
       "        756, 757, 758, 769, 773, 786, 793, 797, 808, 809, 810, 812, 830,\n",
       "        834, 846, 847, 874, 875, 933, 948, 955, 959, 963, 965, 970, 971,\n",
       "        972, 976, 988, 990, 992, 995]),\n",
       " array([   6,   13,   14,   19,   23,   26,   33,   35,   39,   42,   45,\n",
       "          49,   50,   52,   55,   56,   57,   59,   61,   66,   71,   75,\n",
       "          78,   88,   95,   99,  102,  105,  107,  110,  113,  130,  134,\n",
       "         137,  138,  140,  145,  149,  154,  164,  171,  175,  181,  185,\n",
       "         195,  202,  207,  212,  231,  234,  240,  249,  250,  254,  269,\n",
       "         271,  275,  311,  327,  328,  332,  355,  356,  398,  403,  414,\n",
       "         417,  420,  425,  480,  490,  494,  512,  516,  541,  546,  555,\n",
       "         560,  562,  566,  569,  627,  639,  643,  644,  648,  667,  670,\n",
       "         673,  676,  690,  691,  712,  714,  716,  723,  735,  736,  738,\n",
       "         786,  793,  808,  809,  810,  812,  830,  834,  846,  847,  866,\n",
       "         869,  870,  872,  874,  875,  877,  879,  882,  885,  887,  893,\n",
       "         896,  899,  904,  914,  943,  946,  948,  955,  959,  963,  965,\n",
       "         970,  971,  972,  976,  987,  988,  990,  992,  995,  999, 1001,\n",
       "        1005, 1010, 1015, 1023, 1026, 1029, 1030]),\n",
       " array([   6,   13,   14,   19,   23,   26,   33,   35,   39,   42,   45,\n",
       "          49,   50,   52,   55,   56,   57,   59,   61,   66,   71,   75,\n",
       "          78,   88,   95,   99,  102,  105,  107,  110,  113,  130,  134,\n",
       "         137,  138,  140,  145,  149,  154,  164,  171,  175,  181,  185,\n",
       "         195,  202,  207,  211,  212,  231,  234,  240,  249,  250,  254,\n",
       "         269,  271,  275,  287,  291,  311,  315,  327,  328,  332,  355,\n",
       "         356,  369,  371,  373,  394,  398,  403,  414,  417,  420,  425,\n",
       "         440,  444,  445,  456,  460,  473,  480,  484,  490,  494,  512,\n",
       "         516,  528,  529,  541,  546,  550,  555,  560,  562,  566,  569,\n",
       "         579,  590,  591,  592,  603,  607,  627,  631,  639,  643,  644,\n",
       "         648,  667,  690,  691,  712,  714,  716,  723,  735,  736,  738,\n",
       "         753,  756,  757,  758,  769,  773,  786,  793,  797,  808,  809,\n",
       "         810,  846,  847,  866,  869,  870,  872,  874,  875,  877,  879,\n",
       "         882,  885,  887,  893,  896,  899,  904,  914,  919,  921,  925,\n",
       "         928,  931,  933,  943,  946,  948,  955,  959,  963,  965,  976,\n",
       "         990,  999, 1001, 1005, 1010, 1015, 1023, 1026, 1029, 1030]),\n",
       " array([   6,   13,   14,   19,   23,   26,   33,   35,   39,   42,   45,\n",
       "          49,   50,   52,   55,   56,   57,   59,   61,   66,   71,   75,\n",
       "          78,   88,   95,   99,  102,  105,  107,  110,  113,  130,  134,\n",
       "         137,  138,  140,  145,  149,  154,  164,  171,  175,  181,  185,\n",
       "         195,  202,  207,  211,  212,  231,  234,  240,  249,  250,  254,\n",
       "         269,  271,  275,  287,  291,  311,  315,  327,  328,  332,  355,\n",
       "         356,  369,  371,  373,  394,  398,  403,  414,  417,  420,  425,\n",
       "         440,  444,  445,  456,  460,  473,  480,  484,  490,  494,  512,\n",
       "         516,  528,  529,  541,  546,  550,  555,  560,  562,  566,  569,\n",
       "         579,  590,  591,  592,  603,  607,  627,  631,  639,  643,  644,\n",
       "         648,  667,  670,  673,  676,  690,  691,  712,  714,  716,  723,\n",
       "         735,  736,  738,  753,  756,  757,  758,  769,  773,  786,  793,\n",
       "         797,  808,  809,  810,  812,  830,  834,  846,  847,  866,  869,\n",
       "         870,  872,  874,  875,  877,  879,  882,  885,  887,  893,  896,\n",
       "         899,  904,  914,  919,  921,  925,  928,  931,  933,  943,  946,\n",
       "         948,  955,  959,  963,  965,  970,  971,  972,  976,  987,  988,\n",
       "         990,  992,  995,  999, 1001, 1005, 1010, 1015, 1023, 1026, 1029,\n",
       "        1030]),\n",
       " array([   6,   13,   14,   19,   23,   26,   33,   35,   39,   42,   45,\n",
       "          49,   50,   52,   55,   56,   57,   59,   61,   66,   71,   75,\n",
       "          78,   88,   95,   99,  102,  105,  107,  110,  113,  130,  134,\n",
       "         137,  138,  140,  145,  149,  154,  164,  171,  175,  181,  185,\n",
       "         195,  202,  207,  211,  212,  231,  234,  240,  249,  250,  254,\n",
       "         269,  271,  275,  287,  291,  311,  315,  327,  328,  332,  355,\n",
       "         356,  369,  371,  373,  394,  398,  403,  414,  417,  420,  425,\n",
       "         440,  444,  445,  456,  460,  473,  480,  484,  490,  494,  512,\n",
       "         516,  528,  529,  541,  546,  550,  555,  560,  562,  566,  569,\n",
       "         579,  590,  591,  592,  603,  607,  627,  631,  639,  643,  644,\n",
       "         648,  667,  670,  673,  676,  690,  691,  712,  714,  716,  723,\n",
       "         735,  736,  738,  753,  756,  757,  758,  769,  773,  786,  793,\n",
       "         797,  808,  809,  810,  812,  830,  834,  846,  847,  866,  869,\n",
       "         870,  872,  874,  875,  877,  879,  882,  885,  887,  893,  896,\n",
       "         899,  904,  914,  919,  921,  925,  928,  931,  933,  943,  946,\n",
       "         948,  955,  959,  963,  965,  970,  971,  972,  976,  987,  988,\n",
       "         990,  992,  995,  999, 1001, 1005, 1010, 1015, 1023, 1026, 1029,\n",
       "        1030]),\n",
       " array([   6,   13,   14,   19,   23,   26,   33,   35,   39,   42,   45,\n",
       "          49,   50,   52,   55,   56,   57,   59,   61,   66,   71,   75,\n",
       "          78,   88,   95,   99,  102,  105,  107,  110,  113,  130,  134,\n",
       "         137,  138,  140,  145,  149,  154,  164,  171,  175,  181,  185,\n",
       "         195,  202,  207,  211,  212,  231,  234,  240,  249,  250,  254,\n",
       "         269,  271,  275,  287,  291,  311,  315,  327,  328,  332,  355,\n",
       "         356,  369,  371,  373,  394,  398,  403,  414,  417,  420,  425,\n",
       "         440,  444,  445,  456,  460,  473,  480,  484,  490,  494,  512,\n",
       "         516,  528,  529,  541,  546,  550,  555,  560,  562,  566,  569,\n",
       "         579,  590,  591,  592,  603,  607,  627,  631,  639,  643,  644,\n",
       "         648,  667,  670,  673,  676,  690,  691,  712,  714,  716,  723,\n",
       "         735,  736,  738,  753,  756,  757,  758,  769,  773,  786,  793,\n",
       "         797,  808,  809,  810,  812,  830,  834,  846,  847,  866,  869,\n",
       "         870,  872,  874,  875,  877,  879,  882,  885,  887,  893,  896,\n",
       "         899,  904,  914,  919,  921,  925,  928,  931,  933,  943,  946,\n",
       "         948,  955,  959,  963,  965,  970,  971,  972,  976,  987,  988,\n",
       "         990,  992,  995,  999, 1001, 1005, 1010, 1015, 1023, 1026, 1029,\n",
       "        1030]),\n",
       " array([   6,   13,   14,   19,   23,   26,   33,   35,   39,   42,   45,\n",
       "          49,   50,   52,   55,   56,   57,   59,   61,   66,   71,   75,\n",
       "          78,   88,   95,   99,  102,  105,  107,  110,  113,  130,  134,\n",
       "         137,  138,  140,  145,  149,  154,  164,  171,  175,  181,  185,\n",
       "         195,  202,  207,  211,  212,  231,  234,  240,  249,  250,  254,\n",
       "         269,  271,  275,  287,  291,  311,  315,  327,  328,  332,  355,\n",
       "         356,  369,  371,  373,  394,  398,  403,  414,  417,  420,  425,\n",
       "         440,  444,  445,  456,  460,  473,  480,  484,  490,  494,  512,\n",
       "         516,  528,  529,  541,  546,  550,  555,  560,  562,  566,  569,\n",
       "         579,  590,  591,  592,  603,  607,  627,  631,  639,  643,  644,\n",
       "         648,  667,  670,  673,  676,  690,  691,  712,  714,  716,  723,\n",
       "         735,  736,  738,  753,  756,  757,  758,  769,  773,  786,  793,\n",
       "         797,  808,  809,  810,  812,  830,  834,  846,  847,  866,  869,\n",
       "         870,  872,  874,  875,  877,  879,  882,  885,  887,  893,  896,\n",
       "         899,  904,  914,  919,  921,  925,  928,  931,  933,  943,  946,\n",
       "         948,  955,  959,  963,  965,  970,  971,  972,  976,  987,  988,\n",
       "         990,  992,  995,  999, 1001, 1005, 1010, 1015, 1023, 1026, 1029,\n",
       "        1030]),\n",
       " array([   6,   13,   14,   19,   23,   26,   33,   35,   39,   42,   45,\n",
       "          49,   50,   52,   55,   56,   57,   59,   61,   66,   71,   75,\n",
       "          78,   88,   95,   99,  102,  105,  107,  110,  113,  130,  134,\n",
       "         137,  138,  140,  145,  149,  154,  164,  171,  175,  181,  185,\n",
       "         195,  202,  207,  211,  212,  231,  234,  240,  249,  250,  254,\n",
       "         269,  271,  275,  287,  291,  311,  315,  327,  328,  332,  355,\n",
       "         356,  369,  371,  373,  394,  398,  403,  414,  417,  420,  425,\n",
       "         440,  444,  445,  456,  460,  473,  480,  484,  490,  494,  512,\n",
       "         516,  528,  529,  541,  546,  550,  555,  560,  562,  566,  569,\n",
       "         579,  590,  591,  592,  603,  607,  627,  631,  639,  643,  644,\n",
       "         648,  667,  670,  673,  676,  690,  691,  712,  714,  716,  723,\n",
       "         735,  736,  738,  753,  756,  757,  758,  769,  773,  786,  793,\n",
       "         797,  808,  809,  810,  812,  830,  834,  846,  847,  866,  869,\n",
       "         870,  872,  874,  875,  877,  879,  882,  885,  887,  893,  896,\n",
       "         899,  904,  914,  919,  921,  925,  928,  931,  933,  943,  946,\n",
       "         948,  955,  959,  963,  965,  970,  971,  972,  976,  987,  988,\n",
       "         990,  992,  995,  999, 1001, 1005, 1010, 1015, 1023, 1026, 1029,\n",
       "        1030]),\n",
       " array([   6,   13,   14,   19,   23,   26,   33,   35,   39,   42,   45,\n",
       "          49,   50,   52,   55,   56,   57,   59,   61,   66,   71,   75,\n",
       "          78,   88,   95,   99,  102,  105,  107,  110,  113,  130,  134,\n",
       "         137,  138,  140,  145,  149,  154,  164,  171,  175,  181,  185,\n",
       "         195,  202,  207,  211,  212,  231,  234,  240,  249,  250,  254,\n",
       "         269,  271,  275,  287,  291,  311,  315,  327,  328,  332,  355,\n",
       "         356,  369,  371,  373,  394,  398,  403,  414,  417,  420,  425,\n",
       "         440,  444,  445,  456,  460,  473,  480,  484,  490,  494,  512,\n",
       "         516,  528,  529,  541,  546,  550,  555,  560,  562,  566,  569,\n",
       "         579,  590,  591,  592,  603,  607,  627,  631,  639,  643,  644,\n",
       "         648,  667,  670,  673,  676,  690,  691,  712,  714,  716,  723,\n",
       "         735,  736,  738,  753,  756,  757,  758,  769,  773,  786,  793,\n",
       "         797,  808,  809,  810,  812,  830,  834,  846,  847,  866,  869,\n",
       "         870,  872,  874,  875,  877,  879,  882,  885,  887,  893,  896,\n",
       "         899,  904,  914,  919,  921,  925,  928,  931,  933,  943,  946,\n",
       "         948,  955,  959,  963,  965,  970,  971,  972,  976,  987,  988,\n",
       "         990,  992,  995,  999, 1001, 1005, 1010, 1015, 1023, 1026, 1029,\n",
       "        1030])]"
      ]
     },
     "execution_count": 21,
     "metadata": {},
     "output_type": "execute_result"
    }
   ],
   "source": [
    "true_surface_index"
   ]
  },
  {
   "cell_type": "code",
   "execution_count": null,
   "metadata": {},
   "outputs": [],
   "source": []
  },
  {
   "cell_type": "code",
   "execution_count": null,
   "metadata": {},
   "outputs": [],
   "source": []
  },
  {
   "cell_type": "code",
   "execution_count": 34,
   "metadata": {},
   "outputs": [
    {
     "data": {
      "text/plain": [
       "34"
      ]
     },
     "execution_count": 34,
     "metadata": {},
     "output_type": "execute_result"
    }
   ],
   "source": [
    "--------------------------------------------practice----------------------------"
   ]
  },
  {
   "cell_type": "code",
   "execution_count": 19,
   "metadata": {},
   "outputs": [
    {
     "name": "stdout",
     "output_type": "stream",
     "text": [
      "there are 251 time frames\n"
     ]
    }
   ],
   "source": [
    "#get solid atom's position for 2200\n",
    "\n",
    "u = u_ref\n",
    "\n",
    "solid_ndx_2200 = []\n",
    "df = open(\"solid_like_atoms.index\", \"r+\")\n",
    "for line in df.readlines():\n",
    "    solid = np.fromstring(line, dtype=int, sep=' ') -1\n",
    "    solid_ndx_2200 += [solid]\n",
    "\n",
    "print('there are %s time frames' % len(solid_ndx_2200))\n",
    "solid_pos = []\n",
    "for i in range(len(solid_ndx_2200)):\n",
    "    solid = solid_ndx_2200[i]\n",
    "    solid_poss = np.zeros([len(solid), 3])\n",
    "    for j in range(len(solid)):\n",
    "        solid_poss[j] = u.atoms[solid[j]].position\n",
    "    solid_pos += [solid_poss]\n",
    "    \n",
    "#key is to get solid_pos"
   ]
  },
  {
   "cell_type": "code",
   "execution_count": 14,
   "metadata": {},
   "outputs": [
    {
     "name": "stdout",
     "output_type": "stream",
     "text": [
      "there are 189 surface atoms in this simulation.\n"
     ]
    }
   ],
   "source": [
    "#get surface atom's position\n",
    "u = u_ref\n",
    "\n",
    "sf = open(\"surface.ndx\", \"r+\")\n",
    "surface_ndx = []\n",
    "for line in sf.readlines():\n",
    "    surface_ndx += [np.int(line)]\n",
    "surface_ndx = np.array(surface_ndx)\n",
    "\n",
    "#convert to python scheme\n",
    "surface_ndx = surface_ndx - 1\n",
    "\n",
    "surface_pos = np.zeros([len(surface_ndx), 3])\n",
    "for i in range(len(surface_ndx)):\n",
    "    surface_pos[i] = u_ref.atoms[surface_ndx[i]].position\n",
    "print('there are %s surface atoms in this simulation.' % surface_pos.shape[0])\n",
    "\n",
    "#key is to get surface_pos"
   ]
  },
  {
   "cell_type": "code",
   "execution_count": 15,
   "metadata": {},
   "outputs": [
    {
     "name": "stdout",
     "output_type": "stream",
     "text": [
      "solid_count (189, 251)\n"
     ]
    }
   ],
   "source": [
    "#lets get distance between solid_pos and surface_pos for all time frame\n",
    "box = np.array([64.6204,   79.5328,   59.6496])\n",
    "\n",
    "solid_count = np.zeros((len(surface_pos), len(solid_pos)))\n",
    "print('solid_count',solid_count.shape)\n",
    "for i in range(len(solid_pos)):\n",
    "    solid_poss = solid_pos[i]\n",
    "    dist = np.abs(solid_poss[:, np.newaxis, :] - surface_pos)\n",
    "    cond = 1*(dist > box/2)\n",
    "    dist = abs(cond*box -dist)\n",
    "    dist = np.sum(dist*dist, axis = 2).T\n",
    "    dist = np.sqrt(dist)\n",
    "\n",
    "    \n",
    "    solid_count[:,i]= np.count_nonzero( dist < 12 , axis = 1)\n",
    "\n",
    "\n",
    "\n"
   ]
  },
  {
   "cell_type": "code",
   "execution_count": 16,
   "metadata": {},
   "outputs": [
    {
     "data": {
      "text/plain": [
       "[<matplotlib.lines.Line2D at 0x20c0e20afd0>]"
      ]
     },
     "execution_count": 16,
     "metadata": {},
     "output_type": "execute_result"
    },
    {
     "data": {
      "image/png": "[encoded data removed]",
      "text/plain": [
       "<Figure size 432x288 with 1 Axes>"
      ]
     },
     "metadata": {
      "needs_background": "light"
     },
     "output_type": "display_data"
    }
   ],
   "source": [
    "avg_solid_count = np.average(solid_count, axis = 1)\n",
    "std_solid_count = np.std(solid_count, axis = 1)\n",
    "\n",
    "figure\n",
    "plt.plot(avg_solid_count)"
   ]
  },
  {
   "cell_type": "code",
   "execution_count": 17,
   "metadata": {},
   "outputs": [
    {
     "data": {
      "text/plain": [
       "[<matplotlib.lines.Line2D at 0x20c0e5132e0>]"
      ]
     },
     "execution_count": 17,
     "metadata": {},
     "output_type": "execute_result"
    },
    {
     "data": {
      "image/png": "[encoded data removed]",
      "text/plain": [
       "<Figure size 432x288 with 1 Axes>"
      ]
     },
     "metadata": {
      "needs_background": "light"
     },
     "output_type": "display_data"
    }
   ],
   "source": [
    "figure\n",
    "plt.plot(std_solid_count)"
   ]
  },
  {
   "cell_type": "code",
   "execution_count": null,
   "metadata": {},
   "outputs": [],
   "source": [
    "hello = u_list[0]\n",
    "a = hello.select_atoms(\"index 1031\")"
   ]
  },
  {
   "cell_type": "code",
   "execution_count": null,
   "metadata": {},
   "outputs": [],
   "source": [
    "solid_pos[0]"
   ]
  },
  {
   "cell_type": "code",
   "execution_count": null,
   "metadata": {},
   "outputs": [],
   "source": [
    "surface_pos"
   ]
  },
  {
   "cell_type": "code",
   "execution_count": null,
   "metadata": {},
   "outputs": [],
   "source": []
  }
 ],
 "metadata": {
  "kernelspec": {
   "display_name": "Python 3",
   "language": "python",
   "name": "python3"
  },
  "language_info": {
   "codemirror_mode": {
    "name": "ipython",
    "version": 3
   },
   "file_extension": ".py",
   "mimetype": "text/x-python",
   "name": "python",
   "nbconvert_exporter": "python",
   "pygments_lexer": "ipython3",
   "version": "3.8.5"
  }
 },
 "nbformat": 4,
 "nbformat_minor": 4
}
