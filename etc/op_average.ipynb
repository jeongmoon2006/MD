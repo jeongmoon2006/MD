{
 "cells": [
  {
   "cell_type": "code",
   "execution_count": 1,
   "metadata": {},
   "outputs": [],
   "source": [
    "import numpy as np\n",
    "import MDAnalysis as mda\n",
    "import timeit\n",
    "import matplotlib.pyplot as plt  \n",
    "import copy\n",
    "import scipy.special as sp\n",
    "\n",
    "suw = mda.Universe(\"swater_prd.tpr\",\"swater_prd.xtc\")\n",
    "uw = mda.Universe(\"water2_prd.tpr\", \"water2_prd.xtc\")\n",
    "uh = mda.Universe(\"hexaice_prd.tpr\", \"hexaice_prd.xtc\")\n",
    "uc = mda.Universe(\"cubicice_prd.tpr\",\"cubicice_prd.xtc\")\n",
    "\n",
    "swbox = np.array([23.0, 23.0, 23.0])\n",
    "wbox = np.array([30.0,   30.0,   30.0])\n",
    "hbox = np.array([31.5251,   29.6340,   36.4161])\n",
    "cbox = np.array([32.0350,   32.0350,   32.0350])"
   ]
  },
  {
   "cell_type": "code",
   "execution_count": 2,
   "metadata": {},
   "outputs": [
    {
     "name": "stdout",
     "output_type": "stream",
     "text": [
      "<XTCReader water2_prd.xtc with 251 frames of 3636 atoms>\n",
      "<XTCReader hexaice_prd.xtc with 1001 frames of 4096 atoms>\n",
      "<XTCReader cubicice_prd.xtc with 1001 frames of 4000 atoms>\n"
     ]
    }
   ],
   "source": [
    "print(uw.trajectory)\n",
    "print(uh.trajectory)\n",
    "print(uc.trajectory)"
   ]
  },
  {
   "cell_type": "code",
   "execution_count": 107,
   "metadata": {},
   "outputs": [],
   "source": [
    "def cart2sph(x, y, z):\n",
    "    r = np.sqrt(x*x+y*y+z*z)\n",
    "    cos_theta = z/r\n",
    "#     print(cos_theta)\n",
    "    theta = np.arccos(cos_theta)\n",
    "    cos_phi = x/(np.sin(theta)*r)\n",
    "\n",
    "    #Due to machine precision, sometimes cos_phi = +-1.0000001\n",
    "    if cos_phi > 1:\n",
    "        print(cos_phi)\n",
    "        cos_phi = 1\n",
    "    if cos_phi < -1:\n",
    "        print(cos_phi)\n",
    "        cos_phi = -1\n",
    "    \n",
    "    phi = np.arccos(cos_phi)\n",
    "    if y < 0:\n",
    "        phi = 2*np.pi-phi\n",
    "    return theta, phi\n"
   ]
  },
  {
   "cell_type": "code",
   "execution_count": 4,
   "metadata": {},
   "outputs": [],
   "source": [
    "#Let's get theta and phi between i and j\n",
    "#for i = 0 j = 100 rij = r(j) - r(i)\n",
    "def angle(i,j,o,box):\n",
    "    ii = copy.copy(o[i])\n",
    "    jj = copy.copy(o[j])\n",
    "\n",
    "#     print(ii,jj)\n",
    "\n",
    "    for k in range (3):\n",
    "        if abs(ii[k]-jj[k]) > box[k]/2:\n",
    "            if ii[k] > box[k]/2:\n",
    "                jj[k] = jj[k] + box[k]\n",
    "            else:\n",
    "                jj[k] = jj[k] - box[k]\n",
    "\n",
    "    h = jj-ii\n",
    "#     print(jj-ii)\n",
    "#     print(np.linalg.norm(h))\n",
    "    theta, phi = cart2sph(h[0], h[1], h[2])\n",
    "    return theta, phi"
   ]
  },
  {
   "cell_type": "code",
   "execution_count": 5,
   "metadata": {},
   "outputs": [],
   "source": [
    "#Let's get q_lm(i)\n",
    "#neighborlist (n,)\n",
    "def steinhardt(m,l,i,neighborlist,o,box):\n",
    "    n = neighborlist.size\n",
    "    q_lm_i = 0\n",
    "    for k in range(n):\n",
    "        theta, phi = angle(i,np.intc(neighborlist[k]),o,box)\n",
    "        a = sp.sph_harm(m,l,phi,theta)\n",
    "        q_lm_i = a + q_lm_i\n",
    "    q_lm_i = q_lm_i/n\n",
    "    return q_lm_i"
   ]
  },
  {
   "cell_type": "code",
   "execution_count": 6,
   "metadata": {},
   "outputs": [],
   "source": [
    "def orderparameter(pos_A, pos_B, box,x_max, n_bins, n_neigh, l):\n",
    "    \n",
    "    o = pos_A\n",
    "    N = o.shape[0] # number of molecules\n",
    "    dist = np.abs(o[:, np.newaxis, :] - o)\n",
    "    ddist = np.abs(dist - box)\n",
    "    dist = np.minimum(dist, ddist)\n",
    "    dist = np.reshape(dist*dist, (N*N,3))\n",
    "    dist = np.sum(dist,axis = 1)\n",
    "    dist = np.sqrt(dist)\n",
    "\n",
    "\n",
    "\n",
    "    n = n_neigh #number of neighbors\n",
    "    neighbor_list = np.zeros((N,n))\n",
    "\n",
    "\n",
    "    for i in range(N):\n",
    "        distij = dist[i*(N):(i+1)*(N)] #make (N,) distance vector\n",
    "        list = np.argsort(distij)\n",
    "        neighbor_list[i,:] = list[1:n+1]\n",
    "        \n",
    "    op = np.zeros((N,))\n",
    "    for i in range(N):\n",
    "        a = 0\n",
    "        for k in range(-l,l+1):\n",
    "            s = np.square(np.absolute(steinhardt(k,l,i,neighbor_list[i],o,box)))\n",
    "            a = a + s\n",
    "        op[i] = np.sqrt(4*np.pi/(2*l+1)*a)\n",
    "    \n",
    "\n",
    "    \n",
    "    #binning step\n",
    "    bins = np.linspace(0, x_max, n_bins)\n",
    "    dr = bins[1] - bins[0]\n",
    "    opp = np.sort(op)\n",
    "    \n",
    "    p = 0\n",
    "    i = 0\n",
    "    m = 0\n",
    "    nr = np.zeros(n_bins)\n",
    "    rdf = np.zeros(n_bins)\n",
    "\n",
    "    while True:\n",
    "        while opp[i] > bins[p]:\n",
    "            nr[p] = m\n",
    "            p = p+1\n",
    "            if p== len(nr):\n",
    "                break\n",
    "        else:\n",
    "            i = i+1\n",
    "            m = m+1\n",
    "            if i == len(opp):\n",
    "                break\n",
    "        if p == len(nr):\n",
    "            break\n",
    "            \n",
    "    for i in range (n_bins-1):\n",
    "        rdf[i+1] = nr[i+1] - nr[i]\n",
    "        if rdf[i+1] <0:\n",
    "            rdf[i+1] = rdf[i+1] + N\n",
    "        \n",
    "    \n",
    "\n",
    "    return bins, rdf, op\n",
    "    "
   ]
  },
  {
   "cell_type": "code",
   "execution_count": 184,
   "metadata": {},
   "outputs": [],
   "source": [
    "uw.trajectory[20]\n",
    "p = uw.select_atoms(\"name OW\")\n",
    "o = p.atoms.positions"
   ]
  },
  {
   "cell_type": "code",
   "execution_count": 185,
   "metadata": {},
   "outputs": [
    {
     "name": "stdout",
     "output_type": "stream",
     "text": [
      "[0.39541657 0.48961505 0.66105857 0.29538798 0.45116293 0.39828111\n",
      " 0.54717046 0.35979691 0.60210912 0.41750531 0.67627977 0.5681888\n",
      " 0.6727369  0.50783677 0.52988039 0.36941767 0.6109814  0.62898102\n",
      " 0.56642459 0.58207303 0.64096147 0.48045589 0.54404204 0.48544602\n",
      " 0.7095672  0.59534079 0.56743824 0.28781645 0.31110473 0.54094668\n",
      " 0.50269613 0.36417283 0.66931233 0.44087144 0.54778357 0.3583039\n",
      " 0.36660731 0.68553995 0.43252629 0.62301737 0.60179557 0.54670793\n",
      " 0.56905435 0.46213559 0.55631728 0.37292706 0.39607067 0.41646255\n",
      " 0.68708235 0.51167393 0.68486803 0.64328723 0.72475666 0.56421303\n",
      " 0.70186649 0.4190167  0.61130602 0.30923045 0.5344775  0.62332271\n",
      " 0.6423882  0.44643889 0.51153396 0.65140182 0.61680194 0.68653413\n",
      " 0.54104089 0.59505535 0.54782622 0.63328994 0.5037893  0.65883987\n",
      " 0.63387199 0.68270397 0.46029071 0.66978178 0.64241713 0.44820315\n",
      " 0.54801577 0.68221683 0.3776597  0.64043456 0.69968769 0.26775691\n",
      " 0.40452106 0.59302354 0.44287697 0.42949134 0.61597294 0.58486988\n",
      " 0.47432051 0.73503943 0.44359311 0.60251914 0.41675319 0.64492204\n",
      " 0.62868847 0.40768678 0.51403634 0.67145685 0.66304428 0.39310004\n",
      " 0.49482455 0.72401603 0.48656875 0.43959996 0.42198626 0.58133891\n",
      " 0.45924818 0.60570337 0.45366737 0.68473933 0.64039279 0.53028962\n",
      " 0.66453689 0.56071674 0.70890482 0.58421982 0.68778275 0.4362544\n",
      " 0.67087027 0.42039545 0.48564064 0.50222166 0.37735157 0.64616868\n",
      " 0.66033347 0.59379051 0.50275663 0.53749386 0.30321527 0.41132402\n",
      " 0.6105226  0.46156188 0.50854458 0.51847574 0.46961382 0.42057432\n",
      " 0.70038653 0.46612425 0.63380116 0.57681838 0.43656907 0.51730699\n",
      " 0.49832967 0.44165289 0.53469228 0.59583789 0.70725416 0.51551517\n",
      " 0.70325186 0.24447935 0.5304241  0.62882344 0.59789004 0.41639246\n",
      " 0.7242115  0.64543245 0.63603142 0.5834536  0.38395805 0.5491876\n",
      " 0.53337447 0.72227659 0.72070221 0.33794013 0.57721526 0.66295571\n",
      " 0.57863883 0.63835605 0.4552261  0.54846508 0.49737102 0.42155974\n",
      " 0.39836983 0.38578507 0.69809972 0.63665926 0.64842455 0.58674496\n",
      " 0.67533712 0.47264705 0.50745039 0.73440972 0.40458016 0.40783369\n",
      " 0.72737655 0.60430255 0.71497205 0.55787717 0.45604046 0.48669976\n",
      " 0.55873612 0.50579634 0.52943605 0.71287984 0.40037075 0.30563923\n",
      " 0.27976057 0.64894087 0.61570112 0.66900605 0.63278404 0.56930099\n",
      " 0.55651679 0.3588897  0.30097355 0.66305357 0.5365137  0.46875991\n",
      " 0.65859192 0.45759087 0.41165726 0.45617545 0.44267776 0.38373819\n",
      " 0.45768129 0.65007456 0.44946219 0.48009418 0.65560019 0.6927918\n",
      " 0.38071955 0.50492903 0.34996379 0.55914582 0.70434227 0.54643375\n",
      " 0.29056203 0.58139403 0.61779205 0.5126183  0.5354094  0.59739961\n",
      " 0.38936216 0.62940438 0.4383146  0.47057131 0.5468959  0.66520711\n",
      " 0.56188917 0.67471947 0.35416022 0.52108188 0.70669408 0.69765881\n",
      " 0.48893052 0.64497486 0.46427617 0.65883902 0.56496721 0.57624748\n",
      " 0.43109693 0.48741674 0.65153494 0.49690164 0.57186168 0.66107224\n",
      " 0.6271464  0.52282901 0.6069242  0.7002385  0.53349133 0.56925359\n",
      " 0.442086   0.70201121 0.65173793 0.65683449 0.61330096 0.40206045\n",
      " 0.42479317 0.65582848 0.44935482 0.65688904 0.55124815 0.68466613\n",
      " 0.67144531 0.62787041 0.60336396 0.70299048 0.48869137 0.57480719\n",
      " 0.27199007 0.34214752 0.39423819 0.58524547 0.5682432  0.62589109\n",
      " 0.643813   0.45695827 0.57510569 0.38793971 0.5532957  0.41576697\n",
      " 0.7230714  0.62864386 0.48469865 0.67208508 0.42160683 0.5009411\n",
      " 0.54866932 0.55994349 0.5370756  0.64680667 0.5191375  0.53927018\n",
      " 0.50744808 0.6080453  0.44834131 0.56416541 0.60563205 0.72241268\n",
      " 0.67140206 0.6358813  0.63796884 0.63428283 0.61850258 0.54516917\n",
      " 0.58114599 0.50031665 0.55753302 0.5700579  0.4726373  0.44228348\n",
      " 0.42120792 0.56883599 0.58391329 0.60930713 0.35650247 0.65798341\n",
      " 0.59911501 0.47498701 0.6046606  0.65934149 0.56645692 0.56690619\n",
      " 0.63366176 0.61345033 0.39286595 0.47921419 0.51723936 0.67007685\n",
      " 0.48129058 0.31993297 0.48628546 0.38350748 0.58204214 0.45503723\n",
      " 0.35459598 0.36149927 0.38482315 0.63058548 0.44166745 0.50668224\n",
      " 0.62528208 0.58298585 0.67178954 0.6823589  0.68268135 0.59542957\n",
      " 0.6701023  0.69523582 0.65214356 0.69538665 0.48256385 0.70089697\n",
      " 0.64882187 0.44276738 0.50683364 0.67068485 0.54361476 0.30539128\n",
      " 0.39613359 0.41341715 0.62388837 0.50839293 0.65829836 0.69263072\n",
      " 0.65375784 0.65037428 0.67258388 0.66693731 0.47444481 0.59040833\n",
      " 0.74101038 0.66365784 0.73027353 0.53754777 0.56749119 0.65996983\n",
      " 0.58698246 0.4608426  0.44520229 0.45512399 0.51323307 0.59993763\n",
      " 0.65795426 0.46468422 0.33297001 0.67501476 0.60863017 0.60539212\n",
      " 0.61190938 0.56303603 0.50485881 0.61654587 0.46937446 0.5047009\n",
      " 0.51869878 0.51548022 0.57608839 0.63008787 0.69183813 0.6117737\n",
      " 0.63228607 0.55951357 0.59060015 0.47211796 0.62769771 0.74179219\n",
      " 0.48986176 0.56376896 0.32277835 0.44296199 0.43100907 0.46494597\n",
      " 0.54801189 0.25886938 0.44859397 0.70298196 0.56076478 0.37212899\n",
      " 0.56929767 0.54735804 0.49247466 0.55452965 0.43324107 0.59593425\n",
      " 0.69395946 0.50905456 0.69380163 0.62522272 0.62066829 0.6672985\n",
      " 0.64827105 0.38684011 0.51112837 0.54734782 0.67034914 0.53087129\n",
      " 0.59553015 0.55035029 0.7285856  0.67372194 0.37350737 0.65357697\n",
      " 0.47346754 0.53402833 0.72207909 0.6012607  0.58693886 0.46172063\n",
      " 0.6411514  0.62708534 0.55064476 0.4273555  0.50384954 0.65100795\n",
      " 0.7029213  0.38940306 0.5013823  0.67800614 0.47696037 0.64355303\n",
      " 0.49593384 0.41518271 0.39064684 0.42420969 0.67089211 0.41240579\n",
      " 0.68118221 0.60215362 0.47299717 0.40366639 0.72028528 0.53868954\n",
      " 0.3480425  0.5184883  0.57706504 0.55611826 0.58583997 0.56083639\n",
      " 0.6196823  0.59352316 0.57251018 0.69027798 0.66028106 0.42700396\n",
      " 0.46515845 0.64410939 0.4799699  0.64321233 0.33734823 0.44319005\n",
      " 0.53564369 0.35753366 0.46155989 0.65477153 0.5922558  0.61077823\n",
      " 0.72799087 0.67931091 0.60918156 0.56384865 0.6959378  0.6397694\n",
      " 0.6052426  0.60893235 0.41065109 0.53657348 0.5283847  0.63314703\n",
      " 0.55988912 0.6892176  0.66737106 0.64487542 0.61184858 0.43775444\n",
      " 0.31504276 0.39236089 0.68760641 0.5264296  0.52062991 0.50229158\n",
      " 0.66205066 0.66740287 0.2813852  0.64202217 0.5085597  0.59228047\n",
      " 0.54664148 0.44688189 0.67113422 0.58243069 0.52685412 0.65883168\n",
      " 0.58801704 0.54895824 0.4243485  0.64373259 0.69610743 0.62386106\n",
      " 0.52541393 0.39519022 0.48647878 0.60540882 0.55289532 0.66457304\n",
      " 0.33288576 0.39366336 0.40502567 0.51158471 0.50878457 0.43533491\n",
      " 0.40478111 0.60742824 0.494569   0.52215804 0.45470072 0.56586837\n",
      " 0.62312791 0.66068471 0.465776   0.51427781 0.57056348 0.46632976\n",
      " 0.47219156 0.66672353 0.58156379 0.61169932 0.33246053 0.55961166\n",
      " 0.64922985 0.55410949 0.40810068 0.67733898 0.55629389 0.60256346\n",
      " 0.61591723 0.59612177 0.66483529 0.63024811 0.71296223 0.72046835\n",
      " 0.51504732 0.66227958 0.50645912 0.39209121 0.39804851 0.43657649\n",
      " 0.65994946 0.49679171 0.61406502 0.40549848 0.66627151 0.46136901\n",
      " 0.62652121 0.45015573 0.52328697 0.62129904 0.51945823 0.48753472\n",
      " 0.65965719 0.64715865 0.64735315 0.66907844 0.6145634  0.56578688\n",
      " 0.54217189 0.5708967  0.43212475 0.50564004 0.7108562  0.59959213\n",
      " 0.55961737 0.59910773 0.55810025 0.49139833 0.53605634 0.68616798\n",
      " 0.47702109 0.57127024 0.54507392 0.56292763 0.63704261 0.65770622\n",
      " 0.63493747 0.31523868 0.67698721 0.64391465 0.51769117 0.33892067\n",
      " 0.68795524 0.55722694 0.55746496 0.6388373  0.63751578 0.32290201\n",
      " 0.64844529 0.62603604 0.411513   0.62937489 0.68702815 0.64725951\n",
      " 0.58297155 0.56251291 0.38671491 0.19527883 0.66663369 0.57449682\n",
      " 0.54683626 0.49759614 0.61032152 0.57247075 0.6530363  0.48295584\n",
      " 0.60335271 0.33428596 0.65173268 0.6056634  0.43921971 0.50818017\n",
      " 0.61190849 0.6424456  0.6498245  0.71214386 0.545483   0.48605081\n",
      " 0.61383415 0.449686   0.3694191  0.53613183 0.28310619 0.45421701\n",
      " 0.20251281 0.47286752 0.37987919 0.67657972 0.42988743 0.32271123\n",
      " 0.45832211 0.65158678 0.63877362 0.5382825  0.59705201 0.55313832\n",
      " 0.39670163 0.59050904 0.59977969 0.71917104 0.61595464 0.6175235\n",
      " 0.59860864 0.36480521 0.60637455 0.48827753 0.46090405 0.62136419\n",
      " 0.60712102 0.66068661 0.7293293  0.51766656 0.6316429  0.45117876\n",
      " 0.62655497 0.496338   0.62408344 0.44519081 0.69293213 0.43043699\n",
      " 0.65876168 0.48357252 0.50892631 0.70065917 0.52960848 0.54858194\n",
      " 0.64663404 0.37966482 0.61257548 0.69940542 0.59028217 0.45637385\n",
      " 0.55619189 0.4701895  0.73283926 0.4832436  0.6046928  0.48714249\n",
      " 0.57192504 0.63314979 0.60625549 0.51131203 0.48798409 0.50333069\n",
      " 0.61049782 0.62762923 0.52932641 0.42054556 0.64721171 0.49097599\n",
      " 0.67430172 0.68835847 0.59553938 0.5336628  0.53613347 0.67035511\n",
      " 0.68301506 0.70383508 0.47650948 0.58250463 0.63067669 0.61162013\n",
      " 0.5294794  0.71619154 0.62265482 0.44658847 0.60545221 0.4899093\n",
      " 0.50153535 0.60595493 0.73765546 0.63870302 0.51714451 0.63529174\n",
      " 0.49149567 0.39386763 0.66513959 0.57929692 0.48592765 0.6477352\n",
      " 0.58456798 0.5748672  0.48736319 0.49653604 0.43781726 0.56455703\n",
      " 0.28639466 0.36373866 0.51675534 0.63078066 0.37127899 0.68101835\n",
      " 0.57180801 0.63302554 0.66885788 0.64777919 0.61534843 0.61821885\n",
      " 0.69101218 0.64450248 0.45906436 0.51533731 0.68168389 0.55232306\n",
      " 0.53828859 0.62528974 0.64105569 0.68321496 0.6191619  0.61448352\n",
      " 0.58074302 0.42463589 0.61311699 0.5019303  0.57080725 0.5050935\n",
      " 0.63572918 0.33280147 0.36737983 0.41260323 0.69859431 0.55020341\n",
      " 0.67909783 0.59136945 0.52065438 0.45420555 0.44438766 0.58344545\n",
      " 0.63014094 0.51544909 0.53866681 0.40684061 0.45514941 0.48121601\n",
      " 0.73816808 0.44055508 0.39804676 0.46601847 0.47993383 0.40291323\n",
      " 0.56940813 0.55418438 0.65166178 0.59522958 0.55757335 0.45694965\n",
      " 0.71059474 0.58399635 0.33676087 0.51532944 0.57427003 0.41311227\n",
      " 0.28470607 0.62277343 0.53422939 0.63811297 0.51586356 0.53671687\n",
      " 0.44932765 0.44614448 0.69118743 0.57108629 0.50388726 0.53694993\n",
      " 0.54650325 0.5451256  0.63410946 0.54660495 0.51450347 0.63160937\n",
      " 0.70752001 0.41848591 0.68336867 0.41420479 0.56262072 0.61740358\n",
      " 0.56176429 0.67544483 0.52861331 0.40781876 0.58251004 0.65482157\n",
      " 0.483618   0.48829923 0.67572477 0.39275049 0.27686804 0.51509158\n",
      " 0.56554808 0.6324883  0.54010287 0.70510242 0.32221547 0.53994729\n",
      " 0.50865012 0.42463827 0.31878886 0.56207798 0.63027039 0.6044684\n",
      " 0.31086005 0.17723079 0.66268471 0.62481593 0.49801323 0.69353689\n",
      " 0.45394751 0.35918624 0.47986135]\n"
     ]
    },
    {
     "data": {
      "image/png": "[encoded data removed]",
      "text/plain": [
       "<Figure size 432x288 with 1 Axes>"
      ]
     },
     "metadata": {
      "needs_background": "light"
     },
     "output_type": "display_data"
    }
   ],
   "source": [
    "bins, rdf, op = orderparameter(o, o, hbox, 1, 50, 4, 3)\n",
    "plt.plot(bins,rdf/909)\n",
    "print(op)"
   ]
  },
  {
   "cell_type": "code",
   "execution_count": 7,
   "metadata": {},
   "outputs": [],
   "source": [
    "def op_average(u, array, fs_atom_name, sn_atom_name , box, x_max, n_bins, n_neigh, l):\n",
    "\n",
    "    '''\n",
    "    Input:\n",
    "      array(numpy.ndarray) : (n_time_frames)  ex) [0,100,200,300...,1000]\n",
    "      \n",
    "    output:\n",
    "      bins(numpy.ndarray) : (n_bins,) array of bins\n",
    "      gr_average(numpy.ndarray) : (n_bins, ) radial distribution function\n",
    "      nr_average(numpy.ndarray) : (n_bins, ) number of cumulative molecules\n",
    "    \n",
    "    '''\n",
    "    \n",
    "    u.trajectory[0]\n",
    "    p = u.select_atoms(fs_atom_name)\n",
    "    o = p.atoms.positions\n",
    "    N = o.shape[0] # number of molecules\n",
    "\n",
    "    \n",
    "    rdf__ = np.zeros(n_bins)\n",
    "    opp = np.zeros((N,))\n",
    "    n_bins = n_bins\n",
    "    \n",
    "    for i in array:\n",
    "        u.trajectory[np.int(i)]\n",
    "        p = u.select_atoms(fs_atom_name)\n",
    "        pp = u.select_atoms(sn_atom_name)\n",
    "        bins, rdf_, op = orderparameter(p.atoms.positions, pp.atoms.positions, box, x_max, n_bins, n_neigh, l)\n",
    "        rdf__ += rdf_\n",
    "        opp += op\n",
    "\n",
    "    \n",
    "    return bins, rdf__/len(array), op#opp/len(array)"
   ]
  },
  {
   "cell_type": "code",
   "execution_count": 47,
   "metadata": {},
   "outputs": [],
   "source": [
    "wbins, wrdf_, wop = op_average(uw, np.linspace(0,250,20),\"name OW\", \"name OW\", wbox, 1, 50, 4, 3)"
   ]
  },
  {
   "cell_type": "code",
   "execution_count": 48,
   "metadata": {},
   "outputs": [],
   "source": [
    "hbins, hrdf_, hop = op_average(uh, np.linspace(0,1000,20),\"name OW\", \"name OW\", hbox, 1, 50, 4, 3)"
   ]
  },
  {
   "cell_type": "code",
   "execution_count": 49,
   "metadata": {},
   "outputs": [],
   "source": [
    "cbins, crdf_, cop = op_average(uc, np.linspace(0,1000,20),\"name OW\", \"name OW\", cbox, 1, 50, 4, 3)"
   ]
  },
  {
   "cell_type": "code",
   "execution_count": 93,
   "metadata": {},
   "outputs": [
    {
     "name": "stdout",
     "output_type": "stream",
     "text": [
      "[[11 12 13 22]\n",
      " [21  7 23 14]\n",
      " [31 10 33  7]]\n"
     ]
    }
   ],
   "source": [
    "x= np.array([[11, 12, 13, 22], [21, 7, 23, 14], [31, 10, 33, 7]])\n",
    "print(x)\n",
    "np.savetxt('test.out', (wrdf_,hrdf_,crdf_))   # x,y,z equal sized 1D arrays"
   ]
  },
  {
   "cell_type": "code",
   "execution_count": 104,
   "metadata": {},
   "outputs": [],
   "source": [
    "import pandas as pd\n",
    "import numpy as np\n",
    "\n",
    "a = wbins\n",
    "b = wrdf_/909\n",
    "c = wwrdf_/909\n",
    "\n",
    "d = hbins\n",
    "e = hrdf_/1024\n",
    "f = hhrdf_/1024\n",
    "\n",
    "g = cbins\n",
    "h = crdf_/1000\n",
    "i = ccrdf_/1000\n",
    "\n",
    "df = pd.DataFrame({\"wbins\" : a, \"P(water3)\" : b, \"P(water6)\" : c, \"hbins\" : d, \"P(hice3)\" : e, \"P(hice6)\" : f, \"cbins\" : g, \"P(cice3)\" : h, \"P(cice6)\" : i})\n",
    "df.to_csv(\"submission2.csv\", index=False)"
   ]
  },
  {
   "cell_type": "code",
   "execution_count": 201,
   "metadata": {},
   "outputs": [],
   "source": [
    "a = wbins\n",
    "b = wrdf_/909\n",
    "c = wwrdf_/909\n",
    "cc = wop\n",
    "ccc = wwop\n",
    "\n",
    "d = hbins\n",
    "e = hrdf_/1024\n",
    "f = hhrdf_/1024\n",
    "ff = hop\n",
    "fff = hhop\n",
    "\n",
    "g = cbins\n",
    "h = crdf_/1000\n",
    "i = ccrdf_/1000\n",
    "ii = cop\n",
    "iii = ccop\n",
    "\n",
    "x = []\n",
    "x = x + [a] + [b] + [c] + [cc] + [ccc] + [d] +[e] +[f] + [ff] + [fff] +  [g] +[h] +[i] + [ii] + [iii]\n",
    "\n",
    "import csv\n",
    "\n",
    "csvfile = \"csvfile.csv\"\n",
    "\n",
    "with open(csvfile, \"w\") as output:\n",
    "   writer = csv.writer(output, lineterminator='\\n')\n",
    "   for line in x:\n",
    "       writer.writerow(line)   "
   ]
  },
  {
   "cell_type": "code",
   "execution_count": 166,
   "metadata": {},
   "outputs": [
    {
     "name": "stdout",
     "output_type": "stream",
     "text": [
      "<class 'float'>\n"
     ]
    }
   ],
   "source": [
    "aa = a[0].item()\n",
    "print(type(aa))"
   ]
  },
  {
   "cell_type": "code",
   "execution_count": 153,
   "metadata": {},
   "outputs": [],
   "source": [
    "import csv\n",
    "with open('eggs.csv', 'w', newline='') as csvfile:\n",
    "    spamwriter = csv.writer(csvfile, delimiter=' ',\n",
    "                            quotechar='|', quoting=csv.QUOTE_MINIMAL)\n",
    "    spamwriter.writerow(['Spam'] * 5 + ['Baked Beans'])\n",
    "    spamwriter.writerow(['Spam', 'Lovely Spam', 'Wonderful Spam'])"
   ]
  },
  {
   "cell_type": "code",
   "execution_count": null,
   "metadata": {},
   "outputs": [],
   "source": [
    "np.savetxt(\"20bins\", bins)\n",
    "np.savetxt(\"histo_ice_20times_20bins_l3_4neighbors\", rdf_/1024)\n",
    "np.savetxt(\"op_ice_20times_20ins_l3_4neighbors\", op)"
   ]
  },
  {
   "cell_type": "code",
   "execution_count": 55,
   "metadata": {},
   "outputs": [
    {
     "data": {
      "text/plain": [
       "<matplotlib.legend.Legend at 0x149f3586ca0>"
      ]
     },
     "execution_count": 55,
     "metadata": {},
     "output_type": "execute_result"
    },
    {
     "data": {
      "image/png": "[encoded data removed]",
      "text/plain": [
       "<Figure size 432x288 with 1 Axes>"
      ]
     },
     "metadata": {
      "needs_background": "light"
     },
     "output_type": "display_data"
    }
   ],
   "source": [
    "plt.plot(wbins, wrdf_/50, label='water')\n",
    "plt.plot(hbins, hrdf_/50, label='hexagonal ice')\n",
    "plt.plot(cbins,crdf_/50, label='cubic ice')\n",
    "plt.xlabel(\"Q3(i)\")\n",
    "plt.ylabel(\"P(Q3(i))\")\n",
    "\n",
    "plt.legend()"
   ]
  },
  {
   "cell_type": "code",
   "execution_count": 50,
   "metadata": {},
   "outputs": [],
   "source": [
    "wwbins, wwrdf_, wwop = op_average(uw, np.linspace(0,250,20),\"name OW\", \"name OW\", wbox, 1, 50, 4, 6)"
   ]
  },
  {
   "cell_type": "code",
   "execution_count": 51,
   "metadata": {},
   "outputs": [],
   "source": [
    "hhbins, hhrdf_, hhop = op_average(uh, np.linspace(0,1000,20),\"name OW\", \"name OW\", hbox, 1, 50, 4, 6)"
   ]
  },
  {
   "cell_type": "code",
   "execution_count": 52,
   "metadata": {},
   "outputs": [],
   "source": [
    "ccbins, ccrdf_, ccop = op_average(uc, np.linspace(0,1000,20),\"name OW\", \"name OW\", cbox, 1, 50, 4, 6)"
   ]
  },
  {
   "cell_type": "code",
   "execution_count": 54,
   "metadata": {},
   "outputs": [
    {
     "data": {
      "text/plain": [
       "<matplotlib.legend.Legend at 0x149f350fdc0>"
      ]
     },
     "execution_count": 54,
     "metadata": {},
     "output_type": "execute_result"
    },
    {
     "data": {
      "image/png": "[encoded data removed]",
      "text/plain": [
       "<Figure size 432x288 with 1 Axes>"
      ]
     },
     "metadata": {
      "needs_background": "light"
     },
     "output_type": "display_data"
    }
   ],
   "source": [
    "plt.plot(wwbins, wwrdf_/909, label='water')\n",
    "plt.plot(hhbins, hhrdf_/1024, label='hexagonal ice')\n",
    "plt.plot(ccbins,ccrdf_/1000, label='cubic ice')\n",
    "plt.xlabel(\"Q6(i)\")\n",
    "plt.ylabel(\"P(Q6(i))\")\n",
    "\n",
    "\n",
    "plt.legend()"
   ]
  },
  {
   "cell_type": "code",
   "execution_count": 68,
   "metadata": {},
   "outputs": [
    {
     "data": {
      "text/plain": [
       "<matplotlib.legend.Legend at 0x18849c49bb0>"
      ]
     },
     "execution_count": 68,
     "metadata": {},
     "output_type": "execute_result"
    },
    {
     "data": {
      "image/png": "[encoded data removed]",
      "text/plain": [
       "<Figure size 432x288 with 1 Axes>"
      ]
     },
     "metadata": {
      "needs_background": "light"
     },
     "output_type": "display_data"
    }
   ],
   "source": [
    "plt.plot(wop, wwop, 'bo', label= 'water')\n",
    "plt.plot(hop, hhop, 'go', label= 'cubic ice')\n",
    "plt.plot(cop, ccop, 'ro', label= 'cubic ice')\n",
    "plt.legend()"
   ]
  },
  {
   "cell_type": "code",
   "execution_count": 197,
   "metadata": {},
   "outputs": [
    {
     "data": {
      "text/plain": [
       "<matplotlib.legend.Legend at 0x2ca03980b20>"
      ]
     },
     "execution_count": 197,
     "metadata": {},
     "output_type": "execute_result"
    },
    {
     "data": {
      "image/png": "[encoded data removed]",
      "text/plain": [
       "<Figure size 432x288 with 1 Axes>"
      ]
     },
     "metadata": {
      "needs_background": "light"
     },
     "output_type": "display_data"
    }
   ],
   "source": [
    "plt.scatter(wop, wwop, s=2, label = 'water')\n",
    "plt.scatter(hop, hhop, s=2, label = 'hexagonal ice')\n",
    "plt.scatter(cop, ccop, s=2, label = 'cubic ice')\n",
    "plt.legend()\n"
   ]
  },
  {
   "cell_type": "code",
   "execution_count": 81,
   "metadata": {},
   "outputs": [
    {
     "name": "stdout",
     "output_type": "stream",
     "text": [
      "[0.70943412 0.71279363 0.71071585 ... 0.70982904 0.72068824 0.71491048]\n"
     ]
    }
   ],
   "source": [
    "print(hop)"
   ]
  },
  {
   "cell_type": "code",
   "execution_count": 10,
   "metadata": {},
   "outputs": [],
   "source": [
    "def gop_average(u, array, fs_atom_name, sn_atom_name , box, x_max, n_bins, n_neigh, l):\n",
    "\n",
    "    '''\n",
    "    Input:\n",
    "      array(numpy.ndarray) : (n_time_frames)  ex) [0,100,200,300...,1000]\n",
    "      \n",
    "    output:\n",
    "      bins(numpy.ndarray) : (n_bins,) array of bins\n",
    "      gr_average(numpy.ndarray) : (n_bins, ) radial distribution function\n",
    "      nr_average(numpy.ndarray) : (n_bins, ) number of cumulative molecules\n",
    "    \n",
    "    '''\n",
    "    \n",
    "    u.trajectory[0]\n",
    "    p = u.select_atoms(fs_atom_name)\n",
    "    o = p.atoms.positions\n",
    "    N = o.shape[0] # number of molecules\n",
    "\n",
    "    \n",
    "    op = 0\n",
    "    \n",
    "    for i in array:\n",
    "        u.trajectory[np.int(i)]\n",
    "        p = u.select_atoms(fs_atom_name)\n",
    "        pp = u.select_atoms(sn_atom_name)\n",
    "        a = global_st(p.atoms.positions, pp.atoms.positions, box, x_max, n_bins, n_neigh, l)\n",
    "        op = op + a\n",
    "\n",
    "    \n",
    "    return op/len(array)"
   ]
  },
  {
   "cell_type": "code",
   "execution_count": 42,
   "metadata": {},
   "outputs": [
    {
     "name": "stdout",
     "output_type": "stream",
     "text": [
      "(-0.0006766704445930464+0.00010097081098161303j)\n",
      "(0.00028481671375210973-0.000878855951938722j)\n",
      "(-0.0008784541298169901+0.00044257220090034526j)\n",
      "(-0.001058119945959989+0j)\n",
      "(0.0008784541298169856+0.00044257220090034493j)\n",
      "(0.0002848167137521105+0.0008788559519387214j)\n",
      "(0.0006766704445930445+0.00010097081098161272j)\n",
      "(0.0006297374800808739+0.0009406665865651261j)\n",
      "(0.00044545670792455134+0.00047699715017055774j)\n",
      "(0.001006184537453928-0.0004079335476312307j)\n",
      "(0.0023175819571687054+0j)\n",
      "(-0.0010061845374539273-0.00040793354763123097j)\n",
      "(0.00044545670792455025-0.0004769971501705578j)\n",
      "(-0.000629737480080873+0.0009406665865651243j)\n",
      "(0.001243784440525519+0.00020930126758008304j)\n",
      "(-0.0010835679271885192+0.0007525590953184491j)\n",
      "(-0.00021621695177106596-0.0006999429425617287j)\n",
      "(-0.0005279638082781338+0j)\n",
      "(0.00021621695177106304-0.0006999429425617297j)\n",
      "(-0.0010835679271885197-0.0007525590953184471j)\n",
      "(-0.001243784440525518+0.0002093012675800804j)\n",
      "(-0.0009438404480735878+0.0004073387204633548j)\n",
      "(0.000498325719399249-0.00014396489477387273j)\n",
      "(8.77540736855027e-06+0.0006162438116521093j)\n",
      "(0.0009389818476920419+0j)\n",
      "(-8.775407368547811e-06+0.0006162438116521125j)\n",
      "(0.0004983257193992497+0.00014396489477387276j)\n",
      "(0.0009438404480735842+0.0004073387204633549j)\n",
      "(-0.0013393891657237094+0.00031306348129614837j)\n",
      "(0.00015676600825097209+0.0012123443756239312j)\n",
      "(0.0006304194522445312+7.050110748496972e-05j)\n",
      "(0.00014452210410327346+0j)\n",
      "(-0.000630419452244531+7.050110748496752e-05j)\n",
      "(0.00015676600825097138-0.001212344375623931j)\n",
      "(0.0013393891657237057+0.00031306348129614853j)\n",
      "(-0.0005022887552336786-0.0014390435789434731j)\n",
      "(-0.0011104480145830479+0.001748151930402337j)\n",
      "(-0.000237587695685663+0.0012543297769267853j)\n",
      "(4.041008067644549e-05+0j)\n",
      "(0.00023758769568566423+0.0012543297769267853j)\n",
      "(-0.0011104480145830468-0.0017481519304023364j)\n",
      "(0.0005022887552336799-0.0014390435789434738j)\n",
      "(0.0007721567621338642+0.0005428113811727861j)\n",
      "(0.0004641497971511958-0.0017790500981751335j)\n",
      "(-0.0008539697383718335-0.0008881503251678386j)\n",
      "(-0.0007272785082065478+0j)\n",
      "(0.0008539697383718335-0.0008881503251678367j)\n",
      "(0.00046414979715119343+0.0017790500981751307j)\n",
      "(-0.0007721567621338672+0.0005428113811727877j)\n",
      "(0.00021133459361230737-0.000723085053705543j)\n",
      "(-0.0004735281425802214-0.001032770153703949j)\n",
      "(-0.0010020671655879346+0.0008942625299657251j)\n",
      "(-0.0002507716411035887+0j)\n",
      "(0.0010020671655879335+0.0008942625299657227j)\n",
      "(-0.0004735281425802214+0.0010327701537039486j)\n",
      "(-0.00021133459361230602-0.0007230850537055446j)\n",
      "(0.0007429352597162046+0.0001295850075910814j)\n",
      "(0.0014511995302629744-0.000237529287093345j)\n",
      "(-0.0008634982076497263+0.0011599662054044774j)\n",
      "(-0.001476558806374887+0j)\n",
      "(0.0008634982076497278+0.00115996620540448j)\n",
      "(0.001451199530262972+0.00023752928709334673j)\n",
      "(-0.0007429352597162052+0.00012958500759108232j)\n",
      "(-0.0007306440864643763-0.0010967931224934466j)\n",
      "(-0.000605468684108601-0.0016750080661780242j)\n",
      "(0.000744703954374196+0.00018760527847178784j)\n",
      "(-0.0013384857976325372+0j)\n",
      "(-0.0007447039543741955+0.00018760527847178866j)\n",
      "(-0.0006054686841085989+0.0016750080661780246j)\n",
      "(0.0007306440864643744-0.001096793122493447j)\n",
      "(-0.0002522573280948485-0.0010309393738694235j)\n",
      "(-0.00019457611669788718+0.0009108753234167857j)\n",
      "(0.0004838285791291556-0.0012622607581366115j)\n",
      "(0.0002462407984166921+0j)\n",
      "(-0.00048382857912915485-0.0012622607581366124j)\n",
      "(-0.0001945761166978871-0.000910875323416785j)\n",
      "(0.000252257328094847-0.0010309393738694261j)\n",
      "(9.455106907123607e-05-0.00038871945389372934j)\n",
      "(0.00032891385694643586+0.0009458657701103451j)\n",
      "(0.00036765275305028+0.0015232272700875537j)\n",
      "(-0.0015202562221709095+0j)\n",
      "(-0.00036765275305027925+0.0015232272700875544j)\n",
      "(0.0003289138569464394-0.0009458657701103451j)\n",
      "(-9.455106907123373e-05-0.00038871945389372815j)\n",
      "(0.0011659177287801888+0.00027904731292158956j)\n",
      "(-0.0005176846939866957-0.0007628959402502648j)\n",
      "(-0.0002587021035829067-0.0007724121283683617j)\n",
      "(0.00166367157747781+0j)\n",
      "(0.000258702103582907-0.0007724121283683627j)\n",
      "(-0.0005176846939866949+0.0007628959402502653j)\n",
      "(-0.0011659177287801881+0.00027904731292159026j)\n",
      "(-3.088468185385558e-05+0.0015382190613487958j)\n",
      "(0.000633636754026653-2.7498754662795467e-05j)\n",
      "(0.0011492542558390099+1.4887007460978744e-05j)\n",
      "(0.001025049248796602+0j)\n",
      "(-0.0011492542558390083+1.4887007460977921e-05j)\n",
      "(0.0006336367540266547+2.749875466279559e-05j)\n",
      "(3.088468185385607e-05+0.0015382190613487973j)\n",
      "(0.0012703340871632793+0.0005216685821610805j)\n",
      "(-0.0003606348479568377-0.0003038820518213509j)\n",
      "(0.0003134417225668052-0.001403223416149567j)\n",
      "(-0.0008236721002078811+0j)\n",
      "(-0.0003134417225668007-0.0014032234161495665j)\n",
      "(-0.00036063484795683786+0.0003038820518213505j)\n",
      "(-0.001270334087163278+0.0005216685821610822j)\n",
      "(-0.0005276665954106036-0.0003094037608164812j)\n",
      "(0.0011323748163834695-0.0010527775837812308j)\n",
      "(-0.0007271689627318993-0.002081143701029707j)\n",
      "(0.000145996296002591+0j)\n",
      "(0.0007271689627319003-0.0020811437010297075j)\n",
      "(0.00113237481638347+0.0010527775837812317j)\n",
      "(0.0005276665954106013-0.00030940376081647973j)\n",
      "(-0.000849576459487566+0.0017380662231366937j)\n",
      "(0.0009442293807831272-0.0012131551752390828j)\n",
      "(0.0007244109523882824-0.0001571883436873135j)\n",
      "(0.002443226959459692+0j)\n",
      "(-0.0007244109523882851-0.0001571883436873126j)\n",
      "(0.0009442293807831265+0.0012131551752390844j)\n",
      "(0.0008495764594875655+0.0017380662231366922j)\n",
      "(-0.0012027512905100673+0.001353656286066931j)\n",
      "(-1.9843673014212886e-06-0.0006275346707130038j)\n",
      "(-0.0007955201900740498+0.0003941659357706947j)\n",
      "(-0.0010335156053398406+0j)\n",
      "(0.0007955201900740512+0.0003941659357706954j)\n",
      "(-1.984367301421441e-06+0.0006275346707130032j)\n",
      "(0.0012027512905100645+0.001353656286066933j)\n",
      "(-0.0001381998718147001+0.0006128397615150351j)\n",
      "(2.3949894414302262e-05+1.2135296360961266e-05j)\n",
      "(0.0010926281110590142-0.0003365493723535884j)\n",
      "(0.0012452313519890137+0j)\n",
      "(-0.0010926281110590175-0.00033654937235359154j)\n",
      "(2.3949894414302588e-05-1.2135296360962733e-05j)\n",
      "(0.00013819987181469995+0.0006128397615150341j)\n",
      "(-0.0003931827780423549-0.0005483856019594291j)\n",
      "(-0.0005139620271644027-0.0001224707525125315j)\n",
      "(0.0012957212245149527-0.0008340476727253122j)\n",
      "(-0.0004365463717770472+0j)\n",
      "(-0.0012957212245149547-0.0008340476727253137j)\n",
      "(-0.000513962027164401+0.00012247075251252423j)\n",
      "(0.0003931827780423559-0.000548385601959429j)\n",
      "(2.029351209553834e-09+4.861168950015538e-10j)\n",
      "(-1.0619638065245077e-09-8.931282803169988e-10j)\n",
      "(1.0810347892461353e-09+5.108644779178596e-10j)\n",
      "(-2.2690933172743737e-10+0j)\n",
      "(-1.0810347894900808e-09+5.108644789749567e-10j)\n",
      "(-1.0619638066193754e-09+8.931282796393724e-10j)\n",
      "(-2.0293512093505462e-09+4.861168940257718e-10j)\n",
      "(1.275343959088117e-09-4.365787455672381e-10j)\n",
      "(3.1550770819265277e-10+4.960081186584724e-10j)\n",
      "(-1.4937436509064594e-10+2.1548659045827166e-10j)\n",
      "(3.6521147905995907e-10+0j)\n",
      "(1.4937436460275497e-10+2.154865897806453e-10j)\n",
      "(3.155077084637033e-10-4.960081187601164e-10j)\n",
      "(-1.2753439590203544e-09-4.365787464617049e-10j)\n",
      "(-6.924190834958245e-11+1.6126313594493243e-09j)\n",
      "(-6.958604019947066e-10-4.0525486147840485e-09j)\n",
      "(-1.8640243488283678e-10+5.199364624280424e-09j)\n",
      "(-2.0975531651217308e-09+0j)\n",
      "(1.8640243233496168e-10+5.199364623250432e-09j)\n",
      "(-6.958604022318758e-10+4.052548614519774e-09j)\n",
      "(6.924190856642289e-11+1.6126313603980012e-09j)\n",
      "(-8.394009324662192e-10-4.566543652820363e-10j)\n",
      "(-4.184978872031676e-11-1.5148231190233662e-09j)\n",
      "(2.9505847000703064e-10+9.666779697678138e-11j)\n",
      "(-3.4525322821477543e-10+0j)\n",
      "(-2.9505847011545086e-10+9.666779575705393e-11j)\n",
      "(-4.184978824597831e-11+1.5148231189284986e-09j)\n",
      "(8.394009319241181e-10-4.5665436425204424e-10j)\n",
      "(3.3912976322558047e-12+1.0501047632090112e-09j)\n",
      "(2.9634073989734215e-12+6.794676546937901e-10j)\n",
      "(4.362721082291042e-10-5.831014967747072e-10j)\n",
      "(-1.6226396005181707e-09+0j)\n",
      "(-4.3627210860857496e-10-5.831014977504892e-10j)\n",
      "(2.963407854677147e-12-6.794676552291149e-10j)\n",
      "(-3.3912967648940667e-12+1.050104763588482e-09j)\n",
      "(1.1031890433582442e-09+8.893068082610998e-11j)\n",
      "(-3.5486389006337063e-10-2.0562155128670554e-10j)\n",
      "(-3.261066818058961e-10-6.875800460947896e-10j)\n",
      "(-9.44978452815091e-10+0j)\n",
      "(3.26106676764356e-10-6.875800482631939e-10j)\n",
      "(-3.54863889636466e-10+2.0562155111052268e-10j)\n",
      "(-1.1031890435547558e-09+8.893068082610998e-11j)\n",
      "(-1.324672491720435e-09-1.9893799961724244e-08j)\n"
     ]
    },
    {
     "name": "stdout",
     "output_type": "stream",
     "text": [
      "(-1.4390551874725365e-10+6.269472972103096e-08j)\n",
      "(-2.011129355227164e-10-8.144696428559863e-08j)\n",
      "(2.012517049409683e-09+0j)\n",
      "(2.0111293424877885e-10-8.144696428698099e-08j)\n",
      "(-1.4390551880824002e-10-6.269472972108517e-08j)\n",
      "(1.3246724915442522e-09-1.9893799961615824e-08j)\n",
      "(9.367219988839028e-10-2.215133135149679e-08j)\n",
      "(2.2430295420450513e-10+8.250654559424441e-08j)\n",
      "(2.7796364293402806e-10-1.1762326859832508e-07j)\n",
      "(4.576549490667003e-10+0j)\n",
      "(-2.779636411993046e-10-1.1762326859650904e-07j)\n",
      "(2.2430295512099478e-10-8.250654559389882e-08j)\n",
      "(-9.367219991752822e-10-2.2151331351740735e-08j)\n",
      "(4.5412450161064666e-10+1.1787462866137861e-09j)\n",
      "(-1.8405865333226255e-09+4.2227257092732615e-09j)\n",
      "(-2.312118149933387e-10+4.468216213178314e-09j)\n",
      "(-3.1395047767420912e-09+0j)\n",
      "(2.3121181423439718e-10+4.468216214587777e-09j)\n",
      "(-1.8405865325484374e-09-4.2227257087853705e-09j)\n",
      "(-4.541245015835416e-10+1.1787462862343154e-09j)\n",
      "(3.023962886755519e-09-4.0211857631135446e-10j)\n",
      "(1.5505649803677305e-10-2.575422805315493e-10j)\n",
      "(6.322262930736657e-10-1.7502353955251362e-10j)\n",
      "(-1.2365442001027326e-09+0j)\n",
      "(-6.322262917184129e-10-1.7502353947119846e-10j)\n",
      "(1.550564978063801e-10+2.575422809584539e-10j)\n",
      "(-3.0239628865386787e-09-4.021185761216191e-10j)\n",
      "(1.2122178207518881e-09-4.0690607529475856e-10j)\n",
      "(-5.32054757066883e-10+8.09441981418856e-11j)\n",
      "(-8.0819102159322e-10-4.191970067780621e-10j)\n",
      "(-2.7415273415147545e-10+0j)\n",
      "(8.081910203463875e-10-4.191970085669957e-10j)\n",
      "(-5.320547567348461e-10-8.094419826385835e-11j)\n",
      "(-1.2122178219851681e-09-4.0690607654159106e-10j)\n",
      "(-7.246857352283275e-10-1.550203633212191e-09j)\n",
      "(-7.70463879075527e-10-1.7495529175591226e-09j)\n",
      "(-5.7247847629927906e-11-1.1498587740061024e-10j)\n",
      "(-2.448972822825118e-09+0j)\n",
      "(5.724784646441057e-11-1.1498587647903839e-10j)\n",
      "(-7.704638787621248e-10+1.7495529165630118e-09j)\n",
      "(7.246857346591214e-10-1.550203633212191e-09j)\n",
      "(4.686688174864156e-10+1.2582474764519496e-09j)\n",
      "(-1.8610924960290936e-09-7.225379780907162e-10j)\n",
      "(4.307234425355265e-10-1.2090187987041923e-09j)\n",
      "(-2.2084900017565806e-09+0j)\n",
      "(-4.3072344410761965e-10-1.2090187999781298e-09j)\n",
      "(-1.8610924954395587e-09+7.225379778738757e-10j)\n",
      "(-4.686688176829272e-10+1.2582474790540348e-09j)\n",
      "(1.0394149562117949e-09-5.248218554621681e-10j)\n",
      "(4.096725813673794e-12-1.0357568550325102e-09j)\n",
      "(2.603189659005408e-10+6.871998689495992e-10j)\n",
      "(2.7054802584445398e-09+0j)\n",
      "(-2.6031896481633864e-10+6.871998698711711e-10j)\n",
      "(4.096725122494909e-12+1.035756855852438e-09j)\n",
      "(-1.0394149563540964e-09-5.248218557061136e-10j)\n",
      "(1.2405125449679562e-09+7.647989364750231e-10j)\n",
      "(8.395227800564236e-10-1.2938004956733582e-09j)\n",
      "(6.505553152929243e-10+1.2810061156634262e-09j)\n",
      "(-8.643590036391238e-10+0j)\n",
      "(-6.505553125553138e-10+1.28100611504001e-09j)\n",
      "(8.395227794770531e-10+1.2938004953277687e-09j)\n",
      "(-1.2405125450763764e-09+7.647989362852877e-10j)\n",
      "(2.0605206143355136e-10-1.199319858512628e-09j)\n",
      "(-6.139180523808633e-10+2.1712007652860995e-09j)\n",
      "(-1.4964256878991292e-10-6.964387618847972e-10j)\n",
      "(2.581400566665105e-10+0j)\n",
      "(1.496425674346602e-10-6.964387617221669e-10j)\n",
      "(-6.139180521369178e-10-2.171200765042154e-09j)\n",
      "(-2.0605206160295795e-10-1.1993198566694844e-09j)\n",
      "(1.1618771073289985e-09+1.2583219408937238e-09j)\n",
      "(1.2334718330671307e-09-3.011195059568299e-09j)\n",
      "(3.38632884672738e-10+2.689596101770105e-09j)\n",
      "(1.5096335714164834e-09+0j)\n",
      "(-3.386328822332831e-10+2.6895961010382687e-09j)\n",
      "(1.2334718328621487e-09+3.0111950590871843e-09j)\n",
      "(-1.1618771073357748e-09+1.2583219412460895e-09j)\n",
      "(-1.030460701583445e-09+5.192298048331892e-09j)\n",
      "(-2.0924058318310648e-10-6.499460507755606e-10j)\n",
      "(-5.805483058261146e-10-1.293289328819884e-09j)\n",
      "(-9.974127462944763e-10+0j)\n",
      "(5.805483062055854e-10-1.2932893277356819e-09j)\n",
      "(-2.0924058328475044e-10+6.499460513718718e-10j)\n",
      "(1.0304607027760673e-09+5.192298047627161e-09j)\n",
      "(1.0873692464290988e-10-2.2551415371067397e-10j)\n",
      "(-2.1208254021644639e-10-7.822746314214795e-10j)\n",
      "(1.633838813753282e-10-6.552799819686123e-10j)\n",
      "(-2.0286968200439962e-10+0j)\n",
      "(-1.6338387814982674e-10-6.552799821854527e-10j)\n",
      "(-2.1208254054170704e-10+7.822746312961186e-10j)\n",
      "(-1.0873692296239652e-10-2.2551415441540539e-10j)\n",
      "(3.836990615914502e-10-4.8809928207506e-10j)\n",
      "(6.033240202121446e-10+3.1858981127736623e-10j)\n",
      "(3.0052965302972134e-10-9.487273235899915e-10j)\n",
      "(-1.8710519684983756e-09+0j)\n",
      "(-3.005296533007719e-10-9.487273232105208e-10j)\n",
      "(6.033240203747749e-10-3.1858981251742247e-10j)\n",
      "(-3.8369906237749676e-10-4.88099281587169e-10j)\n",
      "(5.883904049368282e-10+9.522448684781692e-10j)\n",
      "(-5.202539976045806e-10+2.4456941594142025e-10j)\n",
      "(-5.929405724053317e-11+2.3261157118537048e-11j)\n",
      "(-6.342318532998048e-10+0j)\n",
      "(5.929405670623833e-11+2.3261157014453638e-11j)\n",
      "(-5.202539974206999e-10-2.4456941682959866e-10j)\n",
      "(-5.883904047980504e-10+9.522448683324525e-10j)\n",
      "(5.69033172401201e-10+2.4517671104451467e-10j)\n",
      "(-1.6558094830775028e-09-2.9763283793116103e-10j)\n",
      "(6.199130455838975e-10+8.440382391824986e-10j)\n",
      "(-5.656386914826284e-10+0j)\n",
      "(-6.199130450496027e-10+8.440382389951485e-10j)\n",
      "(-1.6558094828415803e-09+2.9763283981854017e-10j)\n",
      "(-5.690331726995734e-10+2.451767119326931e-10j)\n",
      "(2.865214724541432e-10-1.0889616783998913e-10j)\n",
      "(2.2034882770204793e-09-9.61971963864272e-10j)\n",
      "(-9.217332768499121e-10+1.0423855321371744e-09j)\n",
      "(3.4374183394136893e-10+0j)\n",
      "(9.217332769262399e-10+1.042385532397383e-09j)\n",
      "(2.203488277247728e-09+9.619719653630733e-10j)\n",
      "(-2.865214725582266e-10-1.0889616734038876e-10j)\n",
      "(1.7854939919001445e-09-1.6390835382018577e-10j)\n",
      "(-4.726135139701548e-10+2.4714571300599176e-10j)\n",
      "(2.156895461982028e-09+1.1699764228267905e-10j)\n",
      "(1.428241431997157e-10+0j)\n",
      "(-2.1568954621693783e-09+1.169976421300234e-10j)\n",
      "(-4.726135142268939e-10-2.471457145047928e-10j)\n",
      "(-1.7854939920111668e-09-1.6390835429896944e-10j)\n",
      "(5.625402976841554e-10+6.497139924434292e-10j)\n",
      "(1.0403217879026427e-09+8.152485899692863e-10j)\n",
      "(-9.921997357192903e-10-8.222214098463355e-11j)\n",
      "(-7.797941678211462e-10+0j)\n",
      "(9.921997354937763e-10-8.222214037054143e-11j)\n",
      "(1.0403217879338677e-09-8.152485881929294e-10j)\n",
      "(-5.625402968376103e-10+6.497139917981121e-10j)\n",
      "(-9.077638308194192e-10+2.3809939569963136e-10j)\n",
      "(4.5271650343792215e-10+1.8807899992978604e-10j)\n",
      "(-1.6184996684785737e-09-8.910397864964059e-10j)\n",
      "(-3.250025719381267e-11+0j)\n",
      "(1.6184996684265318e-09-8.910397867774312e-10j)\n",
      "(4.527165037224168e-10-1.8807900048489757e-10j)\n",
      "(9.077638307500302e-10+2.380993967508738e-10j)\n",
      "(4.733858307709448e-10-3.4823137261968953e-10j)\n",
      "(1.0976343446239545e-09-4.946097230673629e-10j)\n",
      "(6.372308474916766e-10-1.3718316398160512e-09j)\n",
      "(8.714780982549409e-10+0j)\n",
      "(-6.372308477969879e-10-1.3718316394552289e-09j)\n",
      "(1.097634344471299e-09+4.946097233449187e-10j)\n",
      "(-4.733858303546113e-10-3.482313730707176e-10j)\n",
      "(-1.6298244122150973e-09-5.852874396389263e-10j)\n",
      "(3.2503920070758865e-10+4.578007826716579e-10j)\n",
      "(1.0192619916693512e-09-8.906893522175886e-10j)\n",
      "(1.0897703485931998e-09+0j)\n",
      "(-1.0192619924603853e-09-8.906893522175886e-10j)\n",
      "(3.250392012731085e-10-4.578007856692601e-10j)\n",
      "(1.6298244112436523e-09-5.852874401246488e-10j)\n",
      "(-9.221756489714849e-10-3.229536042967385e-10j)\n",
      "(7.630861607443168e-11+9.191087607662851e-11j)\n",
      "(-2.065569514278498e-09+4.851826751472999e-11j)\n",
      "(9.899435438540105e-10+0j)\n",
      "(2.0655695141189033e-09+4.8518266966557365e-11j)\n",
      "(7.630861568585363e-11-9.191087724236268e-11j)\n",
      "(9.221756483088206e-10-3.229536059481952e-10j)\n",
      "(-2.0938305652848377e-10+1.1678203992587789e-09j)\n",
      "(-4.1530143161244707e-10-6.944336552461294e-10j)\n",
      "(-9.178519562585974e-10-4.799028387961896e-10j)\n",
      "(1.5225012690994745e-09+0j)\n",
      "(9.1785195674432e-10-4.799028387441478e-10j)\n",
      "(-4.153014318067361e-10+6.944336582992428e-10j)\n",
      "(2.093830546306963e-10+1.1678203994912317e-09j)\n",
      "(6.223780012054592e-10+7.132236449283735e-10j)\n",
      "(3.7790739080244274e-10+4.698625196697393e-10j)\n",
      "(8.178886199972091e-10+6.401571986808241e-10j)\n",
      "(-1.9152524564913787e-10+0j)\n",
      "(-8.178886200180258e-10+6.401571994857358e-10j)\n",
      "(3.779073910366304e-10-4.698625222232522e-10j)\n",
      "(-6.223780011638258e-10+7.132236448902096e-10j)\n",
      "(5.328891124339874e-10+5.003139463555239e-10j)\n",
      "(2.4203850696943865e-10+9.032896863825357e-11j)\n",
      "(-5.779583181486636e-10-1.11220367001591e-09j)\n",
      "(4.712347403401652e-10+0j)\n",
      "(5.779583178711079e-10-1.1122036691277316e-09j)\n",
      "(2.4203850685494687e-10-9.032896852723127e-11j)\n",
      "(-5.328891114000922e-10+5.00313946029396e-10j)\n",
      "(-2.046971553093524e-10+6.779992653416223e-11j)\n"
     ]
    },
    {
     "name": "stdout",
     "output_type": "stream",
     "text": [
      "(-1.702123712844783e-10-4.25194353892433e-10j)\n",
      "(3.5005157838358114e-10+2.6552640991495125e-10j)\n",
      "(1.1837687550753095e-09+0j)\n",
      "(-3.5005157861256464e-10+2.65526410456185e-10j)\n",
      "(-1.7021237138509226e-10+4.2519435497490047e-10j)\n",
      "(2.0469715475424089e-10+6.779992614558417e-11j)\n",
      "(-4.453936500448119e-10+9.201276583471752e-10j)\n",
      "(-1.7508300957647106e-10+7.129780066339464e-11j)\n",
      "(-3.939773328409668e-10-8.984815784013334e-10j)\n",
      "(1.6693589102723116e-09+0j)\n",
      "(3.93977333222606e-10-8.984815783597e-10j)\n",
      "(-1.75083009482796e-10-7.129780377201911e-11j)\n",
      "(4.453936508497236e-10+9.2012765888147e-10j)\n",
      "(4.5080794721513717e-10-2.8596204334346843e-10j)\n",
      "(-2.747475852035719e-10+4.1887883239777327e-10j)\n",
      "(1.2741059730175808e-09-1.0202682953833198e-09j)\n",
      "(1.4601482208262406e-09+0j)\n",
      "(-1.2741059740306593e-09-1.0202682955047504e-09j)\n",
      "(-2.747475851758163e-10-4.1887883406310777e-10j)\n",
      "(-4.50807946965337e-10-2.859620433781629e-10j)\n",
      "(-1.1945613987568438e-10-4.3221858047129413e-10j)\n",
      "(1.5539295746963555e-09+1.3238487361899588e-11j)\n",
      "(1.1535679628714435e-10+7.029584080039953e-10j)\n",
      "(4.840213370868595e-10+0j)\n",
      "(-1.1535679661847653e-10+7.029584076397033e-10j)\n",
      "(1.5539295756192283e-09-1.3238490470524056e-11j)\n",
      "(1.194561392720006e-10-4.3221857960740185e-10j)\n",
      "(1.2328131273053877e-09-7.920069752601066e-10j)\n",
      "(8.251059570793529e-10-1.0897890206917893e-10j)\n",
      "(-1.0777960587557423e-10-2.6935447939788195e-10j)\n",
      "(-8.632678366315983e-10+0j)\n",
      "(1.0777960582006307e-10-2.693544794325764e-10j)\n",
      "(8.251059569613917e-10+1.0897890267980159e-10j)\n",
      "(-1.232813127284571e-09-7.920069754266401e-10j)\n",
      "(-6.505380799742833e-10+7.697221954955369e-11j)\n",
      "(1.1183814762061318e-09+5.090977327482094e-10j)\n",
      "(-1.8776051799451743e-10-8.020663245997261e-10j)\n",
      "(4.794506023031442e-10+0j)\n",
      "(1.8776051850105668e-10-8.020663243984982e-10j)\n",
      "(1.1183814762755206e-09-5.090977340804769e-10j)\n",
      "(6.505380806265393e-10+7.697221861280301e-11j)\n",
      "(2.5202277154426355e-10-5.407233640529474e-10j)\n",
      "(4.83047029854744e-10+3.9048450467538133e-10j)\n",
      "(-1.0218270439163458e-09+2.6449168303438466e-10j)\n",
      "(-4.344958964841439e-11+0j)\n",
      "(1.0218270444992128e-09+2.644916827047872e-10j)\n",
      "(4.830470295980049e-10-3.9048450201084605e-10j)\n",
      "(-2.520227708156797e-10-5.407233636782471e-10j)\n",
      "(-0.00010518070555022543+0.00014911108898360616j)\n",
      "(4.071135469985853e-06+7.110456988971792e-05j)\n",
      "(-6.82122163004526e-05-5.9517861475714637e-05j)\n",
      "(-6.507607750591838e-05+0j)\n",
      "(6.821221630045275e-05-5.951786147571488e-05j)\n",
      "(4.071135469985873e-06-7.110456988971725e-05j)\n",
      "(0.00010518070555022476+0.00014911108898360635j)\n",
      "0.004135283895530062 2.8972323507694558e-08 2.0907340059652175e-05\n"
     ]
    }
   ],
   "source": [
    "gwwop = gop_average(uw, np.linspace(0,250,20),\"name OW\", \"name OW\", wbox, 1, 50, 4, 3)\n",
    "ghhop = gop_average(uh, np.linspace(0,250,20),\"name OW\", \"name OW\", hbox, 1, 50, 4, 3)\n",
    "gccop = gop_average(uc, np.linspace(0,250,20),\"name OW\", \"name OW\", cbox, 1, 50, 4, 3)\n",
    "print(gwwop,ghhop,gccop)"
   ]
  },
  {
   "cell_type": "code",
   "execution_count": 33,
   "metadata": {},
   "outputs": [
    {
     "name": "stdout",
     "output_type": "stream",
     "text": [
      "0.021803219854976248\n"
     ]
    }
   ],
   "source": [
    "print(wwop)"
   ]
  },
  {
   "cell_type": "code",
   "execution_count": 118,
   "metadata": {},
   "outputs": [],
   "source": [
    "def global_st(pos_A, pos_B, box,x_max, n_bins, n_neigh, l):\n",
    "    \n",
    "#For 4 neighbors\n",
    "    \n",
    "    o = pos_A\n",
    "    N = o.shape[0] # number of molecules\n",
    "    dist = np.abs(o[:, np.newaxis, :] - o)\n",
    "    ddist = np.abs(dist - box)\n",
    "    dist = np.minimum(dist, ddist)\n",
    "    dist = np.reshape(dist*dist, (N*N,3))\n",
    "    dist = np.sum(dist,axis = 1)\n",
    "    dist = np.sqrt(dist)\n",
    "\n",
    "\n",
    "\n",
    "    n = n_neigh #number of neighbors\n",
    "    neighbor_list = np.zeros((N,n))\n",
    "\n",
    "\n",
    "    for i in range(N):\n",
    "        distij = dist[i*(N):(i+1)*(N)] #make (N,) distance vector\n",
    "        list = np.argsort(distij)\n",
    "        neighbor_list[i,:] = list[1:n+1]\n",
    "    \n",
    "\n",
    "    a = 0\n",
    "    for k in range(-l,l+1):\n",
    "        s = 0\n",
    "        for i in range(N):\n",
    "#             print(i,neighbor_list[i])\n",
    "            s = s + steinhardt(k,l,i,neighbor_list[i],o,box)\n",
    "        s = s/N\n",
    "        print(s)\n",
    "        s = np.absolute(s*np.conjugate(s))\n",
    "        a = a + s\n",
    "    \n",
    "    op = np.sqrt(4*np.pi/(2*l+1)*a)\n",
    "\n",
    "\n",
    "    \n",
    "\n",
    "    return op,neighbor_list"
   ]
  },
  {
   "cell_type": "code",
   "execution_count": 34,
   "metadata": {},
   "outputs": [],
   "source": [
    "def gop_average_cutoff(u, array, fs_atom_name, sn_atom_name , box, x_max, n_bins, cutoff, l):\n",
    "\n",
    "    '''\n",
    "    Input:\n",
    "      array(numpy.ndarray) : (n_time_frames)  ex) [0,100,200,300...,1000]\n",
    "      \n",
    "    output:\n",
    "      bins(numpy.ndarray) : (n_bins,) array of bins\n",
    "      gr_average(numpy.ndarray) : (n_bins, ) radial distribution function\n",
    "      nr_average(numpy.ndarray) : (n_bins, ) number of cumulative molecules\n",
    "    \n",
    "    '''\n",
    "    \n",
    "    u.trajectory[0]\n",
    "    p = u.select_atoms(fs_atom_name)\n",
    "    o = p.atoms.positions\n",
    "    N = o.shape[0] # number of molecules\n",
    "\n",
    "    \n",
    "    op = 0\n",
    "    \n",
    "    for i in array:\n",
    "        u.trajectory[np.int(i)]\n",
    "        p = u.select_atoms(fs_atom_name)\n",
    "        pp = u.select_atoms(sn_atom_name)\n",
    "        a = global_st_cutoff(p.atoms.positions, pp.atoms.positions, box, x_max, n_bins, cutoff, l)\n",
    "        op = op + a\n",
    "\n",
    "    \n",
    "    return op/len(array)"
   ]
  },
  {
   "cell_type": "code",
   "execution_count": 119,
   "metadata": {},
   "outputs": [],
   "source": [
    "def global_st_cutoff(pos_A, pos_B, box,x_max, n_bins, cutoff, l):\n",
    "    \n",
    "#For distance\n",
    "    \n",
    "    o = pos_A\n",
    "    N = o.shape[0] # number of molecules\n",
    "    dist = np.abs(o[:, np.newaxis, :] - o)\n",
    "    ddist = np.abs(dist - box)\n",
    "    dist = np.minimum(dist, ddist)\n",
    "    dist = np.reshape(dist*dist, (N*N,3))\n",
    "    dist = np.sum(dist,axis = 1)\n",
    "    dist = np.sqrt(dist)\n",
    "\n",
    "\n",
    "\n",
    "    neighbor_list = []\n",
    "\n",
    "\n",
    "    for i in range(N):\n",
    "        distij = dist[i*(N):(i+1)*(N)] #make (N,) distance vector\n",
    "        list = np.argsort(distij)\n",
    "        distij = np.sort(distij)\n",
    "\n",
    "\n",
    "        k = 1\n",
    "        arr = []\n",
    "        while distij[k] < cutoff:\n",
    "            arr += [list[k]]\n",
    "            k += 1\n",
    "        arr = np.array(arr)\n",
    "        neighbor_list += [arr]\n",
    "    \n",
    "\n",
    "    a = 0\n",
    "    for k in range(-l,l+1):\n",
    "        s = 0\n",
    "        for i in range(N):\n",
    "#             print(i,neighbor_list[i])\n",
    "            s = s + steinhardt(k,l,i,neighbor_list[i],o,box)\n",
    "        s = s/N\n",
    "        print(s)\n",
    "        s = np.absolute(s*np.conjugate(s))\n",
    "        a = a + s\n",
    "    \n",
    "    op = np.sqrt(4*np.pi/(2*l+1)*a)\n",
    "    \n",
    "#     print(neighbor_list)\n",
    "\n",
    "\n",
    "    \n",
    "\n",
    "    return op,neighbor_list"
   ]
  },
  {
   "cell_type": "code",
   "execution_count": 36,
   "metadata": {},
   "outputs": [
    {
     "name": "stdout",
     "output_type": "stream",
     "text": [
      "0.0026713757086621413 0.00021777841550165694 0.00017304186427640739\n"
     ]
    }
   ],
   "source": [
    "gwwop = gop_average_cutoff(uw, np.linspace(0,250,20),\"name OW\", \"name OW\", wbox, 1, 50, 3.5, 3)\n",
    "ghhop = gop_average_cutoff(uh, np.linspace(0,250,20),\"name OW\", \"name OW\", hbox, 1, 50, 3.5, 3)\n",
    "gccop = gop_average_cutoff(uc, np.linspace(0,250,20),\"name OW\", \"name OW\", cbox, 1, 50, 3.5, 3)\n",
    "print(gwwop,ghhop,gccop)"
   ]
  },
  {
   "cell_type": "code",
   "execution_count": 37,
   "metadata": {},
   "outputs": [
    {
     "name": "stdout",
     "output_type": "stream",
     "text": [
      "0.022442875702126212 0.23374501965637298 0.45130211139304777\n"
     ]
    }
   ],
   "source": [
    "gwwop = gop_average_cutoff(uw, np.linspace(0,250,20),\"name OW\", \"name OW\", wbox, 1, 50, 3.5, 4)\n",
    "ghhop = gop_average_cutoff(uh, np.linspace(0,250,20),\"name OW\", \"name OW\", hbox, 1, 50, 3.5, 4)\n",
    "gccop = gop_average_cutoff(uc, np.linspace(0,250,20),\"name OW\", \"name OW\", cbox, 1, 50, 3.5, 4)\n",
    "print(gwwop,ghhop,gccop)"
   ]
  },
  {
   "cell_type": "code",
   "execution_count": 38,
   "metadata": {},
   "outputs": [
    {
     "name": "stdout",
     "output_type": "stream",
     "text": [
      "0.002362045413123792 0.00011172846339566164 0.00010437134769985313\n"
     ]
    }
   ],
   "source": [
    "gwwop = gop_average_cutoff(uw, np.linspace(0,250,20),\"name OW\", \"name OW\", wbox, 1, 50, 3.5, 5)\n",
    "ghhop = gop_average_cutoff(uh, np.linspace(0,250,20),\"name OW\", \"name OW\", hbox, 1, 50, 3.5, 5)\n",
    "gccop = gop_average_cutoff(uc, np.linspace(0,250,20),\"name OW\", \"name OW\", cbox, 1, 50, 3.5, 5)\n",
    "print(gwwop,ghhop,gccop)"
   ]
  },
  {
   "cell_type": "code",
   "execution_count": 39,
   "metadata": {},
   "outputs": [
    {
     "name": "stdout",
     "output_type": "stream",
     "text": [
      "0.02061096208574381 0.40899585554044 0.48698943225995917\n"
     ]
    }
   ],
   "source": [
    "gwwop = gop_average_cutoff(uw, np.linspace(0,250,20),\"name OW\", \"name OW\", wbox, 1, 50, 3.5, 6)\n",
    "ghhop = gop_average_cutoff(uh, np.linspace(0,250,20),\"name OW\", \"name OW\", hbox, 1, 50, 3.5, 6)\n",
    "gccop = gop_average_cutoff(uc, np.linspace(0,250,20),\"name OW\", \"name OW\", cbox, 1, 50, 3.5, 6)\n",
    "print(gwwop,ghhop,gccop)"
   ]
  },
  {
   "cell_type": "code",
   "execution_count": 40,
   "metadata": {},
   "outputs": [
    {
     "name": "stdout",
     "output_type": "stream",
     "text": [
      "0.0025136406120486116 0.00014278775548329548 0.00013786097975587518\n"
     ]
    }
   ],
   "source": [
    "gwwop = gop_average_cutoff(uw, np.linspace(0,250,20),\"name OW\", \"name OW\", wbox, 1, 50, 3.5, 7)\n",
    "ghhop = gop_average_cutoff(uh, np.linspace(0,250,20),\"name OW\", \"name OW\", hbox, 1, 50, 3.5, 7)\n",
    "gccop = gop_average_cutoff(uc, np.linspace(0,250,20),\"name OW\", \"name OW\", cbox, 1, 50, 3.5, 7)\n",
    "print(gwwop,ghhop,gccop)"
   ]
  },
  {
   "cell_type": "code",
   "execution_count": 122,
   "metadata": {},
   "outputs": [
    {
     "name": "stdout",
     "output_type": "stream",
     "text": [
      "-1.0000007\n",
      "1.0000006\n",
      "(0.0003351521711811617-0.001236145760909215j)\n",
      "-1.0000007\n",
      "1.0000006\n",
      "(-0.0007738078779958091+0.00041836919818451077j)\n",
      "-1.0000007\n",
      "1.0000006\n",
      "(-0.0006377319898828216-0.0014567316697222865j)\n",
      "-1.0000007\n",
      "1.0000006\n",
      "(-0.0010861273264213857+0j)\n",
      "-1.0000007\n",
      "1.0000006\n",
      "(0.0006377319898828202-0.0014567316697222865j)\n",
      "-1.0000007\n",
      "1.0000006\n",
      "(-0.0007738078779958091-0.00041836919818451066j)\n",
      "-1.0000007\n",
      "1.0000006\n",
      "(-0.0003351521711811624-0.0012361457609092149j)\n",
      "0.004457007924702342\n"
     ]
    }
   ],
   "source": [
    "uw.trajectory[10]\n",
    "pw = uw.select_atoms(\"name OW\")\n",
    "gwop,gneighbor_list = global_st(pw.atoms.positions, pw.atoms.positions, wbox, 1, 20, 4, 3)\n",
    "print(gwop)"
   ]
  },
  {
   "cell_type": "code",
   "execution_count": 164,
   "metadata": {},
   "outputs": [
    {
     "name": "stdout",
     "output_type": "stream",
     "text": [
      "-1.0000001\n",
      "1.0000001\n",
      "-1.0000001\n",
      "1.0000004\n",
      "(0.00015772897001864068+0.00045584257738954414j)\n",
      "-1.0000001\n",
      "1.0000001\n",
      "-1.0000001\n",
      "1.0000004\n",
      "(0.00020183414881576615+0.0002853051193800423j)\n",
      "-1.0000001\n",
      "1.0000001\n",
      "-1.0000001\n",
      "1.0000004\n",
      "(0.00026663050501437327+0.00033757956680620116j)\n",
      "-1.0000001\n",
      "1.0000001\n",
      "-1.0000001\n",
      "1.0000004\n",
      "(-0.0006122560675305961+0j)\n",
      "-1.0000001\n",
      "1.0000001\n",
      "-1.0000001\n",
      "1.0000004\n",
      "(-0.0002666305050143738+0.0003375795668062036j)\n",
      "-1.0000001\n",
      "1.0000001\n",
      "-1.0000001\n",
      "1.0000004\n",
      "(0.00020183414881576667-0.000285305119380044j)\n",
      "-1.0000001\n",
      "1.0000001\n",
      "-1.0000001\n",
      "1.0000004\n",
      "(-0.0001577289700186402+0.0004558425773895423j)\n",
      "0.001615935261668649\n"
     ]
    }
   ],
   "source": [
    "uw.trajectory[14]\n",
    "pw = uw.select_atoms(\"name OW\")\n",
    "gwop,gneighbor_list_cutoff = global_st_cutoff(pw.atoms.positions, pw.atoms.positions, wbox, 1, 20, 3.5, 3)\n",
    "print(gwop)"
   ]
  },
  {
   "cell_type": "code",
   "execution_count": 125,
   "metadata": {},
   "outputs": [
    {
     "name": "stdout",
     "output_type": "stream",
     "text": [
      "[[867. 115. 588. 836.]\n",
      " [831. 585. 790.   3.]\n",
      " [452.  98. 458. 849.]\n",
      " ...\n",
      " [ 63. 857. 455. 344.]\n",
      " [318. 331. 707. 654.]\n",
      " [427. 151.  19. 641.]]\n"
     ]
    }
   ],
   "source": [
    "print(gneighbor_list)"
   ]
  },
  {
   "cell_type": "code",
   "execution_count": 126,
   "metadata": {},
   "outputs": [
    {
     "name": "stdout",
     "output_type": "stream",
     "text": [
      "[array([867, 115, 588, 836, 873], dtype=int64), array([831, 585, 790,   3], dtype=int64), array([452,  98, 458, 849, 821, 358], dtype=int64), array([340, 660, 405,   1], dtype=int64), array([430, 818, 750, 265], dtype=int64), array([171, 286, 603, 393, 849], dtype=int64), array([484, 594, 498], dtype=int64), array([582, 447,  48, 250], dtype=int64), array([103, 441, 223, 634], dtype=int64), array([834, 126, 591, 805, 467], dtype=int64), array([433, 336,  82, 355, 300], dtype=int64), array([321, 874, 835, 519], dtype=int64), array([147, 456, 295, 139, 168], dtype=int64), array([532, 391, 612, 586, 769, 140], dtype=int64), array([438, 748, 707, 417, 361], dtype=int64), array([691, 781,  22,  66, 436], dtype=int64), array([287, 476, 233, 186], dtype=int64), array([474,  66, 762, 182, 283,  90, 339], dtype=int64), array([792, 819, 450, 495], dtype=int64), array([552, 532, 908, 199, 729], dtype=int64), array([179, 526, 640, 512, 153,  72, 201], dtype=int64), array([461, 730, 221, 174,  42, 245, 736], dtype=int64), array([283, 347, 551,  15, 487, 155], dtype=int64), array([627, 231, 581, 483, 355], dtype=int64), array([257, 320, 102, 761], dtype=int64), array([734,  47, 574, 445], dtype=int64), array([126, 230, 699, 441], dtype=int64), array([701,  68, 670, 202, 137], dtype=int64), array([536, 189, 647, 582, 549], dtype=int64), array([690, 902, 465, 276, 497], dtype=int64), array([587, 373, 447, 902, 700, 521, 690], dtype=int64), array([ 92, 798, 115, 449, 381, 402, 794], dtype=int64), array([807, 239, 620, 648, 530, 868, 213], dtype=int64), array([886, 811, 304, 661,  68, 521], dtype=int64), array([273, 207, 634,  69], dtype=int64), array([271, 324, 294,  85, 852, 425], dtype=int64), array([359, 586, 563, 409, 491, 224], dtype=int64), array([157, 555, 739, 507], dtype=int64), array([859, 135, 475, 324, 178], dtype=int64), array([408, 799, 836, 794], dtype=int64), array([753, 632, 602, 383, 303], dtype=int64), array([348, 784, 878, 193, 239], dtype=int64), array([461, 339, 736,  93, 253,  21], dtype=int64), array([624, 264, 489, 445], dtype=int64), array([110, 779, 545, 139, 131], dtype=int64), array([269,  75, 548, 887, 441, 359], dtype=int64), array([241, 432, 651,  96, 672], dtype=int64), array([477, 198,  25, 288], dtype=int64), array([292,   7, 649, 536, 295], dtype=int64), array([761, 165, 832, 312], dtype=int64), array([820,  59, 754, 170], dtype=int64), array([ 81, 731, 745, 253, 828, 842], dtype=int64), array([660, 550, 231, 343], dtype=int64), array([594, 179, 132, 162, 188, 419], dtype=int64), array([763, 715, 157, 609, 205], dtype=int64), array([388, 426, 398, 524, 896], dtype=int64), array([ 70, 710, 641], dtype=int64), array([202, 252, 169, 203, 743, 119], dtype=int64), array([284, 837, 630, 517, 590], dtype=int64), array([875,  50, 763, 677], dtype=int64), array([368, 466, 851, 114, 506, 766], dtype=int64), array([585, 784, 859, 772, 767], dtype=int64), array([516, 847, 499, 195, 196], dtype=int64), array([906, 358, 735, 744, 259], dtype=int64), array([150, 195, 816, 703], dtype=int64), array([892, 863,  67,  77], dtype=int64), array([420,  17, 657,  15, 283], dtype=int64), array([439, 776, 134,  65], dtype=int64), array([137,  27, 395, 901,  33, 544, 811, 701], dtype=int64), array([699, 238, 634,  34], dtype=int64), array([136,  56, 748, 687, 796, 782], dtype=int64), array([298, 723, 791, 569, 766], dtype=int64), array([179, 153, 662, 258,  20], dtype=int64), array([361, 636, 414, 541, 874, 771, 438], dtype=int64), array([639, 322, 367, 549, 568], dtype=int64), array([ 45, 359, 166, 101, 887], dtype=int64), array([160, 431, 272, 453,  97, 858], dtype=int64), array([462,  65, 541, 372, 303], dtype=int64), array([284, 310, 170, 190, 671, 780, 820], dtype=int64), array([446, 726, 773, 572], dtype=int64), array([435, 563, 501, 224, 370, 385, 611, 591], dtype=int64), array([203,  51, 558, 722, 842], dtype=int64), array([685, 144,  10, 368], dtype=int64), array([503, 728, 467, 138, 696], dtype=int64), array([787, 632, 246, 613, 318], dtype=int64), array([303, 753,  35, 401, 884, 383], dtype=int64), array([485, 625, 246, 697, 894], dtype=int64), array([875, 653, 739, 121], dtype=int64), array([524, 565, 251, 382, 488, 863], dtype=int64), array([686, 260, 333, 501, 171, 224, 370], dtype=int64), array([762, 339, 352, 554, 803,  17, 552, 746], dtype=int64), array([346, 642, 678, 495, 819, 109], dtype=int64), array([440,  31, 131, 877, 553, 449], dtype=int64), array([262, 576,  42, 454], dtype=int64), array([826, 818, 795, 367], dtype=int64), array([527, 331, 277, 832], dtype=int64), array([535, 525,  46], dtype=int64), array([114,  76, 504, 453, 595], dtype=int64), array([455,   2, 559, 744, 509], dtype=int64), array([401, 861, 590, 884, 788], dtype=int64), array([793, 343, 745, 660], dtype=int64), array([769, 444, 637,  75], dtype=int64), array([665, 329, 525,  24, 338], dtype=int64), array([  8, 232, 230, 635], dtype=int64), array([212, 105, 888, 121], dtype=int64), array([287, 653, 104, 325], dtype=int64), array([459, 811, 670, 304, 747], dtype=int64), array([867, 330, 124, 292], dtype=int64), array([245, 534, 207, 492, 118, 273], dtype=int64), array([642, 854, 678, 883, 130,  91], dtype=int64), array([183, 755,  44, 506, 114], dtype=int64), array([229, 416, 530, 299, 843, 853], dtype=int64), array([702, 197, 162, 813, 629], dtype=int64), array([461, 730, 871, 573, 551, 410], dtype=int64), array([183,  97,  60, 368, 506, 110], dtype=int64), array([449,   0,  31, 502, 867, 836], dtype=int64), array([903, 876, 383, 892, 780], dtype=int64), array([227, 719, 476, 861], dtype=int64), array([207, 424, 666, 238, 108], dtype=int64), array([793, 244, 290, 169,  57], dtype=int64), array([232, 590, 522], dtype=int64), array([ 87, 104, 677, 715], dtype=int64), array([191, 864, 321, 480], dtype=int64), array([518, 235, 733, 249, 458, 821], dtype=int64), array([502, 647, 107, 760, 322], dtype=int64), array([515, 466, 813, 526, 750], dtype=int64), array([ 26, 386, 591,   9, 442], dtype=int64), array([749, 208, 593, 597, 535, 451], dtype=int64), array([504, 320, 626, 735, 595], dtype=int64), array([750, 184, 702, 484, 282], dtype=int64), array([649, 609, 242, 250, 109], dtype=int64), array([553,  92, 779, 402,  44], dtype=int64), array([838,  53, 513, 419], dtype=int64), array([460, 423, 529, 307], dtype=int64), array([392, 602,  67, 632, 643, 219], dtype=int64), array([684, 436,  38, 577, 324], dtype=int64), array([899,  70, 487, 687], dtype=int64), array([543,  68, 390, 521, 395, 587,  27], dtype=int64), array([292, 370, 209,  83, 215, 503], dtype=int64), array([885,  44,  12, 402, 658], dtype=int64), array([151, 641,  13, 612, 391, 797], dtype=int64), array([302, 237, 228, 904], dtype=int64), array([705, 706, 421], dtype=int64), array([790, 537, 211, 493, 429, 291, 191], dtype=int64), array([366, 766,  82, 851, 300], dtype=int64), array([286, 621, 267, 556, 732], dtype=int64), array([713, 229, 872, 356], dtype=int64), array([ 12, 373, 502, 152, 381, 536], dtype=int64), array([442, 297, 310, 834], dtype=int64), array([603, 717, 439, 863, 524], dtype=int64), array([ 64, 676, 796, 397, 351], dtype=int64), array([140, 823, 908, 695], dtype=int64), array([721, 658, 381, 147], dtype=int64), array([ 72, 671, 672, 897,  20, 668], dtype=int64), array([177, 600, 244, 222, 711, 202, 880], dtype=int64), array([443, 469, 487, 661, 206, 542,  22], dtype=int64), array([445, 880, 711, 222, 624], dtype=int64), array([869, 657,  37,  54], dtype=int64), array([316, 174, 618, 815, 534, 198], dtype=int64), array([472, 166, 297, 441], dtype=int64), array([ 76, 643, 523, 855, 219], dtype=int64), array([549, 757, 509, 587, 455], dtype=int64), array([629, 112,  53, 419, 905, 640, 179], dtype=int64), array([382, 720, 217, 717, 565], dtype=int64), array([599, 302, 239, 724], dtype=int64), array([620,  49, 605, 868, 713], dtype=int64), array([889, 159, 806,  75, 441, 256], dtype=int64), array([459, 321, 429, 542, 177], dtype=int64), array([749, 690, 373,  12, 561, 885], dtype=int64), array([711, 828, 539,  57, 202, 119], dtype=int64), array([422, 332, 820,  78, 517,  50], dtype=int64), array([  5, 849, 556, 330,  89], dtype=int64), array([406, 371, 862, 265, 400], dtype=int64), array([457, 533, 862, 775, 826], dtype=int64), array([158, 683, 839,  21, 266], dtype=int64), array([902, 700, 901, 335, 669, 688], dtype=int64), array([388, 668, 756, 905, 428], dtype=int64), array([429, 154, 600, 167, 289], dtype=int64), array([527, 538, 767, 324,  38], dtype=int64), array([ 72,  20,  53, 897, 162], dtype=int64), array([852, 401, 374, 522, 387], dtype=int64), array([607, 230, 634, 736], dtype=int64), array([552, 589,  17, 803], dtype=int64), array([110, 114, 692, 523], dtype=int64), array([344, 416, 129, 741, 857], dtype=int64), array([511, 377, 766, 466, 737], dtype=int64), array([227, 255,  16, 243], dtype=int64), array([597, 620, 878, 451], dtype=int64), array([702, 516,  53, 838], dtype=int64), array([280,  28, 322, 757, 549, 587], dtype=int64), array([432, 780, 495, 820,  78, 671], dtype=int64), array([650, 562, 122, 143], dtype=int64), array([563, 606, 278, 424, 491], dtype=int64), array([415, 777, 239,  41, 348, 599, 362], dtype=int64), array([314, 744, 389, 257, 571], dtype=int64), array([196, 828,  62,  64, 489], dtype=int64), array([195, 539, 624, 838, 608,  62, 516], dtype=int64), array([640, 112, 377, 526], dtype=int64), array([341,  47, 316, 569, 477, 158, 534], dtype=int64), array([842, 253, 306,  19, 703], dtype=int64), array([508, 722, 743, 660], dtype=int64), array([526, 512, 738, 422,  20], dtype=int64), array([ 57, 244,  27, 711, 154, 169], dtype=int64), array([ 81, 726, 261, 252,  57], dtype=int64), array([398, 823, 391, 827], dtype=int64), array([715, 404, 695, 883,  54], dtype=int64), array([542, 434, 321, 155, 687], dtype=int64), array([457, 118, 714,  34, 108], dtype=int64), array([320, 127, 620, 716], dtype=int64), array([267, 556, 370, 696, 138, 732], dtype=int64), array([792, 421, 891, 751], dtype=int64), array([542, 661, 469, 143, 360, 845], dtype=int64), array([104, 233, 709, 638], dtype=int64), array([807, 302, 824, 384, 348, 319,  32], dtype=int64), array([844, 403, 326, 506, 851], dtype=int64), array([260, 385, 370, 854, 138, 224], dtype=int64), array([819, 525, 593, 752], dtype=int64), array([163, 893, 512, 671, 668, 720], dtype=int64), array([231, 794, 270, 405], dtype=int64), array([870, 279, 706, 160, 643, 602, 134], dtype=int64), array([416, 299, 853, 595, 515], dtype=int64), array([253, 816, 731,  21, 273], dtype=int64), array([356, 156, 154, 364], dtype=int64), array([231,   8, 856, 478], dtype=int64), array([385, 686, 260,  80, 215, 586,  36,  89, 563], dtype=int64), array([658, 889, 881, 623, 256], dtype=int64), array([600, 492, 394, 656, 698], dtype=int64), array([186, 117, 601, 635], dtype=int64), array([724, 822, 840, 141], dtype=int64), array([146, 111, 580, 605], dtype=int64), array([181, 103,  26, 805], dtype=int64), array([223, 218,  52,  23], dtype=int64), array([103, 120, 297, 630, 590], dtype=int64), array([309, 547, 212,  16, 675], dtype=int64), array([878, 767, 832, 625], dtype=int64), array([123, 328, 783, 528, 393, 801], dtype=int64), array([372, 288, 309, 788, 311, 610], dtype=int64), array([412, 287, 141, 824], dtype=int64), array([245,  69, 118, 606], dtype=int64), array([348, 164, 193,  32, 878,  41], dtype=int64), array([375, 295, 649, 752], dtype=int64), array([ 46, 763, 678, 820], dtype=int64), array([479, 592, 695, 130], dtype=int64), array([540, 313, 599, 186], dtype=int64), array([202, 119, 291, 600, 154], dtype=int64), array([815, 273, 238, 108,  21], dtype=int64), array([753,  84,  86, 613], dtype=int64), array([418, 645, 881, 628, 268], dtype=int64), array([379, 528, 562, 644], dtype=int64), array([801, 458, 123, 413, 393], dtype=int64), array([479,   7, 833, 130], dtype=int64), array([617, 333,  88, 382, 278], dtype=int64), array([701,  57, 544, 901, 203], dtype=int64), array([352, 221, 199,  42,  51, 339], dtype=int64), array([559, 354, 571, 896], dtype=int64), array([186, 802, 482, 888, 746], dtype=int64), array([464, 481, 623, 806, 889, 225, 166], dtype=int64), array([ 24, 778, 846, 194], dtype=int64), array([875, 689, 412,  72], dtype=int64), array([453, 344, 358, 518, 272,  63, 821], dtype=int64), array([215,  89, 224, 479, 380], dtype=int64), array([847, 203, 317, 539, 726], dtype=int64), array([387, 454,  93, 762, 746, 334], dtype=int64), array([664, 547, 531, 904, 675], dtype=int64), array([ 43, 838, 315, 624], dtype=int64), array([172,   4, 367, 308], dtype=int64), array([816, 397, 815, 174, 771], dtype=int64), array([209, 573, 501, 145, 370, 732], dtype=int64), array([418, 482, 560, 313, 247], dtype=int64), array([ 45, 424, 457, 611, 491], dtype=int64), array([799, 644, 218], dtype=int64), array([709, 538,  35, 334, 852, 324], dtype=int64), array([358,  76, 259, 866, 518, 858, 453, 413, 646], dtype=int64), array([245, 290, 745,  34, 108, 221], dtype=int64), array([775, 799, 714], dtype=int64), array([566, 679, 685, 734], dtype=int64), array([335, 451,  29, 578], dtype=int64), array([507, 674,  95, 505, 529], dtype=int64), array([192, 496, 666, 251, 382, 316], dtype=int64), array([706, 219, 355, 523, 553], dtype=int64), array([189, 373, 700, 721], dtype=int64), array([377, 430, 737, 666], dtype=int64), array([416, 843, 308, 857, 484, 129, 608], dtype=int64), array([454,  22, 376,  17,  66, 420], dtype=int64), array([ 58, 365,  78, 512, 791], dtype=int64), array([789, 801, 863, 411, 519], dtype=int64), array([333,   5, 145, 411, 617], dtype=int64), array([105,  16, 313, 237], dtype=int64), array([531, 675, 236, 477,  47, 311, 610], dtype=int64), array([562, 337, 656, 600, 177], dtype=int64), array([273, 574, 492, 119, 731], dtype=int64), array([493, 244, 340, 537, 143, 429], dtype=int64), array([330,  48, 138, 900, 380, 107], dtype=int64), array([656, 783, 708, 567], dtype=int64), array([879, 613, 527,  35], dtype=int64), array([490, 240,  12,  48], dtype=int64), array([667, 876, 786, 310, 374, 616, 834], dtype=int64), array([232, 148, 159, 517, 630], dtype=int64), array([ 71, 615, 477, 345], dtype=int64), array([389, 735, 220, 111, 416], dtype=int64), array([581, 719, 655, 448,  10, 144], dtype=int64), array([567, 615, 698, 737], dtype=int64), array([164, 141, 213, 822, 807], dtype=int64), array([ 85, 725,  77,  40, 383, 613], dtype=int64), array([443, 543, 542, 811,  33, 841, 106, 661], dtype=int64), array([481, 895, 742, 545, 506], dtype=int64), array([339, 899, 199, 474], dtype=int64), array([513, 133, 689, 664, 676], dtype=int64), array([857, 282, 265, 639], dtype=int64), array([233, 861, 425, 236, 610], dtype=int64), array([876, 148, 296,  78, 616, 667], dtype=int64), array([414, 610, 341, 236, 372, 725, 288, 596], dtype=int64), array([331, 778, 605,  49, 850], dtype=int64), array([824, 287, 243, 268, 418], dtype=int64), array([896, 194, 646, 338, 510], dtype=int64), array([664, 412, 594, 264], dtype=int64), array([534, 158, 198, 666, 496, 278, 569], dtype=int64), array([516, 406, 764, 261, 539], dtype=int64), array([907, 874, 613, 438,  84], dtype=int64), array([327, 396, 648, 384, 213], dtype=int64), array([208,  24, 128, 389], dtype=int64), array([ 11, 122, 167, 206, 542], dtype=int64), array([502, 189,  74, 124, 470, 371], dtype=int64), array([781, 443, 691, 785, 427], dtype=int64), array([ 35, 475, 178, 538,  38, 271, 135], dtype=int64), array([677, 824, 105], dtype=int64), array([754, 464, 214, 742, 583], dtype=int64), array([319, 561, 451, 669], dtype=int64), array([562, 235, 835, 480, 393], dtype=int64), array([102, 338, 407, 646, 450], dtype=int64), array([292, 107, 380, 171], dtype=int64), array([ 95, 312, 907, 417], dtype=int64), array([386, 464, 170, 471], dtype=int64), array([524, 251, 286,  89, 501, 686, 812], dtype=int64), array([387, 420, 271, 762, 262], dtype=int64), array([276, 669, 688, 784, 175], dtype=int64), array([810,  10, 894, 655], dtype=int64), array([289, 537, 693, 600], dtype=int64), array([329, 439, 740, 314, 102], dtype=int64), array([306,  42,  90, 454, 352, 253,  17], dtype=int64), array([  3, 793, 537, 291, 743], dtype=int64), array([198, 618, 311, 372], dtype=int64), array([860, 782, 850, 778], dtype=int64), array([634, 100,  52, 607], dtype=int64), array([259, 184, 367, 906], dtype=int64), array([685, 511, 520, 298, 734], dtype=int64), array([ 91, 503, 819, 649, 854], dtype=int64), array([363, 360, 469,  22, 604, 551], dtype=int64), array([ 41, 809, 239, 213, 193], dtype=int64), array([775, 760, 568, 528, 733, 367], dtype=int64), array([377, 791, 512, 720], dtype=int64), array([633, 676, 748, 796, 150], dtype=int64), array([253,  90, 558, 802, 339], dtype=int64), array([772, 497, 578, 436], dtype=int64), array([682, 756, 663, 254], dtype=int64), array([279, 553, 692, 433,  23, 627,  10], dtype=int64), array([222, 530, 727, 146], dtype=int64), array([629, 817, 830, 491], dtype=int64), array([ 63, 821, 272, 259, 413,   2], dtype=int64), array([ 36,  75, 611,  45], dtype=int64), array([347, 831, 845, 604, 469, 211], dtype=int64), array([434,  73,  14, 438], dtype=int64), array([483, 415, 777, 705, 193, 433], dtype=int64), array([347, 829, 684, 604, 696, 619], dtype=int64), array([463, 880, 222, 872], dtype=int64), array([893, 720, 284, 659], dtype=int64), array([630, 144, 837, 719, 851], dtype=int64), array([344,  74, 265, 568,  94, 349], dtype=int64), array([ 60, 511,  82, 855, 114, 766], dtype=int64), array([860, 543, 509, 579], dtype=int64), array([215, 501, 209, 138,  80, 267,  89], dtype=int64), array([890, 470, 172, 322], dtype=int64), array([236, 462, 884, 341, 725,  77, 311], dtype=int64), array([ 30, 147, 280, 536, 168], dtype=int64), array([180, 834, 575, 296, 401], dtype=int64), array([240, 465, 609, 690], dtype=int64), array([684, 387, 410, 283], dtype=int64), array([350, 281, 185, 197], dtype=int64), array([728, 631, 891, 684, 475], dtype=int64), array([248, 733, 808], dtype=int64), array([827, 582, 330, 260, 292], dtype=int64), array([502, 408, 152,  31, 147], dtype=int64), array([163, 251, 830, 812, 565,  88, 278, 496], dtype=int64), array([786, 116,  40, 303,  85], dtype=int64), array([418, 622, 824, 319, 213, 704, 645], dtype=int64), array([224, 215, 591, 854,  80], dtype=int64), array([332, 637, 442, 126], dtype=int64), array([376, 334, 262, 180], dtype=int64), array([510, 176,  55, 717, 740], dtype=int64), array([299, 605, 194, 320], dtype=int64), array([580, 455, 137, 747, 473], dtype=int64), array([586,  13, 680, 204, 479, 140], dtype=int64), array([858, 134, 801, 825], dtype=int64), array([801, 480,   5, 249, 235, 328], dtype=int64), array([734, 880, 520, 226], dtype=int64), array([587, 757, 701,  68, 137, 901], dtype=int64), array([319, 545, 758, 885, 658], dtype=int64), array([531, 150, 489, 266], dtype=int64), array([756, 204,  55, 680], dtype=int64), array([804, 900, 867, 696], dtype=int64), array([572, 890, 406, 887, 172], dtype=int64), array([180,  99, 786,  85, 884, 374], dtype=int64), array([798, 755, 131, 139,  31], dtype=int64), array([472, 851, 755, 214, 478], dtype=int64), array([532, 205, 695, 592, 769, 468, 800], dtype=int64), array([  3, 483, 218, 598, 585], dtype=int64), array([172, 317, 614, 400, 773], dtype=int64), array([504, 643, 694, 329, 866, 523], dtype=int64), array([ 39, 774, 381, 470], dtype=int64), array([769, 887, 882,  36, 768], dtype=int64), array([576, 454, 376, 551, 113, 573], dtype=int64), array([488, 519, 286, 285, 636], dtype=int64), array([486, 237, 315, 258], dtype=int64), array([249, 358, 439, 452, 272, 866, 646], dtype=int64), array([311, 633, 438, 725,  73, 796], dtype=int64), array([193, 697, 894, 362], dtype=int64), array([484, 220, 184, 111, 282, 299], dtype=int64), array([529, 331,  14], dtype=int64), array([268, 247, 384, 809, 313], dtype=int64), array([132, 797, 162, 612, 499,  53], dtype=int64), array([334,  66, 657, 436, 283], dtype=int64), array([440, 631, 210, 142], dtype=int64), array([754, 170, 201], dtype=int64), array([651, 133, 672, 689, 897], dtype=int64), array([269, 533, 491, 118, 192], dtype=int64), array([596, 852, 884, 309,  35], dtype=int64), array([ 55, 827, 849, 452, 603], dtype=int64), array([833, 908, 691, 557, 323], dtype=int64), array([759, 897, 513, 176, 756], dtype=int64), array([177, 167, 143, 811, 291, 493], dtype=int64), array([  4, 281, 768, 533, 629], dtype=int64), array([ 76, 814, 795, 855, 858], dtype=int64), array([671, 190,  46, 665, 672], dtype=int64), array([ 10, 485, 355, 894, 362], dtype=int64), array([361, 707, 206, 841], dtype=int64), array([ 80, 591, 584, 467, 699], dtype=int64), array([135, 353, 420,  15], dtype=int64), array([548, 457, 799, 634], dtype=int64), array([414,  14, 361, 879,  73, 318, 725], dtype=int64), array([ 67, 866, 338, 149, 413], dtype=int64), array([ 92, 553, 421, 873, 627, 804], dtype=int64), array([548,   8,  26, 159,  45, 166], dtype=int64), array([148, 386, 848, 642, 126, 591], dtype=int64), array([323, 687, 304, 155, 661, 691], dtype=int64), array([889, 572, 468, 101, 881], dtype=int64), array([679,  43, 156,  25, 904], dtype=int64), array([ 79, 721, 881, 773], dtype=int64), array([785,  30, 690,   7], dtype=int64), array([570, 550, 300, 719, 655], dtype=int64), array([115, 900,  31, 877,  92], dtype=int64), array([776,  18, 329], dtype=int64), array([276, 749, 187, 327, 127], dtype=int64), array([  2, 896, 603, 413, 426], dtype=int64), array([259, 735, 741,  76, 272,  97], dtype=int64), array([410, 283, 262, 339,  93], dtype=int64), array([ 98, 906, 390, 161], dtype=int64), array([779, 490, 593,  12], dtype=int64), array([437, 173, 207, 269, 548], dtype=int64), array([821, 249, 733, 123, 849,   2], dtype=int64), array([106, 841, 167, 872], dtype=int64), array([663, 133, 778, 759], dtype=int64), array([ 42,  21, 113, 899, 683], dtype=int64), array([ 77, 565, 372, 659], dtype=int64), array([546, 810, 364, 708, 880], dtype=int64), array([256, 332, 517, 326, 623], dtype=int64), array([555,  29, 497, 375], dtype=int64), array([ 60, 125, 185, 814, 766], dtype=int64), array([619,  83, 435,   9], dtype=int64), array([652, 765, 444, 404], dtype=int64), array([211, 347, 864, 155, 360, 551, 604], dtype=int64), array([775, 371, 760, 408, 322], dtype=int64), array([637, 883, 332], dtype=int64), array([403, 159, 856, 630], dtype=int64), array([857, 764, 757, 580, 390], dtype=int64), array([ 17, 691, 306, 487], dtype=int64), array([891, 324, 684,  38, 378], dtype=int64), array([117,  16, 566, 655], dtype=int64), array([ 47, 298, 288, 566, 198, 723], dtype=int64), array([806, 798, 403, 755, 223], dtype=int64), array([242, 250, 391, 260, 586], dtype=int64), array([519, 122, 328, 393, 835], dtype=int64), array([305, 755, 658, 256], dtype=int64), array([268, 722, 540, 255], dtype=int64), array([362, 405, 550,  23], dtype=int64), array([416,   6, 813, 515, 129, 282, 498], dtype=int64), array([ 86, 894, 870, 433, 706, 787], dtype=int64), array([412, 662, 622, 498], dtype=int64), array([871, 136, 155,  22, 474], dtype=int64), array([411, 541, 618, 636,  88], dtype=int64), array([ 43, 397, 574, 195], dtype=int64), array([819, 295, 456, 877], dtype=int64), array([424, 563,  36, 768, 357, 269, 192], dtype=int64), array([693, 290, 226, 108], dtype=int64), array([291, 790, 811, 544, 143, 429], dtype=int64), array([628, 669, 700, 901], dtype=int64), array([ 18, 616, 525, 190,  91, 819], dtype=int64), array([830, 565, 278, 316, 666, 569, 382, 720], dtype=int64), array([353, 465, 781, 657,  29], dtype=int64), array([681, 486, 822, 807,   6, 484], dtype=int64), array([ 62, 612, 703, 419, 797], dtype=int64), array([787, 835, 825, 708], dtype=int64), array([ 80, 370, 267, 333,  89, 617], dtype=int64), array([124, 322, 381, 115, 147], dtype=int64), array([ 83, 718, 346, 848, 138, 854], dtype=int64), array([407, 128,  97, 626, 779], dtype=int64), array([651, 277, 761, 846, 529], dtype=int64), array([110,  60, 214, 114, 895, 305], dtype=int64), array([277, 538, 770,  37, 674], dtype=int64), array([809, 200, 540, 777], dtype=int64), array([369, 161, 582,  98], dtype=int64), array([388, 665, 896, 759, 314], dtype=int64), array([185, 345, 368, 567], dtype=int64), array([350, 201,  20, 217, 284, 720], dtype=int64), array([307, 710, 132, 428], dtype=int64), array([623, 645, 583, 704, 677], dtype=int64), array([125, 484, 741, 813, 895, 681, 220], dtype=int64), array([317,  62, 608, 188, 539, 196], dtype=int64), array([844, 630, 464, 297,  58, 170], dtype=int64), array([123, 795, 259, 272, 858, 821], dtype=int64), array([480,  11, 411, 636, 621, 285], dtype=int64), array([564, 810, 345, 394, 708], dtype=int64), array([543, 587, 785, 137,  33,  30], dtype=int64), array([805, 601, 180, 120], dtype=int64), array([694, 160, 279, 183, 643, 407], dtype=int64), array([333,  88, 603, 812,  55, 149], dtype=int64), array([102, 216,  96, 495], dtype=int64), array([201,  20, 125, 197, 813], dtype=int64), array([ 95, 178, 294, 625], dtype=int64), array([248, 235, 656, 349], dtype=int64), array([673, 133, 417, 674, 277, 505], dtype=int64), array([356, 111, 822, 868,  32], dtype=int64), array([397, 288, 263, 610], dtype=int64), array([404,  13,  19, 695, 800, 729], dtype=int64), array([173, 424, 826, 430], dtype=int64), array([316, 108, 615, 815, 158, 198], dtype=int64), array([555, 761,  96, 127], dtype=int64), array([ 28, 373,  48, 582, 147], dtype=int64), array([143, 340, 337, 644, 291], dtype=int64), array([271, 507, 178, 324], dtype=int64), array([196, 608, 169, 261, 516, 317], dtype=int64), array([508, 482, 243, 550], dtype=int64), array([789, 725, 488,  77,  73], dtype=int64), array([206, 211, 304, 321, 661, 155, 167], dtype=int64), array([137, 521, 369, 304, 747], dtype=int64), array([901, 743, 493, 252,  68], dtype=int64), array([396, 716,  44, 305, 885], dtype=int64), array([712, 463, 894, 727], dtype=int64), array([233, 610, 263, 653, 673], dtype=int64), array([437, 441,  45, 774, 457], dtype=int64), array([161, 647,  74,  28, 906, 189], dtype=int64), array([483,  52, 448, 540], dtype=int64), array([573, 410,  22, 347, 113, 469, 871], dtype=int64), array([ 19, 554, 182, 729,  90], dtype=int64), array([131, 440, 627, 355,  92, 279], dtype=int64), array([552, 888, 560,  90, 803], dtype=int64), array([752, 535, 465,  37], dtype=int64), array([209, 808, 171, 145, 732], dtype=int64), array([687, 427, 579, 682], dtype=int64), array([842,  81, 729, 352], dtype=int64), array([254,  98, 827], dtype=int64), array([268, 554, 652, 765, 645], dtype=int64), array([758, 885, 700, 327, 168], dtype=int64), array([191, 328, 289, 248], dtype=int64), array([192,  80, 686, 611,  36, 491, 224], dtype=int64), array([520, 870, 708, 855, 825], dtype=int64), array([496, 720,  88, 462, 382, 163], dtype=int64), array([275, 723, 476, 477, 675], dtype=int64), array([293, 301, 511, 795], dtype=int64), array([647, 733, 821,  74, 349, 367], dtype=int64), array([659,  71, 198, 496, 316], dtype=int64), array([856, 448, 635, 719], dtype=int64), array([744, 860, 778, 254, 194], dtype=int64), array([400, 444,  79, 800], dtype=int64), array([619, 551, 732, 267, 113, 410], dtype=int64), array([815, 290,  25, 489], dtype=int64), array([619, 374, 728, 684], dtype=int64), array([410, 584, 805,  93], dtype=int64), array([829, 859, 831, 135], dtype=int64), array([770, 767, 276, 353, 597], dtype=int64), array([823, 557, 369, 785], dtype=int64), array([390, 229, 473, 670, 865, 843], dtype=int64), array([300, 856,  23, 692], dtype=int64), array([  7, 509,  28, 380, 536], dtype=int64), array([754, 514, 622, 742, 326], dtype=int64), array([730, 576, 699, 435], dtype=int64), array([ 61,   1, 598, 777, 859, 405], dtype=int64), array([391,  36, 592,  13, 769, 224, 479], dtype=int64), array([ 30, 395, 521, 161, 137, 757, 189], dtype=int64), array([650, 644, 898,   0], dtype=int64), array([695, 609, 833, 182], dtype=int64), array([876, 834,  99, 120,  58, 232], dtype=int64), array([435, 385, 126,   9, 848,  80, 442], dtype=int64), array([242, 637, 586, 404, 769], dtype=int64), array([626, 456, 127, 216, 749], dtype=int64), array([ 53,   6, 662, 315, 813], dtype=int64), array([895, 220, 716,  97, 128], dtype=int64), array([425, 610, 879, 725, 311, 633], dtype=int64), array([187, 770, 127, 578, 832], dtype=int64), array([585, 898, 705, 405, 859, 831], dtype=int64), array([164, 655, 243, 193], dtype=int64), array([226, 880, 154, 289, 244, 177, 337], dtype=int64), array([746, 638, 227, 522], dtype=int64), array([751, 134, 706,  40, 219], dtype=int64), array([149,   5, 452, 524, 426], dtype=int64), array([732, 363, 347, 650, 360, 829, 469], dtype=int64), array([389, 165, 312, 229], dtype=int64), array([192, 617, 730, 238], dtype=int64), array([181, 635, 802, 343], dtype=int64), array([865, 539, 516, 840, 196, 764, 282], dtype=int64), array([130, 589,  54, 375], dtype=int64), array([311, 596, 547, 633, 531, 288, 236, 309], dtype=int64), array([699, 359, 563, 269,  80], dtype=int64), array([882,  13, 499, 680, 419, 140, 797], dtype=int64), array([294, 318,  84, 246, 303], dtype=int64), array([702, 882, 406, 768], dtype=int64), array([298, 734, 301, 534], dtype=int64), array([718, 495, 903, 310, 296, 667], dtype=int64), array([251, 606, 839, 501, 286], dtype=int64), array([158, 341, 488, 636], dtype=int64), array([573, 467, 575, 696, 363], dtype=int64), array([165, 208, 187,  32, 648, 868, 853], dtype=int64), array([839, 145, 871, 864, 636, 519], dtype=int64), array([742, 486, 384, 583, 807], dtype=int64), array([889, 704, 514, 256, 464, 225], dtype=int64), array([711,  43, 840, 196, 264, 156], dtype=int64), array([ 86, 712, 527, 234], dtype=int64), array([593, 504, 128], dtype=int64), array([553, 798,  23, 692, 440, 355], dtype=int64), array([494, 726, 247, 722], dtype=int64), array([162, 357, 430, 768, 112], dtype=int64), array([517, 366, 472, 232, 297,  58, 844], dtype=int64), array([421, 378, 829, 804, 898], dtype=int64), array([ 84,  40, 134, 789], dtype=int64), array([351, 414, 610, 673, 879, 596], dtype=int64), array([343, 181,   8, 437,  34,  69], dtype=int64), array([570, 607, 227, 103], dtype=int64), array([839,  73, 771, 618, 488, 411, 621, 519], dtype=int64), array([386, 471, 592, 101], dtype=int64), array([852, 601, 212], dtype=int64), array([773,  74, 757, 308], dtype=int64), array([ 20, 197, 830, 905, 162], dtype=int64), array([703, 140, 908,  56], dtype=int64), array([ 91, 820, 109, 442, 848], dtype=int64), array([160, 866, 407, 523, 134, 219], dtype=int64), array([588, 270, 537, 248, 836], dtype=int64), array([247, 514, 704, 560, 384], dtype=int64), array([735, 314, 329, 866, 272, 413], dtype=int64), array([568, 124,  28, 549], dtype=int64), array([716, 319,  32, 620, 807], dtype=int64), array([130,  48, 346, 240], dtype=int64), array([588, 191, 808, 604], dtype=int64), array([739, 423, 505,  46, 846], dtype=int64), array([715, 468, 677, 560], dtype=int64), array([105,  87, 547, 689], dtype=int64), array([872, 712, 713, 907], dtype=int64), array([300, 599, 476, 336, 448], dtype=int64), array([293, 698, 289, 528, 226], dtype=int64), array([157,  66, 420, 497], dtype=int64), array([225, 481, 152, 758, 396, 139], dtype=int64), array([569, 462, 788, 365], dtype=int64), array([  3,  52, 100, 200], dtype=int64), array([845, 211,  33, 155, 542, 443, 304], dtype=int64), array([813, 594, 486,  72], dtype=int64), array([460, 710, 354, 748], dtype=int64), array([263, 315, 307, 676], dtype=int64), array([102, 510, 846, 432], dtype=int64), array([118, 281, 278, 316, 496], dtype=int64), array([718, 296, 848, 728, 834, 310, 616], dtype=int64), array([897, 176, 759, 217, 671, 153], dtype=int64), array([335, 809, 327, 175, 494], dtype=int64), array([ 27, 106, 580, 865], dtype=int64), array([432, 153, 893, 217,  78, 668, 780, 190], dtype=int64), array([875, 153, 423, 897,  46, 432], dtype=int64), array([879, 529, 547, 674, 633], dtype=int64), array([277, 739, 709, 673, 529, 507], dtype=int64), array([904, 288, 566, 263, 233], dtype=int64), array([150, 351, 664, 307], dtype=int64), array([652, 325,  59, 121, 514, 715], dtype=int64), array([752,  91, 241, 109], dtype=int64), array([275, 724, 445, 810], dtype=int64), array([817, 391, 612, 398], dtype=int64), array([895, 853, 807, 498, 515], dtype=int64), array([354, 823, 782, 557], dtype=int64), array([899, 771, 871, 174, 839, 461], dtype=int64), array([376, 135, 363, 575, 475, 378], dtype=int64), array([345,  82, 275, 723], dtype=int64), array([563, 224, 812,  89, 333], dtype=int64), array([557, 443, 136, 206,  70], dtype=int64), array([335, 772, 886, 175], dtype=int64), array([258, 307, 423, 653], dtype=int64), array([ 29, 447, 168, 375,  30], dtype=int64), array([ 15, 323, 474, 427, 443], dtype=int64), array([183, 355, 627, 581], dtype=int64), array([492, 714, 337, 793], dtype=int64), array([523, 751, 407, 779], dtype=int64), array([242, 589, 205, 532, 404, 151, 908], dtype=int64), array([619, 209, 399, 363, 732,  83], dtype=int64), array([767, 415, 705,  86, 859], dtype=int64), array([714, 656, 826, 301, 226], dtype=int64), array([611,  69, 584,  26, 435], dtype=int64), array([175, 280, 561, 901, 494,  30], dtype=int64), array([ 27, 395, 252, 764,  68], dtype=int64), array([614, 112, 188, 129], dtype=int64), array([641, 499, 199,  64], dtype=int64), array([742, 623, 645, 514, 384], dtype=int64), array([859, 142, 598, 362, 697], dtype=int64), array([279, 142, 602, 219, 485], dtype=int64), array([434, 907,  14, 850], dtype=int64), array([293, 564, 500, 463, 520, 825], dtype=int64), array([271, 212, 869, 674], dtype=int64), array([513, 663, 797,  56], dtype=int64), array([624, 169, 156, 154, 202], dtype=int64), array([546, 787, 654, 625], dtype=int64), array([146, 654, 868, 165], dtype=int64), array([698, 274, 207, 693], dtype=int64), array([652, 205,  54, 121, 803, 677], dtype=int64), array([648, 545, 208, 595, 853], dtype=int64), array([892, 149, 388, 740, 163], dtype=int64), array([667, 503, 616, 792, 728], dtype=int64), array([117, 300, 366, 570, 448], dtype=int64), array([565, 350, 365, 163, 512, 217, 496, 893], dtype=int64), array([446, 152, 280, 890, 773], dtype=int64), array([482, 200,  81, 628], dtype=int64), array([566,  71, 477, 788, 685], dtype=int64), array([228, 679, 727, 164], dtype=int64), array([541, 303, 372, 414, 596, 311, 438], dtype=int64), array([ 79, 203, 628, 765, 261], dtype=int64), array([724, 546, 868, 356], dtype=int64), array([378,  83, 575, 667, 718], dtype=int64), array([800, 558, 765,  19, 552, 532, 847, 842], dtype=int64), array([584, 113, 606,  21], dtype=int64), array([828,  51, 221, 290], dtype=int64), array([604, 573, 864, 696, 209, 267, 145, 556], dtype=int64), array([568, 123, 458, 379, 349, 760], dtype=int64), array([394, 275,  25, 615, 345], dtype=int64), array([453, 646, 299,  63, 128], dtype=int64), array([745,  42, 181,  21], dtype=int64), array([818, 826, 281, 301, 185], dtype=int64), array([791, 766, 201, 844], dtype=int64), array([651, 674,  37,  87], dtype=int64), array([780, 717, 338, 892, 893, 388], dtype=int64), array([814, 453, 515, 184, 750], dtype=int64), array([704, 622, 305, 326, 583], dtype=int64), array([200, 544, 340,  57], dtype=int64), array([571, 194,  98,  63], dtype=int64), array([736, 100,  51, 273], dtype=int64), array([601, 888, 802, 262, 255,  90], dtype=int64), array([850, 860, 390, 841, 543, 106], dtype=int64), array([782,  14,  70, 351, 663], dtype=int64), array([127, 168, 885, 451, 593], dtype=int64), array([129,   4, 818, 125, 814, 741], dtype=int64), array([602, 694, 776, 210], dtype=int64), array([555, 678, 240, 216], dtype=int64), array([ 40, 246,  85], dtype=int64), array([422, 326,  50, 583], dtype=int64), array([402, 110, 481, 403, 478], dtype=int64), array([398, 354, 797, 176, 428], dtype=int64), array([395, 161, 639, 473, 189, 587], dtype=int64), array([561, 396, 881, 658], dtype=int64), array([460, 428, 846, 510, 668], dtype=int64), array([836, 349, 470, 124, 733, 775], dtype=int64), array([535,  49,  24, 505], dtype=int64), array([ 90, 803,  17, 262, 334], dtype=int64), array([ 54, 241,  59, 883], dtype=int64), array([473, 865, 317, 701, 608], dtype=int64), array([468, 729, 726, 800, 560], dtype=int64), array([738, 144, 185,  71,  60, 368, 466, 791], dtype=int64), array([234, 697, 578, 178,  61], dtype=int64), array([862, 430, 491, 614, 629, 409], dtype=int64), array([101, 409,  13, 586, 800, 404, 592], dtype=int64), array([832, 578, 597, 507], dtype=int64), array([683, 796, 636,  73, 266], dtype=int64), array([688, 353,  61, 845], dtype=int64), array([639,  79, 721, 406, 446], dtype=int64), array([408, 806, 548, 890], dtype=int64), array([274, 470, 349, 173, 760], dtype=int64), array([450, 903,  67, 751], dtype=int64), array([784, 193, 508, 585, 362], dtype=int64), array([460, 257, 312, 571, 342], dtype=int64), array([456, 131,  44, 694, 504], dtype=int64), array([903, 190, 740, 893,  78, 671, 116], dtype=int64), array([323,  15, 886, 497], dtype=int64), array([342, 748, 682,  70], dtype=int64), array([825, 858, 235, 293], dtype=int64), array([ 61, 777, 335,  41], dtype=int64), array([447, 323, 833, 521, 579], dtype=int64), array([383, 891, 296, 401], dtype=int64), array([ 84, 712, 500, 870, 485], dtype=int64), array([861, 236, 837, 659,  99, 723], dtype=int64), array([541, 874, 285, 632], dtype=int64), array([845, 143, 493,   1], dtype=int64), array([350, 738, 837,  71, 284, 766], dtype=int64), array([ 18, 718, 210, 877], dtype=int64), array([100, 340, 119, 693], dtype=int64), array([798,  39, 218, 873,  31], dtype=int64), array([518,  94, 431, 567], dtype=int64), array([771, 150, 414, 351,  70], dtype=int64), array([756, 710, 419, 612, 140, 499], dtype=int64), array([402, 794,  31, 478, 627], dtype=int64), array([274, 270,  39, 437], dtype=int64), array([729, 532, 847, 572, 765, 769, 404], dtype=int64), array([392, 249, 393, 285, 235], dtype=int64), array([255, 746, 352, 607], dtype=int64), array([762, 869, 554, 182,  90, 715], dtype=int64), array([399, 877, 873, 631, 440], dtype=int64), array([522, 230, 576,   9], dtype=int64), array([478, 166, 774, 256], dtype=int64), array([213, 681,  32, 498, 622, 302, 648, 853, 822], dtype=int64), array([867, 556, 650, 379], dtype=int64), array([508, 669, 348, 418], dtype=int64), array([463, 520, 336, 679], dtype=int64), array([493, 106,  33, 304, 429,  68], dtype=int64), array([817, 686, 382, 524, 333], dtype=int64), array([662, 484, 125, 526, 515, 594, 112], dtype=int64), array([741, 431, 466, 818, 750], dtype=int64), array([245, 574, 534, 266, 158], dtype=int64), array([899, 221, 266,  64], dtype=int64), array([812, 680, 357, 905], dtype=int64), array([737,  94,   4, 814, 750], dtype=int64), array([490,  18, 216, 346,  91, 495], dtype=int64), array([ 50, 642, 170, 190, 241,  78], dtype=int64), array([568, 358, 458, 259, 123,   2, 518], dtype=int64), array([228, 302, 498, 530, 807], dtype=int64), array([682, 579, 151, 204], dtype=int64), array([313, 237, 213, 384, 325], dtype=int64), array([783, 870, 500, 392, 708, 564], dtype=int64), array([ 94, 533, 737, 698, 173], dtype=int64), array([380, 559, 426, 204, 849], dtype=int64), array([731, 195, 169, 842,  51], dtype=int64), array([577, 898, 631, 363, 604, 831], dtype=int64), array([496, 357, 382, 640], dtype=int64), array([  1, 360, 577, 898, 829, 598], dtype=int64), array([770, 234,  95,  49, 597], dtype=int64), array([427, 785, 589, 250], dtype=int64), array([  9, 148, 590, 374, 667, 296], dtype=int64), array([328,  11, 500, 480], dtype=int64), array([760,  39,   0, 115, 644], dtype=int64), array([ 58, 791, 366, 788], dtype=int64), array([132, 196, 188, 264], dtype=int64), array([621, 636, 617, 174, 683], dtype=int64), array([624, 843, 228, 608, 865], dtype=int64), array([459, 434, 304, 747], dtype=int64), array([558, 199, 847, 828,  81,  51, 729], dtype=int64), array([865, 840, 282, 111, 580], dtype=int64), array([851, 517, 738, 214, 630], dtype=int64), array([790, 661, 360, 772, 211], dtype=int64), array([759, 257, 665, 505, 651], dtype=int64), array([261,  62, 842, 800, 729], dtype=int64), array([442, 854, 503, 667, 591, 642], dtype=int64), array([171, 458,   2, 426,   5, 827], dtype=int64), array([747, 342, 312, 707], dtype=int64), array([844, 403,  60, 366, 214, 144], dtype=int64), array([638, 180, 425,  35, 271], dtype=int64), array([681, 220, 716, 620, 807, 111], dtype=int64), array([848, 215, 109, 385, 503, 346], dtype=int64), array([431, 160, 368, 564], dtype=int64), array([570, 472, 223, 581], dtype=int64), array([473, 906, 308, 184, 282], dtype=int64), array([392, 783, 272,  76, 518, 431], dtype=int64), array([705,  61, 577,  38, 585, 598, 697], dtype=int64), array([342, 747, 369, 571], dtype=int64), array([309, 788,  99, 117], dtype=int64), array([887, 768, 173, 172], dtype=int64), array([ 65, 149, 285,  88], dtype=int64), array([122, 469, 621, 732], dtype=int64), array([608, 843, 764, 670, 580, 840], dtype=int64), array([439, 643, 407, 272, 646, 413], dtype=int64), array([  0, 107, 808, 399, 115], dtype=int64), array([878, 727, 165, 713, 530, 620,  32], dtype=int64), array([157, 709, 803], dtype=int64), array([219, 825, 564, 787, 485], dtype=int64), array([683, 487, 621, 113, 551], dtype=int64), array([654, 146, 459, 364], dtype=int64), array([898, 440, 804,   0, 794], dtype=int64), array([ 11, 789, 318,  73], dtype=int64), array([ 59, 258,  87, 672], dtype=int64), array([310, 590, 296, 116], dtype=int64), array([900, 804, 490, 792,  92, 449], dtype=int64), array([234, 187,  41, 868, 239], dtype=int64), array([294, 673, 596, 633, 438], dtype=int64), array([394, 364, 156, 600, 154, 463], dtype=int64), array([446, 247, 758, 225, 444], dtype=int64), array([614, 612, 409], dtype=int64), array([205, 763, 471, 109], dtype=int64), array([425, 372,  99, 401,  85], dtype=int64), array([749, 561, 396, 139, 545, 168], dtype=int64), array([ 33, 902, 688, 781], dtype=int64), array([862, 409,  45, 400,  75], dtype=int64), array([554, 746, 255, 104], dtype=int64), array([166, 444, 623, 225, 256], dtype=int64), array([371, 400, 721, 774], dtype=int64), array([475, 786, 210, 378], dtype=int64), array([717,  65, 893, 116, 740], dtype=int64), array([365, 217, 780, 892, 671, 740, 720], dtype=int64), array([546, 415, 485, 336, 433,  86], dtype=int64), array([681, 305, 595, 506, 515], dtype=int64), array([314, 452, 510, 254,  55], dtype=int64), array([668, 428, 179, 672, 153, 423], dtype=int64), array([588, 873, 829, 598, 831, 631], dtype=int64), array([683, 816, 136, 306, 461], dtype=int64), array([877, 449, 399, 292], dtype=int64), array([175, 544,  68, 252, 700, 395, 494], dtype=int64), array([175, 886,  29,  30], dtype=int64), array([780, 776, 116, 616], dtype=int64), array([675, 263, 445, 141], dtype=int64), array([817, 640, 176, 162], dtype=int64), array([ 63, 857, 455, 344, 549], dtype=int64), array([318, 331, 707, 654], dtype=int64), array([427, 151,  19, 641, 695], dtype=int64)]\n"
     ]
    }
   ],
   "source": [
    "print(gneighbor_list_cutoff)"
   ]
  },
  {
   "cell_type": "code",
   "execution_count": 165,
   "metadata": {},
   "outputs": [
    {
     "name": "stdout",
     "output_type": "stream",
     "text": [
      "(909,)\n",
      "4494.0\n"
     ]
    }
   ],
   "source": [
    "gn = gneighbor_list_cutoff\n",
    "aa = np.zeros(len(gn),)\n",
    "for i in range(len(gn)):\n",
    "    a = gn[i]\n",
    "    b = a.size\n",
    "\n",
    "    for k in range(a.size):\n",
    "\n",
    "        p = np.int(a[k])\n",
    "        aa[p] += 1\n",
    "print(aa.shape)\n",
    "print(np.sum(aa))"
   ]
  },
  {
   "cell_type": "code",
   "execution_count": 160,
   "metadata": {},
   "outputs": [
    {
     "name": "stdout",
     "output_type": "stream",
     "text": [
      "[867 115 588 836 873]\n",
      "5\n"
     ]
    }
   ],
   "source": [
    "b = gn[0]\n",
    "a = 0\n",
    "b = gn[a]\n",
    "print(b)\n",
    "print(b.size)"
   ]
  },
  {
   "cell_type": "code",
   "execution_count": 113,
   "metadata": {},
   "outputs": [
    {
     "name": "stdout",
     "output_type": "stream",
     "text": [
      "(1.8913117862229887e-05-9.083591530677005e-06j)\n",
      "(2.0943252706158685e-05+0.0001321771103733891j)\n",
      "(-2.1240890474808023e-05-1.2968970454603164e-05j)\n",
      "(1.3177896592957685e-05+0j)\n",
      "(2.12408904748081e-05-1.2968970454603303e-05j)\n",
      "(2.0943252706158722e-05-0.00013217711037338676j)\n",
      "(-1.891311786222986e-05-9.083591530676088e-06j)\n",
      "0.00026156809988236567\n"
     ]
    }
   ],
   "source": [
    "uc.trajectory[13]\n",
    "pw = uc.select_atoms(\"name OW\")\n",
    "gcop = global_st_cutoff(pw.atoms.positions, pw.atoms.positions, cbox, 1, 20, 3.5, 3)\n",
    "print(gcop)"
   ]
  },
  {
   "cell_type": "code",
   "execution_count": 102,
   "metadata": {},
   "outputs": [
    {
     "name": "stdout",
     "output_type": "stream",
     "text": [
      "(3.147660828002347e-11-1.1007540814988222e-09j)\n",
      "(-1.8445548307353694e-10+2.910424236546782e-10j)\n",
      "(6.338203152969103e-11+1.930524636147273e-09j)\n",
      "(1.3603225286658305e-09+0j)\n",
      "(-6.338203001180799e-11+1.9305246364454288e-09j)\n",
      "(-1.8445548364274308e-10-2.910424237088883e-10j)\n",
      "(-3.1476609167714e-11-1.1007540821764486e-09j)\n",
      "4.636560084432269e-09\n"
     ]
    }
   ],
   "source": [
    "uh.trajectory[10]\n",
    "pw = uh.select_atoms(\"name OW\")\n",
    "\n",
    "ghop = global_st_cutoff(pw.atoms.positions, pw.atoms.positions, hbox, 1, 20, 3.5, 3)\n",
    "print(ghop)"
   ]
  },
  {
   "cell_type": "code",
   "execution_count": 90,
   "metadata": {
    "scrolled": false
   },
   "outputs": [
    {
     "name": "stdout",
     "output_type": "stream",
     "text": [
      "(-0.00024026255475518933-0.0005012162228265754j)\n",
      "(0.0004407503393074294-0.0004598433468770741j)\n",
      "(-0.0004519242281741+0.00032547908206805157j)\n",
      "(-0.0008330942469046628+0j)\n",
      "(0.00045192422817410025+0.0003254790820680516j)\n",
      "(0.00044075033930742987+0.00045984334687707387j)\n",
      "(0.0002402625547551902-0.0005012162228265754j)\n",
      "0.0022193465801802407\n"
     ]
    }
   ],
   "source": [
    "uw.trajectory[2]\n",
    "pw = uw.select_atoms(\"name OW\")\n",
    "gwop = global_st(pw.atoms.positions, pw.atoms.positions, wbox, 1, 20, 4, 3)\n",
    "print(gwop)"
   ]
  },
  {
   "cell_type": "code",
   "execution_count": 48,
   "metadata": {},
   "outputs": [
    {
     "name": "stdout",
     "output_type": "stream",
     "text": [
      "(-0.17477209345031125-0.0006295703121819512j)\n",
      "(0.001384417902342481+0.0003290267662781767j)\n",
      "(-0.00034033578683589157-0.00013550929505513085j)\n",
      "(0.0009470850237354117-0.00106744472268458j)\n",
      "(-0.2938840368148326+0j)\n",
      "(-0.0009470850237354116-0.0010674447226845787j)\n",
      "(-0.0003403357868358904+0.0001355092950551315j)\n",
      "(-0.0013844179023424807+0.000329026766278176j)\n",
      "(-0.17477209345031125+0.0006295703121819498j)\n",
      "0.45376600241618226\n"
     ]
    }
   ],
   "source": [
    "uc.trajectory[50]\n",
    "pw = uc.select_atoms(\"name OW\")\n",
    "gcop = global_st(pw.atoms.positions, pw.atoms.positions, cbox, 1, 20, 4, 4)\n",
    "print(gcop)"
   ]
  },
  {
   "cell_type": "code",
   "execution_count": 43,
   "metadata": {},
   "outputs": [
    {
     "name": "stdout",
     "output_type": "stream",
     "text": [
      "(9.187308161825612e-11+6.965944091084225e-10j)\n",
      "(4.4997333316764017e-10-7.066344680856302e-10j)\n",
      "(-2.3010953136438222e-10-8.104742049740762e-10j)\n",
      "(1.1500939210519804e-09+0j)\n",
      "(2.301095311475418e-10-8.104742051096014e-10j)\n",
      "(4.499733336080973e-10+7.066344685870737e-10j)\n",
      "(-9.187308206548951e-11+6.96594410843146e-10j)\n",
      "3.035679301260267e-09\n"
     ]
    }
   ],
   "source": [
    "uh.trajectory[50]\n",
    "ph = uh.select_atoms(\"name OW\")\n",
    "ghop = global_st(ph.atoms.positions, ph.atoms.positions, hbox, 1, 20, 4, 3)\n",
    "print(ghop)"
   ]
  },
  {
   "cell_type": "code",
   "execution_count": 44,
   "metadata": {},
   "outputs": [
    {
     "name": "stdout",
     "output_type": "stream",
     "text": [
      "(1.77195505310368e-10+1.2788172547364973e-09j)\n",
      "(-7.475672727727534e-10-7.76771513777419e-12j)\n",
      "(3.0696508460104076e-11+8.35426240373971e-11j)\n",
      "(-2.084619391135023e-10+0j)\n",
      "(-3.0696507821725836e-11+8.354262458903916e-11j)\n",
      "(-7.475672732445981e-10+7.767717691287147e-12j)\n",
      "(-1.7719550463035638e-10+1.2788172545491473e-09j)\n",
      "2.845619362912175e-09\n"
     ]
    }
   ],
   "source": [
    "uc.trajectory[50]\n",
    "pc = uc.select_atoms(\"name OW\")\n",
    "gcop = global_st(pc.atoms.positions, pc.atoms.positions, cbox, 1, 20, 4, 3)\n",
    "print(gcop)"
   ]
  },
  {
   "cell_type": "code",
   "execution_count": 37,
   "metadata": {},
   "outputs": [
    {
     "data": {
      "text/plain": [
       "<Universe with 4000 atoms>"
      ]
     },
     "execution_count": 37,
     "metadata": {},
     "output_type": "execute_result"
    }
   ],
   "source": [
    "uc"
   ]
  },
  {
   "cell_type": "code",
   "execution_count": 11,
   "metadata": {},
   "outputs": [],
   "source": [
    "uw.trajectory[5]\n",
    "pw = uw.select_atoms(\"name OW\")\n",
    "o = pw.atoms.positions\n",
    "N = o.shape[0] # number of molecules\n",
    "dist = np.abs(o[:, np.newaxis, :] - o)\n",
    "ddist = np.abs(dist - wbox)\n",
    "dist = np.minimum(dist, ddist)\n",
    "dist = np.reshape(dist*dist, (N*N,3))\n",
    "dist = np.sum(dist,axis = 1)\n",
    "dist = np.sqrt(dist)\n",
    "\n",
    "\n",
    "l = 3\n",
    "n = 4 #number of neighbors\n",
    "neighbor_list = np.zeros((N,n))\n",
    "\n",
    "\n",
    "for i in range(N):\n",
    "    distij = dist[i*(N):(i+1)*(N)] #make (N,) distance vector\n",
    "    list = np.argsort(distij)\n",
    "    neighbor_list[i,:] = list[1:n+1]\n",
    "\n",
    "op = np.zeros((N,))\n",
    "for i in range(N):\n",
    "    a = 0\n",
    "    for k in range(-l,l+1):\n",
    "        s = np.square(np.absolute(steinhardt(k,l,i,neighbor_list[i],o,wbox)))\n",
    "        a = a + s\n",
    "    op[i] = np.sqrt(4*np.pi/(2*l+1)*a)"
   ]
  },
  {
   "cell_type": "code",
   "execution_count": 12,
   "metadata": {},
   "outputs": [
    {
     "data": {
      "text/plain": [
       "array([[696., 867., 760., 379.],\n",
       "       [537.,   3., 340., 588.],\n",
       "       [ 98., 587., 744., 455.],\n",
       "       ...,\n",
       "       [358., 821.,  63., 473.],\n",
       "       [318., 707.,  49., 654.],\n",
       "       [136., 182.,  62., 427.]])"
      ]
     },
     "execution_count": 12,
     "metadata": {},
     "output_type": "execute_result"
    }
   ],
   "source": [
    "neighbor_list"
   ]
  },
  {
   "cell_type": "code",
   "execution_count": 13,
   "metadata": {},
   "outputs": [
    {
     "data": {
      "text/plain": [
       "array([503., 604.,   0., 248.])"
      ]
     },
     "execution_count": 13,
     "metadata": {},
     "output_type": "execute_result"
    }
   ],
   "source": [
    "neighbor_list[696]"
   ]
  },
  {
   "cell_type": "code",
   "execution_count": 59,
   "metadata": {},
   "outputs": [
    {
     "name": "stdout",
     "output_type": "stream",
     "text": [
      "1.2746347 5.077691380177633\n",
      "(-0.3246715017115032-0.16692398431895838j)\n",
      "1.866958 1.9360988\n",
      "(0.32467151950774903+0.16692388580941103j)\n"
     ]
    }
   ],
   "source": [
    "theta, phi = angle(0,np.intc(neighbor_list[0,0]),o,wbox)\n",
    "m = -3\n",
    "print(theta,phi)\n",
    "a = sp.sph_harm(m,l,phi,theta)\n",
    "print(a)\n",
    "\n",
    "thetaa, phii = angle(696,np.intc(neighbor_list[696,2]),o,wbox)\n",
    "m = -3\n",
    "print(thetaa,phii)\n",
    "b = sp.sph_harm(m,l,phii,thetaa)\n",
    "print(b)"
   ]
  },
  {
   "cell_type": "code",
   "execution_count": 47,
   "metadata": {},
   "outputs": [
    {
     "name": "stdout",
     "output_type": "stream",
     "text": [
      "(-0.8893434224525174+0.4572398461862692j)\n",
      "(0.8893435423720226-0.4572396129396297j)\n"
     ]
    }
   ],
   "source": [
    "a = 1+1j\n",
    "b = np.exp(3j*phi)\n",
    "print(b)\n",
    "bb = np.exp(3j*(phii))\n",
    "print(bb)"
   ]
  },
  {
   "cell_type": "code",
   "execution_count": 44,
   "metadata": {},
   "outputs": [
    {
     "data": {
      "text/plain": [
       "3.141592566167013"
      ]
     },
     "execution_count": 44,
     "metadata": {},
     "output_type": "execute_result"
    }
   ],
   "source": [
    "phi - phii"
   ]
  },
  {
   "cell_type": "code",
   "execution_count": 62,
   "metadata": {},
   "outputs": [],
   "source": [
    "a = 1 +1j\n",
    "b = np.conjugate(a)\n",
    "c = a*b"
   ]
  },
  {
   "cell_type": "code",
   "execution_count": 63,
   "metadata": {},
   "outputs": [
    {
     "data": {
      "text/plain": [
       "(2+0j)"
      ]
     },
     "execution_count": 63,
     "metadata": {},
     "output_type": "execute_result"
    }
   ],
   "source": [
    "c"
   ]
  },
  {
   "cell_type": "code",
   "execution_count": 106,
   "metadata": {},
   "outputs": [
    {
     "name": "stdout",
     "output_type": "stream",
     "text": [
      "(-0.17364609733091124+0.05053208943309394j)\n"
     ]
    }
   ],
   "source": [
    "a = sp.sph_harm(3,3,2,4)\n",
    "print (a)"
   ]
  },
  {
   "cell_type": "code",
   "execution_count": null,
   "metadata": {},
   "outputs": [],
   "source": [
    "a = sp.sph_harm(m,l,phi,theta)"
   ]
  },
  {
   "cell_type": "code",
   "execution_count": null,
   "metadata": {},
   "outputs": [],
   "source": []
  }
 ],
 "metadata": {
  "kernelspec": {
   "display_name": "Python 3",
   "language": "python",
   "name": "python3"
  },
  "language_info": {
   "codemirror_mode": {
    "name": "ipython",
    "version": 3
   },
   "file_extension": ".py",
   "mimetype": "text/x-python",
   "name": "python",
   "nbconvert_exporter": "python",
   "pygments_lexer": "ipython3",
   "version": "3.8.5"
  }
 },
 "nbformat": 4,
 "nbformat_minor": 4
}
