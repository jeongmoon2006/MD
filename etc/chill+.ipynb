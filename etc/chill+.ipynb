{
 "cells": [
  {
   "cell_type": "code",
   "execution_count": 1,
   "metadata": {},
   "outputs": [],
   "source": [
    "import numpy as np\n",
    "import MDAnalysis as mda\n",
    "import timeit\n",
    "import matplotlib.pyplot as plt  \n",
    "import copy\n",
    "import scipy.special as sp\n",
    "\n",
    "suw = mda.Universe(\"swater_prd.tpr\",\"swater_prd.xtc\")\n",
    "uw = mda.Universe(\"water2_prd.tpr\", \"water2_prd.xtc\")\n",
    "uh = mda.Universe(\"hexaice_prd.tpr\", \"hexaice_prd.xtc\")\n",
    "uc = mda.Universe(\"cubicice_prd.tpr\",\"cubicice_prd.xtc\")\n",
    "\n",
    "swbox = np.array([23.0, 23.0, 23.0])\n",
    "wbox = np.array([30.0,   30.0,   30.0])\n",
    "hbox = np.array([31.5251,   29.6340,   36.4161])\n",
    "cbox = np.array([32.0350,   32.0350,   32.0350])"
   ]
  },
  {
   "cell_type": "code",
   "execution_count": 2,
   "metadata": {},
   "outputs": [],
   "source": [
    "def cart2sph(x, y, z):\n",
    "    r = np.sqrt(x*x+y*y+z*z)\n",
    "    cos_theta = z/r\n",
    "    theta = np.arccos(cos_theta)\n",
    "    cos_phi = x/(np.sin(theta)*r)\n",
    "\n",
    "    #Due to machine precision, sometimes cos_phi = +-1.0000001\n",
    "    if cos_phi > 1:\n",
    "        cos_phi = 1\n",
    "    if cos_phi < -1:\n",
    "        cos_phi = -1\n",
    "    \n",
    "    phi = np.arccos(cos_phi)\n",
    "    if y < 0:\n",
    "        phi = 2*np.pi-phi\n",
    "    return theta, phi"
   ]
  },
  {
   "cell_type": "code",
   "execution_count": 3,
   "metadata": {},
   "outputs": [],
   "source": [
    "#Let's get theta and phi between i and j\n",
    "#for i = 0 j = 100 rij = r(j) - r(i)\n",
    "def angle(i,j,o,box):\n",
    "    ii = copy.copy(o[i])\n",
    "    jj = copy.copy(o[j])\n",
    "\n",
    "#     print(ii,jj)\n",
    "\n",
    "    for k in range (3):\n",
    "        if abs(ii[k]-jj[k]) > box[k]/2:\n",
    "            if ii[k] > box[k]/2:\n",
    "                jj[k] = jj[k] + box[k]\n",
    "            else:\n",
    "                jj[k] = jj[k] - box[k]\n",
    "\n",
    "    h = jj-ii\n",
    "#     print(jj-ii)\n",
    "#     print(np.linalg.norm(h))\n",
    "    theta, phi = cart2sph(h[0], h[1], h[2])\n",
    "    return theta, phi"
   ]
  },
  {
   "cell_type": "code",
   "execution_count": 4,
   "metadata": {},
   "outputs": [],
   "source": [
    "#Let's get q_lm(i)\n",
    "#neighborlist (n,)\n",
    "def steinhardt(m,l,i,neighborlist,o,box):\n",
    "    n = neighborlist.size\n",
    "    q_lm_i = 0\n",
    "    for k in range(n):\n",
    "        theta, phi = angle(i,np.intc(neighborlist[k]),o,box)\n",
    "        a = sp.sph_harm(m,l,phi,theta)\n",
    "        q_lm_i = a + q_lm_i\n",
    "    q_lm_i = q_lm_i/n\n",
    "    return q_lm_i"
   ]
  },
  {
   "cell_type": "code",
   "execution_count": 5,
   "metadata": {},
   "outputs": [],
   "source": [
    "def chill(pos_A, pos_B, box, x_max, n_bins, cutoff, l):\n",
    "    o = pos_A\n",
    "    N = o.shape[0] # number of molecules\n",
    "    dist = np.abs(o[:, np.newaxis, :] - o)\n",
    "    ddist = np.abs(dist - box)\n",
    "    dist = np.minimum(dist, ddist)\n",
    "    dist = np.reshape(dist*dist, (N*N,3))\n",
    "    dist = np.sum(dist,axis = 1)\n",
    "    dist = np.sqrt(dist)\n",
    "\n",
    "\n",
    "\n",
    "    neighbor_list = []\n",
    "\n",
    "\n",
    "    for i in range(N):\n",
    "        distij = dist[i*(N):(i+1)*(N)] #make (N,) distance vector\n",
    "        list = np.argsort(distij)\n",
    "        distij = np.sort(distij)\n",
    "\n",
    "\n",
    "        k = 1\n",
    "        arr = []\n",
    "        while distij[k] < cutoff:\n",
    "            arr += [list[k]]\n",
    "            k += 1\n",
    "        arr = np.array(arr)\n",
    "        neighbor_list += [arr]\n",
    "    \n",
    "#     neighbor_number = np.zeros((N,1))\n",
    "#     for i in range(N):\n",
    "#         neighbor_number[i] = neighbor_list[i].shape[0]\n",
    "\n",
    "#     sort_neighbor_number = np.sort(neighbor_number)\n",
    "\n",
    "    op = []\n",
    "    for i in range(N):\n",
    "        arr = []\n",
    "        ni = neighbor_list[i]\n",
    "        for j in range(ni.shape[0]):\n",
    "            qi = []\n",
    "            qj = []\n",
    "            qiqj = qiqi = qjqj =0\n",
    "            for m in range(-l,l+1):\n",
    "                qi = qi + [steinhardt(m,l,i,neighbor_list[i],o,box)]\n",
    "                qj = qj + [steinhardt(m,l,ni[j],neighbor_list[ni[j]],o,box)]\n",
    "            \n",
    "            for m in range(-l,l+1):\n",
    "                qiqj += qi[m]*np.conj(qj[m])\n",
    "                qiqi += qi[m]*np.conj(qi[m])\n",
    "                qjqj += qj[m]*np.conj(qj[m])\n",
    "            cij = np.real(qiqj/np.sqrt(qiqi)/np.sqrt(qjqj))\n",
    "            arr += [cij]\n",
    "        arr = np.array(arr)\n",
    "        op += [arr]\n",
    "            \n",
    "        \n",
    "\n",
    "    opp = op[0]        \n",
    "    for i in range(N-1):\n",
    "        opp = np.append(opp,op[i+1])\n",
    "\n",
    "\n",
    "\n",
    "    \n",
    "    #binning step\n",
    "    bins = np.linspace(-1, x_max, n_bins)\n",
    "    dr = bins[1] - bins[0]\n",
    "    opp = np.sort(opp)\n",
    "    \n",
    "    p = 0\n",
    "    i = 0\n",
    "    m = 0\n",
    "    nr = np.zeros(n_bins)\n",
    "    rdf = np.zeros(n_bins)\n",
    "\n",
    "    while True:\n",
    "        while opp[i] > bins[p]:\n",
    "            nr[p] = m\n",
    "            p = p+1\n",
    "            if p== len(nr):\n",
    "                break\n",
    "        else:\n",
    "            i = i+1\n",
    "            m = m+1\n",
    "            if i == len(opp):\n",
    "                break\n",
    "        if p == len(nr):\n",
    "            break\n",
    "            \n",
    "    for i in range (n_bins-1):\n",
    "        rdf[i+1] = nr[i+1] - nr[i]\n",
    "        if rdf[i+1] <0:\n",
    "            rdf[i+1] = rdf[i+1] + opp.shape[0]\n",
    "        \n",
    "    \n",
    "\n",
    "    return bins, rdf, op #neighbor_number"
   ]
  },
  {
   "cell_type": "code",
   "execution_count": 6,
   "metadata": {},
   "outputs": [],
   "source": [
    "def op_average(u, array, fs_atom_name, sn_atom_name , box, x_max, n_bins, cutoff, l):\n",
    "\n",
    "    '''\n",
    "    Input:\n",
    "      array(numpy.ndarray) : (n_time_frames)  ex) [0,100,200,300...,1000]\n",
    "      \n",
    "    output:\n",
    "      bins(numpy.ndarray) : (n_bins,) array of bins\n",
    "      gr_average(numpy.ndarray) : (n_bins, ) radial distribution function\n",
    "      nr_average(numpy.ndarray) : (n_bins, ) number of cumulative molecules\n",
    "    \n",
    "    '''\n",
    "    \n",
    "    u.trajectory[0]\n",
    "    p = u.select_atoms(fs_atom_name)\n",
    "    o = p.atoms.positions\n",
    "    N = o.shape[0] # number of molecules\n",
    "\n",
    "    \n",
    "    rdf__ = np.zeros(n_bins)\n",
    "#     opp = np.zeros((N,))\n",
    "    n_bins = n_bins\n",
    "    \n",
    "    for i in array:\n",
    "        u.trajectory[np.int(i)]\n",
    "        p = u.select_atoms(fs_atom_name)\n",
    "        pp = u.select_atoms(sn_atom_name)\n",
    "        bins, rdf_, op = chill(p.atoms.positions, pp.atoms.positions, box, x_max, n_bins, cutoff, l)\n",
    "        rdf__ += rdf_\n",
    "#         opp += op\n",
    "\n",
    "    \n",
    "    return bins, rdf__/len(array)#, op#opp/len(array)"
   ]
  },
  {
   "cell_type": "code",
   "execution_count": 7,
   "metadata": {},
   "outputs": [],
   "source": [
    "def discrim(op):\n",
    "    n = len(op)\n",
    "    c = []\n",
    "    \n",
    "    for i in range(n):\n",
    "        arr = []\n",
    "        oi = op[i]\n",
    "        \n",
    "        for j in range(oi.shape[0]):\n",
    "            if -0.35< oi[j] <0.25:\n",
    "                arr += ['E']\n",
    "            elif oi[j] < -0.8:\n",
    "                arr +=['S']\n",
    "            else:\n",
    "                arr +=['O']\n",
    "        c += [arr]\n",
    "    return c\n",
    "    "
   ]
  },
  {
   "cell_type": "code",
   "execution_count": 8,
   "metadata": {},
   "outputs": [],
   "source": [
    "def discrim(op):\n",
    "    n = len(op)\n",
    "    c = []\n",
    "    \n",
    "    for i in range(n):\n",
    "        arr = []\n",
    "        oi = op[i]\n",
    "        \n",
    "        for j in range(oi.shape[0]):\n",
    "            if -0.35< oi[j] <0.25:\n",
    "                arr += ['E']\n",
    "            elif oi[j] < -0.8:\n",
    "                arr +=['S']\n",
    "            else:\n",
    "                arr +=['O']\n",
    "        c += [arr]\n",
    "        \n",
    "    \n",
    "    hexa = 0\n",
    "    cubic = 0\n",
    "    water = 0\n",
    "    \n",
    "    for i in range(n):\n",
    "        arr = []\n",
    "        ci = c[i]\n",
    "        \n",
    "        e = 0\n",
    "        s = 0\n",
    "        for j in range(len(ci)):\n",
    "            if ci[j] == 'E':\n",
    "                e +=1\n",
    "            elif ci[j] =='S':\n",
    "                s +=1\n",
    "        if e == 0 and s ==4:\n",
    "            cubic += 1\n",
    "        elif e ==1 and s ==3:\n",
    "            hexa += 1\n",
    "        else:\n",
    "            water += 1\n",
    "                \n",
    "    \n",
    "    return c,hexa,cubic,water"
   ]
  },
  {
   "cell_type": "code",
   "execution_count": 32,
   "metadata": {},
   "outputs": [
    {
     "name": "stdout",
     "output_type": "stream",
     "text": [
      "1019 0 5\n"
     ]
    }
   ],
   "source": [
    "uh.trajectory[50]\n",
    "p = uh.select_atoms('name OW')\n",
    "o = p.atoms.positions\n",
    "bins,rdf, op = chill(o, o, hbox, 1, 50, 3.5, 3)\n",
    "c,hexa,cubic,water = discrim(op)\n",
    "print(hexa,cubic,water)"
   ]
  },
  {
   "cell_type": "code",
   "execution_count": 33,
   "metadata": {},
   "outputs": [
    {
     "name": "stdout",
     "output_type": "stream",
     "text": [
      "2 0 907\n"
     ]
    }
   ],
   "source": [
    "uw.trajectory[50]\n",
    "p = uw.select_atoms('name OW')\n",
    "o = p.atoms.positions\n",
    "bins,rdf, op = chill(o, o, wbox, 1, 50, 3.5, 3)\n",
    "c,hexa,cubic,water = discrim(op)\n",
    "print(hexa,cubic,water)"
   ]
  },
  {
   "cell_type": "code",
   "execution_count": 34,
   "metadata": {},
   "outputs": [
    {
     "name": "stdout",
     "output_type": "stream",
     "text": [
      "0 1000 0\n"
     ]
    }
   ],
   "source": [
    "uc.trajectory[50]\n",
    "p = uc.select_atoms('name OW')\n",
    "o = p.atoms.positions\n",
    "bins,rdf, op = chill(o, o, cbox, 1, 50, 3.5, 3)\n",
    "c,hexa,cubic,water = discrim(op)\n",
    "print(hexa,cubic,water)"
   ]
  },
  {
   "cell_type": "code",
   "execution_count": 24,
   "metadata": {},
   "outputs": [
    {
     "name": "stdout",
     "output_type": "stream",
     "text": [
      "[['S', 'S', 'E', 'S'], ['S', 'S', 'S', 'E'], ['S', 'E', 'S', 'S'], ['S', 'S', 'E', 'S'], ['S', 'S', 'E', 'S'], ['E', 'S', 'S', 'S'], ['S', 'S', 'S', 'E'], ['S', 'E', 'S', 'S'], ['E', 'S', 'S', 'S'], ['S', 'E', 'S', 'S'], ['S', 'E', 'S', 'S'], ['S', 'S', 'E', 'S'], ['S', 'E', 'S', 'S'], ['S', 'S', 'S', 'E'], ['S', 'S', 'E', 'S'], ['E', 'S', 'S', 'S'], ['S', 'E', 'S', 'S'], ['S', 'E', 'S', 'S'], ['S', 'E', 'S', 'S'], ['S', 'S', 'E', 'S'], ['S', 'S', 'S', 'E'], ['E', 'S', 'S', 'S'], ['S', 'E', 'S', 'S'], ['S', 'E', 'S', 'S'], ['E', 'S', 'S', 'S'], ['E', 'S', 'S', 'S'], ['S', 'E', 'S', 'S'], ['S', 'E', 'S', 'S'], ['S', 'S', 'E', 'S'], ['S', 'S', 'S', 'E'], ['S', 'S', 'E', 'S'], ['E', 'S', 'S', 'S'], ['S', 'E', 'S', 'S'], ['S', 'E', 'S', 'S'], ['S', 'S', 'E', 'S'], ['S', 'S', 'S', 'E'], ['S', 'S', 'E', 'S'], ['S', 'E', 'S', 'S'], ['E', 'S', 'S', 'S'], ['S', 'S', 'E', 'S'], ['E', 'S', 'S', 'S'], ['E', 'S', 'S', 'S'], ['S', 'E', 'S', 'S'], ['S', 'S', 'E', 'S'], ['E', 'S', 'S', 'S'], ['S', 'S', 'E', 'S'], ['S', 'S', 'S', 'E'], ['E', 'S', 'S', 'S'], ['E', 'S', 'S', 'S'], ['S', 'S', 'E', 'S'], ['S', 'E', 'S', 'S'], ['S', 'S', 'E', 'S'], ['S', 'S', 'S', 'E'], ['S', 'S', 'S', 'E'], ['S', 'S', 'S', 'E'], ['S', 'S', 'E', 'S'], ['E', 'S', 'S', 'S'], ['E', 'S', 'S', 'S'], ['S', 'E', 'S', 'S'], ['S', 'E', 'S', 'S'], ['S', 'S', 'E', 'S'], ['S', 'S', 'E', 'S'], ['S', 'S', 'E', 'S'], ['E', 'S', 'S', 'S'], ['S', 'E', 'S', 'S'], ['E', 'S', 'S', 'S'], ['E', 'S', 'S', 'S'], ['E', 'S', 'S', 'S'], ['E', 'S', 'S', 'S'], ['S', 'S', 'S', 'E'], ['S', 'E', 'S', 'S'], ['S', 'S', 'E', 'S'], ['S', 'E', 'S', 'S'], ['S', 'S', 'E', 'S'], ['S', 'E', 'S', 'S'], ['E', 'S', 'S', 'S'], ['S', 'S', 'E', 'S'], ['S', 'E', 'S', 'S'], ['S', 'S', 'E', 'S'], ['S', 'E', 'S', 'S'], ['E', 'S', 'S', 'S'], ['S', 'S', 'E', 'S'], ['S', 'S', 'S', 'E'], ['S', 'S', 'S', 'E'], ['E', 'S', 'S', 'S'], ['E', 'S', 'S', 'S'], ['S', 'E', 'S', 'S'], ['S', 'S', 'S', 'E'], ['E', 'S', 'S', 'S'], ['S', 'E', 'S', 'S'], ['S', 'S', 'S', 'E'], ['S', 'E', 'S', 'S'], ['E', 'S', 'S', 'S'], ['S', 'E', 'S', 'S'], ['S', 'S', 'S', 'E'], ['S', 'E', 'S', 'S'], ['S', 'E', 'S', 'S'], ['S', 'S', 'S', 'E'], ['S', 'E', 'S', 'S'], ['S', 'E', 'S', 'S'], ['S', 'S', 'S', 'E'], ['S', 'S', 'E', 'S'], ['S', 'S', 'S', 'E'], ['S', 'S', 'E', 'S'], ['S', 'S', 'S', 'E'], ['E', 'S', 'S', 'S'], ['S', 'E', 'S', 'S'], ['S', 'S', 'E', 'S'], ['E', 'S', 'S', 'S'], ['E', 'S', 'S', 'S'], ['E', 'S', 'S', 'S'], ['S', 'S', 'S', 'E'], ['S', 'E', 'S', 'S'], ['E', 'S', 'S', 'S'], ['S', 'S', 'E', 'S'], ['S', 'S', 'E', 'S'], ['E', 'S', 'S', 'S'], ['E', 'S', 'S', 'S'], ['S', 'E', 'S', 'S'], ['S', 'E', 'S', 'S'], ['E', 'S', 'S', 'S'], ['S', 'S', 'E', 'S'], ['S', 'S', 'E', 'S'], ['S', 'S', 'S', 'E'], ['S', 'S', 'E', 'S'], ['S', 'S', 'E', 'S'], ['S', 'S', 'E', 'S'], ['E', 'S', 'S', 'S'], ['E', 'S', 'S', 'S'], ['S', 'S', 'E', 'S'], ['S', 'E', 'S', 'S'], ['S', 'E', 'S', 'S'], ['S', 'S', 'E', 'S'], ['S', 'S', 'S', 'E'], ['S', 'S', 'E', 'S'], ['S', 'S', 'E', 'S'], ['S', 'S', 'E', 'S'], ['S', 'S', 'E', 'S'], ['S', 'S', 'S', 'E'], ['E', 'S', 'S', 'S'], ['S', 'E', 'S', 'S'], ['S', 'S', 'S', 'E'], ['S', 'S', 'E', 'S'], ['S', 'S', 'S', 'E'], ['S', 'S', 'E', 'S'], ['S', 'S', 'S', 'E'], ['S', 'E', 'S', 'S'], ['S', 'S', 'E', 'S'], ['S', 'S', 'E', 'S'], ['S', 'E', 'S', 'S'], ['S', 'S', 'E', 'S'], ['S', 'S', 'S', 'E'], ['S', 'E', 'S', 'S'], ['E', 'S', 'S', 'S'], ['E', 'S', 'S', 'S'], ['S', 'S', 'S', 'E'], ['S', 'S', 'S', 'E'], ['S', 'S', 'S', 'E'], ['E', 'S', 'S', 'S'], ['S', 'S', 'E', 'S'], ['S', 'S', 'E', 'S'], ['S', 'S', 'S', 'E'], ['S', 'E', 'S', 'S'], ['S', 'E', 'S', 'S'], ['S', 'E', 'S', 'S'], ['S', 'S', 'S', 'E'], ['S', 'S', 'S', 'E'], ['E', 'S', 'S', 'S'], ['S', 'E', 'S', 'S'], ['S', 'E', 'S', 'S'], ['S', 'S', 'E', 'S'], ['E', 'S', 'S', 'S'], ['S', 'S', 'E', 'S'], ['S', 'E', 'S', 'S'], ['S', 'S', 'S', 'E'], ['S', 'S', 'E', 'S'], ['S', 'E', 'S', 'S'], ['S', 'E', 'S', 'S'], ['S', 'E', 'S', 'S'], ['S', 'E', 'S', 'S'], ['E', 'S', 'S', 'S'], ['S', 'S', 'E', 'S'], ['E', 'S', 'S', 'S'], ['S', 'S', 'E', 'S'], ['E', 'S', 'S', 'S'], ['S', 'E', 'S', 'S'], ['S', 'S', 'S', 'E'], ['S', 'E', 'S', 'S'], ['S', 'E', 'S', 'S'], ['S', 'E', 'S', 'S'], ['S', 'E', 'S', 'S'], ['E', 'S', 'S', 'S'], ['S', 'S', 'S', 'E'], ['E', 'S', 'S', 'S'], ['S', 'S', 'S', 'E'], ['S', 'S', 'S', 'E'], ['S', 'S', 'S', 'E'], ['S', 'E', 'S', 'S'], ['E', 'S', 'S', 'S'], ['S', 'S', 'E', 'S'], ['S', 'S', 'S', 'E'], ['S', 'S', 'S', 'E'], ['S', 'S', 'E', 'S'], ['S', 'S', 'S', 'E'], ['S', 'S', 'S', 'E'], ['S', 'S', 'E', 'S'], ['S', 'S', 'S', 'E'], ['S', 'S', 'S', 'E'], ['S', 'S', 'S', 'E'], ['S', 'S', 'E', 'S'], ['S', 'S', 'S', 'E'], ['S', 'E', 'S', 'S'], ['S', 'S', 'E', 'S'], ['S', 'S', 'S', 'E'], ['S', 'S', 'S', 'E'], ['S', 'E', 'S', 'S'], ['S', 'E', 'S', 'S'], ['S', 'S', 'S', 'E'], ['S', 'E', 'S', 'S'], ['S', 'E', 'S', 'S'], ['S', 'S', 'E', 'S'], ['S', 'S', 'E', 'S'], ['S', 'S', 'E', 'S'], ['S', 'S', 'S', 'E'], ['E', 'S', 'S', 'S'], ['E', 'S', 'S', 'S'], ['S', 'E', 'S', 'S'], ['S', 'S', 'S', 'E'], ['S', 'S', 'E', 'S'], ['S', 'S', 'E', 'S'], ['S', 'E', 'S', 'S'], ['S', 'S', 'E', 'S'], ['S', 'S', 'E', 'S'], ['S', 'E', 'S', 'S'], ['S', 'S', 'E', 'S'], ['S', 'S', 'E', 'S'], ['S', 'E', 'S', 'S'], ['S', 'E', 'S', 'S'], ['S', 'S', 'S', 'E'], ['S', 'S', 'E', 'S'], ['E', 'S', 'S', 'S'], ['S', 'E', 'S', 'S'], ['S', 'S', 'E', 'S'], ['S', 'S', 'E', 'S'], ['S', 'E', 'S', 'S'], ['S', 'S', 'S', 'E'], ['E', 'S', 'S', 'S'], ['S', 'S', 'E', 'S'], ['E', 'S', 'S', 'S'], ['S', 'E', 'S', 'S'], ['S', 'E', 'S', 'S'], ['S', 'S', 'S', 'E'], ['S', 'S', 'E', 'S'], ['S', 'S', 'S', 'E'], ['S', 'S', 'E', 'S'], ['E', 'S', 'S', 'S'], ['S', 'E', 'S', 'S'], ['S', 'S', 'S', 'E'], ['S', 'S', 'S', 'E'], ['S', 'S', 'S', 'E'], ['S', 'S', 'S', 'E'], ['S', 'S', 'E', 'S'], ['S', 'S', 'S', 'E'], ['S', 'S', 'E', 'S'], ['S', 'E', 'S', 'S'], ['S', 'E', 'S', 'S'], ['S', 'S', 'S', 'E'], ['S', 'E', 'S', 'S'], ['S', 'S', 'S', 'E'], ['S', 'S', 'E', 'S'], ['S', 'S', 'E', 'S'], ['S', 'E', 'S', 'S'], ['E', 'S', 'S', 'S'], ['E', 'S', 'S', 'S'], ['S', 'S', 'E', 'S'], ['E', 'S', 'S', 'S'], ['S', 'S', 'S', 'E'], ['S', 'S', 'E', 'S'], ['E', 'S', 'S', 'S'], ['E', 'S', 'S', 'S'], ['S', 'S', 'E', 'S'], ['S', 'S', 'E', 'S'], ['S', 'S', 'S', 'E'], ['S', 'S', 'S', 'E'], ['S', 'E', 'S', 'S'], ['S', 'S', 'E', 'S'], ['S', 'S', 'S', 'E'], ['S', 'S', 'E', 'S'], ['S', 'S', 'S', 'E'], ['S', 'S', 'E', 'S'], ['S', 'S', 'E', 'S'], ['S', 'S', 'S', 'E'], ['S', 'S', 'S', 'E'], ['E', 'S', 'S', 'S'], ['S', 'E', 'S', 'S'], ['S', 'S', 'E', 'S'], ['S', 'S', 'E', 'S'], ['S', 'S', 'S', 'E'], ['E', 'S', 'S', 'S'], ['S', 'S', 'E', 'S'], ['S', 'S', 'E', 'S'], ['S', 'S', 'E', 'S'], ['E', 'S', 'S', 'S'], ['S', 'S', 'E', 'S'], ['S', 'E', 'S', 'S'], ['E', 'S', 'S', 'S'], ['E', 'S', 'S', 'S'], ['S', 'S', 'E', 'S'], ['S', 'S', 'E', 'S'], ['S', 'S', 'E', 'S'], ['E', 'S', 'S', 'S'], ['S', 'E', 'S', 'S'], ['S', 'S', 'E', 'S'], ['S', 'S', 'E', 'S'], ['E', 'S', 'S', 'S'], ['S', 'S', 'S', 'E'], ['S', 'E', 'S', 'S'], ['S', 'S', 'E', 'S'], ['E', 'S', 'S', 'S'], ['E', 'S', 'S', 'S'], ['S', 'E', 'S', 'S'], ['E', 'S', 'S', 'S'], ['S', 'S', 'S', 'E'], ['S', 'S', 'S', 'E'], ['S', 'S', 'S', 'E'], ['S', 'S', 'S', 'E'], ['E', 'S', 'S', 'S'], ['S', 'E', 'S', 'S'], ['S', 'E', 'S', 'S'], ['S', 'S', 'E', 'S'], ['S', 'E', 'S', 'S'], ['S', 'S', 'S', 'E'], ['S', 'S', 'S', 'E'], ['S', 'S', 'S', 'E'], ['S', 'S', 'S', 'E'], ['S', 'S', 'E', 'S'], ['S', 'E', 'S', 'S'], ['S', 'S', 'S', 'E'], ['S', 'S', 'S', 'E'], ['S', 'S', 'E', 'S'], ['S', 'S', 'S', 'E'], ['E', 'S', 'S', 'S'], ['S', 'S', 'S', 'E'], ['S', 'S', 'E', 'S'], ['S', 'E', 'S', 'S'], ['S', 'E', 'S', 'S'], ['S', 'S', 'S', 'E'], ['S', 'S', 'S', 'E'], ['E', 'S', 'S', 'S'], ['S', 'S', 'S', 'E'], ['S', 'S', 'E', 'S'], ['S', 'S', 'E', 'S'], ['S', 'S', 'S', 'E'], ['S', 'S', 'E', 'S'], ['S', 'S', 'E', 'S'], ['E', 'S', 'S', 'S'], ['E', 'S', 'S', 'S'], ['S', 'E', 'S', 'S'], ['S', 'S', 'S', 'E'], ['E', 'S', 'S', 'S'], ['S', 'S', 'E', 'S'], ['S', 'S', 'S', 'E'], ['S', 'S', 'E', 'S'], ['S', 'S', 'E', 'S'], ['S', 'S', 'E', 'S'], ['S', 'E', 'S', 'S'], ['S', 'E', 'S', 'S'], ['S', 'S', 'E', 'S'], ['S', 'S', 'S', 'E'], ['S', 'E', 'S', 'S'], ['S', 'E', 'S', 'S'], ['S', 'E', 'S', 'S'], ['S', 'S', 'E', 'S'], ['S', 'S', 'S', 'E'], ['E', 'S', 'S', 'S'], ['E', 'S', 'S', 'S'], ['S', 'S', 'E', 'S'], ['S', 'E', 'S', 'S'], ['S', 'S', 'E', 'S'], ['S', 'S', 'E', 'S'], ['E', 'S', 'S', 'S'], ['E', 'S', 'S', 'S'], ['E', 'S', 'S', 'S'], ['S', 'E', 'S', 'S'], ['E', 'S', 'S', 'S'], ['S', 'S', 'E', 'S'], ['S', 'E', 'S', 'S'], ['S', 'E', 'S', 'S'], ['S', 'S', 'S', 'E'], ['S', 'E', 'S', 'S'], ['S', 'E', 'S', 'S'], ['S', 'E', 'S', 'S'], ['S', 'E', 'S', 'S'], ['S', 'S', 'E', 'S'], ['S', 'E', 'S', 'S'], ['S', 'E', 'S', 'S'], ['S', 'E', 'S', 'S'], ['S', 'E', 'S', 'S'], ['S', 'S', 'E', 'S'], ['S', 'E', 'S', 'S'], ['E', 'S', 'S', 'S'], ['S', 'S', 'E', 'S'], ['S', 'S', 'S', 'E'], ['S', 'S', 'S', 'E'], ['S', 'E', 'S', 'S'], ['E', 'S', 'S', 'S'], ['S', 'S', 'E', 'S'], ['S', 'S', 'E', 'S'], ['E', 'S', 'S', 'S'], ['E', 'S', 'S', 'S'], ['S', 'S', 'E', 'S'], ['S', 'S', 'E', 'S'], ['S', 'S', 'S', 'E'], ['E', 'S', 'S', 'S'], ['S', 'E', 'S', 'S'], ['E', 'S', 'S', 'S'], ['E', 'S', 'S', 'S'], ['E', 'S', 'S', 'S'], ['S', 'S', 'S', 'E'], ['S', 'E', 'S', 'S'], ['S', 'S', 'S', 'E'], ['S', 'S', 'S', 'E'], ['E', 'S', 'S', 'S'], ['S', 'S', 'S', 'E'], ['S', 'E', 'S', 'S'], ['S', 'E', 'S', 'S'], ['S', 'S', 'E', 'S'], ['S', 'E', 'S', 'S'], ['S', 'S', 'E', 'S'], ['S', 'S', 'E', 'S'], ['S', 'S', 'E', 'S'], ['S', 'E', 'S', 'S'], ['E', 'S', 'S', 'S'], ['S', 'S', 'S', 'E'], ['S', 'E', 'S', 'S'], ['S', 'S', 'E', 'S'], ['S', 'S', 'S', 'E'], ['S', 'S', 'S', 'E'], ['S', 'S', 'S', 'E'], ['S', 'S', 'E', 'S'], ['S', 'S', 'S', 'E'], ['E', 'S', 'S', 'S'], ['S', 'S', 'S', 'E'], ['S', 'E', 'S', 'S'], ['E', 'S', 'S', 'S'], ['E', 'S', 'S', 'S'], ['E', 'S', 'S', 'S'], ['S', 'S', 'S', 'E'], ['S', 'S', 'S', 'E'], ['S', 'S', 'S', 'E'], ['S', 'S', 'S', 'E'], ['E', 'S', 'S', 'S'], ['S', 'S', 'E', 'S'], ['S', 'S', 'S', 'E'], ['S', 'S', 'S', 'E'], ['S', 'E', 'S', 'S'], ['S', 'S', 'S', 'E'], ['S', 'E', 'S', 'S'], ['S', 'S', 'E', 'S'], ['S', 'S', 'E', 'S'], ['S', 'E', 'S', 'S'], ['S', 'S', 'S', 'E'], ['S', 'S', 'S', 'E'], ['S', 'S', 'S', 'E'], ['S', 'S', 'S', 'E'], ['S', 'S', 'E', 'S'], ['S', 'S', 'E', 'S'], ['E', 'S', 'S', 'S'], ['S', 'E', 'S', 'S'], ['S', 'E', 'S', 'S'], ['S', 'S', 'S', 'E'], ['S', 'S', 'E', 'S'], ['S', 'E', 'S', 'S'], ['S', 'E', 'S', 'S'], ['S', 'S', 'S', 'E'], ['S', 'S', 'S', 'E'], ['S', 'S', 'S', 'E'], ['E', 'S', 'O', 'S'], ['E', 'S', 'S', 'S'], ['S', 'E', 'S', 'S'], ['S', 'S', 'S', 'E'], ['E', 'S', 'S', 'S'], ['S', 'E', 'S', 'S'], ['S', 'E', 'S', 'S'], ['S', 'E', 'S'], ['S', 'S', 'S', 'E'], ['S', 'E', 'S', 'S'], ['E', 'S', 'S', 'S'], ['E', 'S', 'S', 'S'], ['S', 'S', 'S', 'E'], ['S', 'E', 'S', 'S'], ['S', 'S', 'S', 'E'], ['S', 'S', 'S', 'E'], ['S', 'E', 'S', 'S'], ['S', 'S', 'E', 'S'], ['S', 'O', 'E'], ['E', 'S', 'S', 'S'], ['S', 'S', 'S', 'E'], ['S', 'E', 'S', 'S'], ['S', 'S', 'S', 'E'], ['S', 'S', 'S', 'E'], ['S', 'E', 'S', 'S'], ['S', 'S', 'S', 'E'], ['S', 'S', 'S', 'E'], ['S', 'S', 'E', 'S'], ['S', 'E', 'S', 'S'], ['S', 'S', 'E', 'S'], ['S', 'S', 'S', 'E'], ['S', 'S', 'S', 'E'], ['S', 'E', 'S', 'S'], ['S', 'E', 'S', 'S'], ['S', 'S', 'S', 'E'], ['S', 'E', 'S', 'S'], ['S', 'S', 'S', 'E'], ['S', 'S', 'S', 'E'], ['S', 'S', 'S', 'E'], ['S', 'E', 'S', 'S'], ['S', 'S', 'S', 'E'], ['S', 'S', 'S', 'E'], ['S', 'S', 'S', 'E'], ['S', 'E', 'S', 'S'], ['S', 'E', 'S', 'S'], ['S', 'S', 'S', 'E'], ['S', 'S', 'E', 'S'], ['E', 'S', 'S', 'S'], ['S', 'S', 'S', 'E'], ['S', 'S', 'S', 'E'], ['E', 'S', 'S', 'S'], ['S', 'E', 'S', 'S'], ['S', 'S', 'E', 'S'], ['S', 'E', 'S', 'S'], ['E', 'S', 'S', 'S'], ['S', 'S', 'S', 'E'], ['E', 'S', 'S', 'S'], ['S', 'S', 'E', 'S'], ['S', 'S', 'E', 'S'], ['E', 'S', 'S', 'S'], ['E', 'S', 'S', 'S'], ['S', 'S', 'E', 'S'], ['S', 'S', 'E', 'S'], ['S', 'S', 'S', 'E'], ['S', 'S', 'S', 'E'], ['E', 'S', 'S', 'S'], ['E', 'S', 'S', 'S'], ['S', 'S', 'S', 'E'], ['S', 'S', 'E', 'S'], ['S', 'E', 'S', 'S'], ['E', 'S', 'S', 'S'], ['S', 'S', 'S', 'E'], ['S', 'S', 'E', 'S'], ['E', 'S', 'S', 'S'], ['S', 'S', 'E', 'S'], ['E', 'S', 'S', 'S'], ['E', 'S', 'S', 'S'], ['S', 'S', 'E', 'S'], ['S', 'S', 'E', 'S'], ['S', 'S', 'S', 'E'], ['S', 'S', 'E', 'S'], ['S', 'E', 'S', 'S'], ['S', 'S', 'E', 'S'], ['S', 'E', 'S', 'S'], ['E', 'S', 'S', 'S'], ['S', 'S', 'E', 'S'], ['E', 'S', 'S', 'S'], ['S', 'S', 'E', 'S'], ['E', 'S', 'S', 'S'], ['S', 'E', 'S', 'S'], ['E', 'S', 'S', 'S'], ['E', 'S', 'S', 'S'], ['S', 'E', 'S', 'S'], ['S', 'S', 'S', 'E'], ['S', 'S', 'E', 'S'], ['S', 'E', 'S', 'S'], ['S', 'S', 'S', 'E'], ['E', 'S', 'S', 'S'], ['S', 'E', 'S', 'S'], ['S', 'E', 'S', 'S'], ['S', 'E', 'S', 'S'], ['E', 'S', 'S', 'S'], ['S', 'S', 'E', 'S'], ['S', 'S', 'E', 'S'], ['S', 'E', 'S', 'S'], ['E', 'S', 'S', 'S'], ['S', 'S', 'S', 'E'], ['E', 'S', 'S', 'S'], ['E', 'S', 'S', 'S'], ['S', 'S', 'E', 'S'], ['S', 'S', 'S', 'E'], ['S', 'S', 'E', 'S'], ['S', 'S', 'S', 'E'], ['S', 'S', 'S', 'E'], ['S', 'E', 'S', 'S'], ['S', 'S', 'S', 'E'], ['S', 'S', 'S', 'E'], ['S', 'S', 'S', 'E'], ['S', 'S', 'S', 'E'], ['S', 'S', 'E', 'S'], ['E', 'S', 'S', 'S'], ['S', 'S', 'S', 'E'], ['S', 'S', 'S', 'E'], ['S', 'S', 'E', 'S'], ['S', 'S', 'E', 'S'], ['E', 'S', 'S', 'S'], ['E', 'S', 'S', 'S'], ['S', 'S', 'E', 'S'], ['S', 'E', 'S', 'S'], ['S', 'E', 'S', 'S'], ['S', 'E', 'S', 'S'], ['S', 'S', 'S', 'E'], ['E', 'S', 'S', 'S'], ['E', 'S', 'S', 'S'], ['E', 'S', 'S', 'S'], ['E', 'S', 'S', 'S'], ['S', 'S', 'S', 'E'], ['E', 'S', 'S', 'S'], ['S', 'E', 'S', 'S'], ['S', 'S', 'S', 'E'], ['S', 'S', 'E', 'S'], ['E', 'S', 'S', 'S'], ['S', 'S', 'S', 'E'], ['S', 'S', 'E', 'S'], ['S', 'E', 'S', 'S'], ['S', 'E', 'S', 'S', 'E'], ['S', 'S', 'S', 'E'], ['S', 'S', 'E', 'S'], ['S', 'S', 'E', 'S'], ['S', 'S', 'E', 'S'], ['E', 'S', 'S', 'S'], ['E', 'S', 'S', 'S'], ['E', 'S', 'S', 'S'], ['S', 'S', 'E', 'S'], ['E', 'S', 'S', 'S'], ['S', 'S', 'S', 'E'], ['E', 'S', 'S', 'S'], ['S', 'E', 'S', 'S'], ['S', 'S', 'S', 'E'], ['S', 'S', 'E', 'S'], ['E', 'S', 'S', 'S'], ['E', 'S', 'S', 'S'], ['S', 'E', 'S', 'S'], ['S', 'S', 'S', 'E'], ['S', 'S', 'E', 'S'], ['S', 'S', 'E', 'S'], ['E', 'S', 'S', 'S'], ['S', 'E', 'S', 'S'], ['S', 'S', 'E', 'S'], ['S', 'E', 'S', 'S'], ['S', 'S', 'S', 'E'], ['S', 'S', 'S', 'E'], ['S', 'S', 'S', 'E'], ['S', 'E', 'S', 'S'], ['S', 'E', 'S', 'S'], ['S', 'E', 'S', 'S'], ['S', 'S', 'S', 'E'], ['S', 'E', 'S', 'S'], ['S', 'E', 'S', 'S'], ['S', 'S', 'S', 'E'], ['S', 'S', 'E', 'S'], ['S', 'E', 'S', 'S'], ['E', 'S', 'S', 'S'], ['E', 'S', 'S', 'S'], ['S', 'E', 'S', 'S'], ['S', 'E', 'S', 'S'], ['E', 'S', 'S', 'S'], ['S', 'S', 'E', 'S'], ['S', 'S', 'S', 'E'], ['S', 'S', 'E', 'S'], ['S', 'S', 'S', 'E'], ['S', 'S', 'E', 'S'], ['E', 'S', 'S', 'S'], ['S', 'S', 'E', 'S'], ['S', 'S', 'E', 'S'], ['S', 'S', 'S', 'E'], ['S', 'S', 'E', 'S'], ['S', 'S', 'E', 'S'], ['S', 'E', 'S', 'S'], ['S', 'E', 'S', 'S'], ['S', 'E', 'S', 'S'], ['S', 'S', 'E', 'S'], ['S', 'E', 'S', 'S'], ['E', 'S', 'S', 'S'], ['E', 'S', 'S', 'S'], ['S', 'E', 'S', 'S'], ['S', 'E', 'S', 'S'], ['E', 'S', 'S', 'S'], ['E', 'S', 'S', 'S'], ['S', 'S', 'E', 'S'], ['E', 'S', 'S', 'S'], ['S', 'S', 'E', 'S'], ['S', 'S', 'S', 'E'], ['S', 'E', 'S', 'S'], ['S', 'S', 'E', 'S'], ['E', 'S', 'S', 'S'], ['S', 'S', 'E', 'S'], ['S', 'S', 'E', 'S'], ['S', 'E', 'S', 'S'], ['S', 'S', 'S', 'E'], ['S', 'E', 'S', 'S'], ['S', 'S', 'S', 'E'], ['E', 'S', 'S', 'S'], ['S', 'S', 'E', 'S'], ['E', 'S', 'S', 'S'], ['S', 'S', 'E', 'S'], ['S', 'S', 'E', 'S'], ['S', 'E', 'S', 'S'], ['S', 'S', 'E', 'S'], ['E', 'S', 'S', 'S'], ['S', 'S', 'S', 'E'], ['S', 'S', 'E', 'S'], ['S', 'S', 'E', 'S'], ['S', 'E', 'S', 'S'], ['S', 'S', 'E', 'S'], ['S', 'S', 'E', 'S'], ['S', 'S', 'S', 'E'], ['S', 'S', 'S', 'E'], ['S', 'S', 'S', 'E'], ['S', 'E', 'S', 'S'], ['S', 'E', 'S', 'S'], ['S', 'S', 'S', 'E'], ['S', 'S', 'E', 'S'], ['S', 'S', 'E', 'S'], ['S', 'S', 'E', 'S'], ['S', 'S', 'S', 'E'], ['S', 'S', 'E', 'S'], ['E', 'S', 'S', 'S'], ['S', 'S', 'S', 'E'], ['S', 'E', 'S', 'S'], ['E', 'S', 'S', 'S'], ['S', 'S', 'S', 'E'], ['S', 'E', 'S', 'S'], ['S', 'S', 'S', 'E'], ['S', 'E', 'S', 'S'], ['E', 'S', 'S', 'S'], ['S', 'S', 'S', 'E'], ['S', 'E', 'S', 'S'], ['E', 'S', 'S', 'S'], ['E', 'S', 'S', 'S'], ['S', 'S', 'E', 'S'], ['S', 'E', 'S', 'S'], ['E', 'S', 'S', 'S'], ['S', 'S', 'S', 'E'], ['S', 'S', 'S', 'E'], ['S', 'E', 'S', 'S'], ['E', 'S', 'S', 'S'], ['S', 'S', 'S', 'E'], ['S', 'E', 'S', 'S'], ['S', 'S', 'E', 'S'], ['E', 'S', 'S', 'S'], ['E', 'S', 'S', 'S'], ['S', 'E', 'S', 'S'], ['S', 'S', 'S', 'E'], ['S', 'S', 'E', 'S'], ['E', 'S', 'S', 'S'], ['S', 'S', 'S', 'E'], ['S', 'S', 'E', 'S'], ['S', 'E', 'S', 'S'], ['S', 'S', 'E', 'S'], ['S', 'E', 'S', 'S'], ['S', 'S', 'S', 'E'], ['S', 'S', 'E', 'S'], ['S', 'S', 'S', 'E'], ['E', 'S', 'S', 'S'], ['S', 'S', 'S', 'E'], ['S', 'S', 'S', 'E'], ['E', 'S', 'S', 'S'], ['S', 'S', 'E', 'S'], ['S', 'S', 'S', 'E'], ['S', 'S', 'S', 'E'], ['S', 'S', 'E', 'S'], ['S', 'S', 'E', 'S'], ['E', 'S', 'S', 'S'], ['S', 'S', 'S', 'E'], ['S', 'S', 'E', 'S'], ['S', 'E', 'S', 'S'], ['S', 'E', 'S', 'S'], ['S', 'S', 'S', 'E'], ['S', 'E', 'S', 'S'], ['S', 'S', 'E', 'S'], ['E', 'S', 'S', 'S'], ['E', 'S', 'S', 'S'], ['S', 'S', 'E', 'S'], ['S', 'E', 'S', 'S'], ['E', 'S', 'S', 'S'], ['S', 'E', 'S', 'S'], ['S', 'S', 'E', 'S'], ['S', 'E', 'S', 'S'], ['S', 'S', 'E', 'S'], ['S', 'S', 'S', 'E'], ['S', 'S', 'S', 'E'], ['E', 'S', 'S', 'S'], ['S', 'E', 'S', 'S'], ['S', 'S', 'E', 'S'], ['S', 'E', 'S', 'S'], ['S', 'S', 'S', 'E'], ['S', 'E', 'S', 'S'], ['E', 'S', 'S', 'S'], ['S', 'S', 'S', 'E'], ['S', 'S', 'S', 'E'], ['S', 'S', 'E', 'S'], ['S', 'E', 'S', 'S'], ['S', 'S', 'E', 'S'], ['S', 'E', 'S', 'S'], ['E', 'S', 'S', 'S'], ['S', 'S', 'E', 'S'], ['S', 'S', 'S', 'E'], ['S', 'S', 'E', 'S'], ['S', 'S', 'S', 'E'], ['S', 'S', 'S', 'E'], ['S', 'E', 'S', 'S'], ['S', 'S', 'E', 'S'], ['E', 'S', 'S', 'S'], ['S', 'S', 'S', 'E'], ['S', 'S', 'S', 'E'], ['E', 'S', 'S', 'S'], ['E', 'S', 'S', 'S'], ['E', 'S', 'S', 'S'], ['S', 'S', 'S', 'E'], ['E', 'S', 'S', 'S'], ['S', 'S', 'E', 'S'], ['S', 'S', 'E', 'S'], ['S', 'S', 'E', 'S'], ['S', 'S', 'S', 'E'], ['E', 'S', 'S', 'S'], ['S', 'E', 'S', 'S'], ['E', 'S', 'S', 'S'], ['S', 'S', 'S', 'E'], ['S', 'S', 'E', 'S'], ['S', 'S', 'E', 'S'], ['S', 'S', 'S', 'E'], ['S', 'S', 'S', 'E'], ['S', 'S', 'E', 'S'], ['E', 'S', 'S', 'S'], ['E', 'S', 'S', 'S'], ['E', 'S', 'S', 'S'], ['S', 'E', 'S', 'S'], ['S', 'S', 'S', 'E'], ['E', 'S', 'S', 'S'], ['E', 'S', 'S', 'S'], ['E', 'S', 'S', 'S'], ['S', 'S', 'S', 'E'], ['S', 'E', 'S', 'S'], ['S', 'E', 'S', 'S'], ['S', 'S', 'S', 'E'], ['E', 'S', 'S', 'S'], ['S', 'E', 'S', 'S'], ['S', 'S', 'E', 'S'], ['S', 'S', 'E', 'S'], ['S', 'E', 'S', 'S'], ['E', 'S', 'S', 'S'], ['S', 'S', 'E', 'S'], ['E', 'S', 'S', 'S'], ['E', 'S', 'S', 'S'], ['E', 'S', 'S', 'S'], ['S', 'S', 'E', 'S'], ['S', 'S', 'S', 'E'], ['E', 'S', 'S', 'S'], ['S', 'S', 'S', 'E'], ['S', 'E', 'S', 'S'], ['S', 'S', 'E', 'S'], ['S', 'E', 'S', 'S'], ['S', 'E', 'S', 'S'], ['S', 'S', 'E', 'S'], ['E', 'S', 'S', 'S'], ['S', 'S', 'E', 'S'], ['S', 'E', 'S', 'S'], ['S', 'E', 'S', 'S'], ['S', 'E', 'S', 'S'], ['S', 'S', 'S', 'E'], ['S', 'E', 'S', 'S'], ['S', 'E', 'S', 'S'], ['E', 'S', 'S', 'S'], ['S', 'E', 'S', 'S'], ['S', 'E', 'S', 'S'], ['S', 'E', 'S', 'S'], ['S', 'S', 'E', 'S'], ['E', 'S', 'S', 'S'], ['E', 'S', 'S', 'S'], ['E', 'S', 'S', 'S'], ['S', 'S', 'E', 'S'], ['S', 'E', 'S', 'S'], ['S', 'S', 'E', 'S'], ['S', 'E', 'S', 'S'], ['S', 'E', 'S', 'S'], ['S', 'S', 'S', 'E'], ['S', 'S', 'S', 'E'], ['S', 'S', 'S', 'E'], ['E', 'S', 'S', 'S'], ['S', 'S', 'S', 'E'], ['S', 'E', 'S', 'S'], ['S', 'S', 'E', 'S'], ['E', 'S', 'S', 'S'], ['S', 'S', 'E', 'S'], ['E', 'S', 'S', 'S'], ['S', 'E', 'S', 'S'], ['E', 'S', 'S', 'S'], ['E', 'S', 'S', 'S'], ['E', 'S', 'S', 'S'], ['E', 'S', 'S', 'S'], ['S', 'S', 'E', 'S'], ['E', 'S', 'S', 'S'], ['E', 'S', 'S', 'S'], ['E', 'S', 'S', 'S'], ['E', 'S', 'S', 'S'], ['E', 'S', 'S', 'S'], ['S', 'S', 'E', 'S'], ['E', 'S', 'S', 'S'], ['S', 'E', 'S', 'S'], ['S', 'S', 'E', 'S'], ['E', 'S', 'S', 'S'], ['S', 'E', 'S', 'S'], ['S', 'S', 'S', 'E'], ['S', 'S', 'E', 'S'], ['E', 'S', 'S', 'S'], ['S', 'E', 'S', 'S'], ['S', 'S', 'E', 'S'], ['S', 'S', 'S', 'E'], ['S', 'S', 'S', 'E'], ['E', 'S', 'S', 'S'], ['E', 'S', 'S', 'S'], ['S', 'S', 'S', 'E'], ['E', 'S', 'S', 'S'], ['S', 'E', 'S', 'S'], ['S', 'E', 'S', 'S'], ['S', 'E', 'S', 'S'], ['S', 'S', 'E', 'S'], ['E', 'S', 'S', 'S'], ['E', 'S', 'S', 'S'], ['S', 'S', 'E', 'S'], ['S', 'S', 'E', 'S'], ['S', 'S', 'S', 'E', 'E'], ['S', 'S', 'E', 'S'], ['S', 'S', 'S', 'E'], ['E', 'S', 'S', 'S'], ['S', 'S', 'E', 'S'], ['S', 'E', 'S', 'S'], ['S', 'S', 'E', 'S'], ['E', 'S', 'S', 'S'], ['S', 'S', 'S', 'E'], ['S', 'S', 'S', 'E'], ['S', 'S', 'E', 'S'], ['S', 'E', 'S', 'S'], ['S', 'S', 'E', 'S'], ['E', 'S', 'S', 'S'], ['E', 'S', 'S', 'S'], ['S', 'S', 'E', 'S'], ['E', 'S', 'S', 'S'], ['S', 'S', 'E', 'S'], ['S', 'S', 'E', 'S'], ['S', 'S', 'S', 'E'], ['S', 'S', 'E', 'S'], ['E', 'S', 'S', 'S'], ['S', 'S', 'S', 'E'], ['E', 'S', 'S', 'S'], ['S', 'S', 'E', 'S'], ['E', 'S', 'S', 'S'], ['E', 'S', 'S', 'S'], ['S', 'E', 'S', 'S'], ['E', 'S', 'S', 'S'], ['S', 'E', 'S', 'S'], ['S', 'E', 'S', 'S'], ['E', 'S', 'S', 'S'], ['S', 'S', 'S', 'E'], ['S', 'S', 'S', 'E'], ['S', 'E', 'S', 'S'], ['S', 'E', 'S', 'S'], ['S', 'E', 'S', 'S'], ['S', 'S', 'S', 'E'], ['S', 'S', 'E', 'S'], ['S', 'E', 'S', 'S'], ['S', 'E', 'S', 'S'], ['S', 'S', 'S', 'E'], ['S', 'S', 'S', 'E'], ['S', 'S', 'E', 'S'], ['S', 'S', 'S', 'E'], ['E', 'S', 'S', 'S'], ['S', 'E', 'S', 'S'], ['S', 'S', 'S', 'E'], ['S', 'S', 'E', 'S'], ['S', 'S', 'S', 'E'], ['S', 'E', 'S', 'S'], ['S', 'E', 'S', 'S'], ['S', 'S', 'S', 'E'], ['S', 'S', 'S', 'E'], ['S', 'S', 'S', 'E'], ['S', 'E', 'S', 'S'], ['S', 'S', 'S', 'E'], ['S', 'S', 'E', 'S'], ['S', 'S', 'E', 'S'], ['S', 'S', 'E', 'S'], ['E', 'S', 'S', 'S'], ['S', 'S', 'E', 'S'], ['E', 'S', 'S', 'S'], ['E', 'S', 'S', 'S'], ['S', 'S', 'S', 'E'], ['S', 'S', 'S', 'E'], ['S', 'S', 'S', 'E'], ['S', 'S', 'S', 'E'], ['S', 'S', 'S', 'E'], ['S', 'E', 'S', 'S'], ['S', 'S', 'S', 'E'], ['S', 'S', 'E', 'S'], ['S', 'E', 'S', 'S'], ['S', 'S', 'E', 'S'], ['S', 'E', 'S', 'S'], ['S', 'S', 'S', 'E'], ['S', 'S', 'E', 'S'], ['S', 'S', 'E', 'S'], ['E', 'S', 'S', 'S'], ['S', 'S', 'S', 'E'], ['E', 'S', 'S', 'S'], ['E', 'S', 'S', 'S'], ['S', 'S', 'E', 'S'], ['S', 'S', 'S', 'E'], ['S', 'S', 'S', 'E'], ['E', 'S', 'S', 'S'], ['S', 'S', 'S', 'E'], ['S', 'E', 'S', 'S'], ['S', 'S', 'S', 'E'], ['E', 'S', 'S', 'S'], ['S', 'E', 'S', 'S'], ['S', 'E', 'S', 'S'], ['S', 'E', 'S', 'S'], ['S', 'S', 'S', 'E'], ['S', 'E', 'S', 'S']]\n"
     ]
    }
   ],
   "source": [
    "print(c)"
   ]
  },
  {
   "cell_type": "code",
   "execution_count": 95,
   "metadata": {},
   "outputs": [
    {
     "data": {
      "text/plain": [
       "[<matplotlib.lines.Line2D at 0x2039c8f0ca0>]"
      ]
     },
     "execution_count": 95,
     "metadata": {},
     "output_type": "execute_result"
    },
    {
     "data": {
      "image/png": "[encoded data removed]",
      "text/plain": [
       "<Figure size 432x288 with 1 Axes>"
      ]
     },
     "metadata": {
      "needs_background": "light"
     },
     "output_type": "display_data"
    }
   ],
   "source": [
    "plt.plot(bins,rdf)"
   ]
  },
  {
   "cell_type": "code",
   "execution_count": 98,
   "metadata": {},
   "outputs": [
    {
     "name": "stdout",
     "output_type": "stream",
     "text": [
      "[-0.45682049 -0.11243124 -0.26943606 ... -0.57106186 -0.19565831\n",
      "  0.42753404]\n"
     ]
    }
   ],
   "source": [
    "uw.trajectory[50]\n",
    "p = uw.select_atoms('name OW')\n",
    "o = p.atoms.positions\n",
    "bins,rdf, opp, neighbor_list = chill(o, o, wbox, 1, 50, 3.5, 3)"
   ]
  },
  {
   "cell_type": "code",
   "execution_count": 115,
   "metadata": {},
   "outputs": [
    {
     "name": "stdout",
     "output_type": "stream",
     "text": [
      "[-0.22655552 -0.05902927 -0.61242125 ...  0.27637912 -0.40876704\n",
      " -0.04482187]\n",
      "[-0.58735736 -0.32516937 -0.58052762 ...  0.35830158 -0.30829345\n",
      "  0.36840588]\n",
      "[-0.60431593 -0.55555063 -0.1552833  ... -0.67752475 -0.79764726\n",
      "  0.16386093]\n",
      "[-0.55209881 -0.29122806  0.07673445 ... -0.05460063 -0.2809042\n",
      " -0.8281832 ]\n",
      "[-0.11608195 -0.44086338 -0.57439481 ... -0.33974765 -0.43628824\n",
      " -0.39589661]\n",
      "[-0.56588805 -0.63406077  0.18017537 ... -0.54044139 -0.20272207\n",
      "  0.00278502]\n",
      "[-0.74823213 -0.56301328 -0.64851657 ... -0.33663844 -0.40194602\n",
      " -0.55997129]\n",
      "[-0.33143013  0.31185559 -0.14209113 ... -0.18531068 -0.11182359\n",
      "  0.26608398]\n",
      "[-0.78019354 -0.57363544 -0.00627478 ... -0.0819523   0.09530213\n",
      " -0.18508507]\n",
      "[ 0.20911494 -0.3694189   0.07144655 ... -0.1994432  -0.1774527\n",
      "  0.0857248 ]\n",
      "[-0.72461771 -0.66963056  0.00524181 ... -0.16890603 -0.20392932\n",
      " -0.54325779]\n",
      "[-0.4642909  -0.47216425  0.20124175 ... -0.74008047 -0.19402631\n",
      "  0.0916444 ]\n",
      "[-0.26279851 -0.15765565 -0.09292704 ... -0.27048988 -0.6138655\n",
      " -0.22444234]\n",
      "[-0.58142922 -0.71274168 -0.37314892 ...  0.11402665 -0.35287108\n",
      "  0.09913545]\n",
      "[-0.60107584 -0.6131077  -0.45271611 ... -0.40063032  0.25531866\n",
      "  0.53240411]\n",
      "[-0.06353176  0.09552394  0.14652235 ... -0.57750578 -0.44585884\n",
      " -0.32530523]\n",
      "[-0.37751757 -0.10605525 -0.76553717 ... -0.90152934 -0.08887571\n",
      " -0.17242291]\n",
      "[ 0.05438289 -0.86394378 -0.04298542 ... -0.43186487  0.00813649\n",
      " -0.53059641]\n",
      "[-0.6657797  -0.50574668 -0.49739786 ... -0.28241354 -0.40713097\n",
      " -0.61922186]\n",
      "[-0.73262966  0.39484495 -0.07825928 ... -0.15763527 -0.48267761\n",
      "  0.45327973]\n"
     ]
    }
   ],
   "source": [
    "wbins, wrdf_ = op_average(uw, np.linspace(0,250,20),\"name OW\", \"name OW\", wbox, 1, 50, 3.5, 3)"
   ]
  },
  {
   "cell_type": "code",
   "execution_count": 9,
   "metadata": {},
   "outputs": [],
   "source": [
    "hbins, hrdf_ = op_average(uh, np.linspace(0,1000,20),\"name OW\", \"name OW\", hbox, 1, 50, 3.5, 3)"
   ]
  },
  {
   "cell_type": "code",
   "execution_count": 117,
   "metadata": {},
   "outputs": [
    {
     "name": "stdout",
     "output_type": "stream",
     "text": [
      "[-0.96031155 -0.9939328  -0.97358338 ... -0.93902678 -0.96983928\n",
      " -0.96274429]\n",
      "[-0.94007854 -0.87685029 -0.92867083 ... -0.96338071 -0.9727209\n",
      " -0.96764187]\n",
      "[-0.96902489 -0.98201757 -0.98771923 ... -0.96487636 -0.97008363\n",
      " -0.9783991 ]\n",
      "[-0.94726283 -0.87661404 -0.94757529 ... -0.88891939 -0.61029084\n",
      "  0.30485936]\n",
      "[-0.9633674  -0.92701686 -0.93319489 ... -0.9420509  -0.93486478\n",
      " -0.91987123]\n",
      "[-0.91507741 -0.94989416 -0.92374211 ... -0.98137004 -0.96476623\n",
      " -0.97768222]\n",
      "[-0.90494337 -0.95665253 -0.92182483 ... -0.94200711 -0.98406078\n",
      " -0.94552386]\n",
      "[-0.94759074 -0.95119104 -0.97264793 ... -0.94885043 -0.96946962\n",
      " -0.95260143]\n",
      "[-0.96043295 -0.95367856 -0.98738886 ... -0.85052268 -0.87499816\n",
      " -0.97747545]\n",
      "[-0.88676953 -0.92790776 -0.94748342 ... -0.96999824 -0.97870686\n",
      " -0.9263787 ]\n",
      "[-0.95004982 -0.86614944 -0.85689679 ... -0.95417449 -0.96596571\n",
      " -0.98130061]\n",
      "[-0.97094282 -0.98552028 -0.98122164 ... -0.98614984 -0.96949659\n",
      " -0.95506368]\n",
      "[-0.92070701 -0.97940024 -0.92827028 ... -0.97502512 -0.96736092\n",
      " -0.92957151]\n",
      "[-0.99030721 -0.97296824 -0.86178112 ... -0.98334595 -0.97076172\n",
      " -0.9051967 ]\n",
      "[-0.94960747 -0.97383644 -0.97746684 ... -0.89952432 -0.90675713\n",
      " -0.93809858]\n",
      "[-0.94197697 -0.97061485 -0.97230345 ... -0.9765208  -0.96187101\n",
      " -0.97727395]\n",
      "[-0.91100778 -0.93791825 -0.92825802 ... -0.95001237 -0.94423449\n",
      " -0.95680434]\n",
      "[-0.96240304 -0.95504748 -0.97864411 ... -0.93766523 -0.9410087\n",
      " -0.86122352]\n",
      "[-0.95865809 -0.97661106 -0.97061508 ... -0.9251188  -0.95317447\n",
      " -0.93351261]\n",
      "[-0.97265325 -0.97721216 -0.96657844 ... -0.97986206 -0.9180841\n",
      " -0.95046118]\n"
     ]
    }
   ],
   "source": [
    "cbins, crdf_ = op_average(uc, np.linspace(0,1000,20),\"name OW\", \"name OW\", cbox, 1, 50, 3.5, 3)"
   ]
  },
  {
   "cell_type": "code",
   "execution_count": 10,
   "metadata": {},
   "outputs": [
    {
     "data": {
      "text/plain": [
       "<matplotlib.legend.Legend at 0x29440713cd0>"
      ]
     },
     "execution_count": 10,
     "metadata": {},
     "output_type": "execute_result"
    },
    {
     "data": {
      "image/png": "[encoded data removed]",
      "text/plain": [
       "<Figure size 432x288 with 1 Axes>"
      ]
     },
     "metadata": {
      "needs_background": "light"
     },
     "output_type": "display_data"
    }
   ],
   "source": [
    "\n",
    "plt.plot(hbins, hrdf_/200, label='hexagonal ice')\n",
    "\n",
    "plt.xlabel(\"cij\")\n",
    "plt.ylabel(\"P(cij)\")\n",
    "\n",
    "plt.legend()"
   ]
  },
  {
   "cell_type": "code",
   "execution_count": 13,
   "metadata": {},
   "outputs": [
    {
     "name": "stdout",
     "output_type": "stream",
     "text": [
      "[-1.         -0.95918367 -0.91836735 -0.87755102 -0.83673469 -0.79591837\n",
      " -0.75510204 -0.71428571 -0.67346939 -0.63265306 -0.59183673 -0.55102041\n",
      " -0.51020408 -0.46938776 -0.42857143 -0.3877551  -0.34693878 -0.30612245\n",
      " -0.26530612 -0.2244898  -0.18367347 -0.14285714 -0.10204082 -0.06122449\n",
      " -0.02040816  0.02040816  0.06122449  0.10204082  0.14285714  0.18367347\n",
      "  0.2244898   0.26530612  0.30612245  0.34693878  0.3877551   0.42857143\n",
      "  0.46938776  0.51020408  0.55102041  0.59183673  0.63265306  0.67346939\n",
      "  0.71428571  0.75510204  0.79591837  0.83673469  0.87755102  0.91836735\n",
      "  0.95918367  1.        ]\n"
     ]
    }
   ],
   "source": [
    "np.sum(hrdf_[0:10]/200*0.04\n",
    "print(hbins)"
   ]
  },
  {
   "cell_type": "code",
   "execution_count": 16,
   "metadata": {},
   "outputs": [
    {
     "name": "stdout",
     "output_type": "stream",
     "text": [
      "0.6294729999999998\n",
      "0.209715\n",
      "0.8399055\n"
     ]
    }
   ],
   "source": [
    "print(np.sum(hrdf_[0:10]/200*0.041))\n",
    "print(np.sum(hrdf_[12:30]/200*0.041))\n",
    "print(np.sum(hrdf_)/200*0.041)"
   ]
  },
  {
   "cell_type": "code",
   "execution_count": 102,
   "metadata": {},
   "outputs": [
    {
     "name": "stdout",
     "output_type": "stream",
     "text": [
      "[-0.91501523 -0.94810323 -0.97701862 ... -0.93343792 -0.95557401\n",
      " -0.92359049]\n"
     ]
    }
   ],
   "source": [
    "uc.trajectory[50]\n",
    "p = uc.select_atoms('name OW')\n",
    "o = p.atoms.positions\n",
    "bins,rdf, opp, neighbor_list = chill(o, o, cbox, 1, 50, 3.5, 3)"
   ]
  },
  {
   "cell_type": "code",
   "execution_count": 103,
   "metadata": {},
   "outputs": [
    {
     "data": {
      "text/plain": [
       "[<matplotlib.lines.Line2D at 0x2039dccff40>]"
      ]
     },
     "execution_count": 103,
     "metadata": {},
     "output_type": "execute_result"
    },
    {
     "data": {
      "image/png": "[encoded data removed]",
      "text/plain": [
       "<Figure size 432x288 with 1 Axes>"
      ]
     },
     "metadata": {
      "needs_background": "light"
     },
     "output_type": "display_data"
    }
   ],
   "source": [
    "plt.plot(bins,rdf)"
   ]
  },
  {
   "cell_type": "code",
   "execution_count": 119,
   "metadata": {},
   "outputs": [
    {
     "data": {
      "text/plain": [
       "<matplotlib.legend.Legend at 0x203a1f39640>"
      ]
     },
     "execution_count": 119,
     "metadata": {},
     "output_type": "execute_result"
    },
    {
     "data": {
      "image/png": "[encoded data removed]",
      "text/plain": [
       "<Figure size 432x288 with 1 Axes>"
      ]
     },
     "metadata": {
      "needs_background": "light"
     },
     "output_type": "display_data"
    }
   ],
   "source": [
    "plt.plot(wbins, wrdf_/200, label='water')\n",
    "plt.plot(hbins, hrdf_/200, label='hexagonal ice')\n",
    "plt.plot(cbins,crdf_/200, label='cubic ice')\n",
    "plt.xlabel(\"cij\")\n",
    "plt.ylabel(\"P(cij)\")\n",
    "\n",
    "plt.legend()"
   ]
  },
  {
   "cell_type": "code",
   "execution_count": 120,
   "metadata": {},
   "outputs": [
    {
     "data": {
      "text/plain": [
       "Text(0, 0.5, 'P(cij)')"
      ]
     },
     "execution_count": 120,
     "metadata": {},
     "output_type": "execute_result"
    },
    {
     "data": {
      "image/png": "[encoded data removed]",
      "text/plain": [
       "<Figure size 432x288 with 1 Axes>"
      ]
     },
     "metadata": {
      "needs_background": "light"
     },
     "output_type": "display_data"
    }
   ],
   "source": [
    "plt.plot(wbins, wrdf_/200, label='water')\n",
    "plt.xlabel(\"cij\")\n",
    "plt.ylabel(\"P(cij)\")\n"
   ]
  },
  {
   "cell_type": "code",
   "execution_count": 42,
   "metadata": {},
   "outputs": [
    {
     "data": {
      "text/plain": [
       "(7-1j)"
      ]
     },
     "execution_count": 42,
     "metadata": {},
     "output_type": "execute_result"
    }
   ],
   "source": [
    "qi[0]*np.conj(qi[1])"
   ]
  },
  {
   "cell_type": "code",
   "execution_count": 60,
   "metadata": {},
   "outputs": [],
   "source": [
    "a = np.array([1,2,3])\n",
    "b = np.array([3,4])\n"
   ]
  },
  {
   "cell_type": "code",
   "execution_count": 63,
   "metadata": {},
   "outputs": [
    {
     "data": {
      "text/plain": [
       "array([1, 2, 3, 3, 4])"
      ]
     },
     "execution_count": 63,
     "metadata": {},
     "output_type": "execute_result"
    }
   ],
   "source": [
    "np.append(a,b)"
   ]
  },
  {
   "cell_type": "code",
   "execution_count": 45,
   "metadata": {},
   "outputs": [
    {
     "name": "stdout",
     "output_type": "stream",
     "text": [
      "0 0 0\n"
     ]
    }
   ],
   "source": [
    "print(a,b,c)"
   ]
  },
  {
   "cell_type": "code",
   "execution_count": 72,
   "metadata": {},
   "outputs": [],
   "source": [
    "c = a\n",
    "for i in range(10):\n",
    "    c = np.append(c,a)"
   ]
  },
  {
   "cell_type": "code",
   "execution_count": 73,
   "metadata": {},
   "outputs": [
    {
     "data": {
      "text/plain": [
       "array([1, 2, 3, 1, 2, 3, 1, 2, 3, 1, 2, 3, 1, 2, 3, 1, 2, 3, 1, 2, 3, 1,\n",
       "       2, 3, 1, 2, 3, 1, 2, 3, 1, 2, 3])"
      ]
     },
     "execution_count": 73,
     "metadata": {},
     "output_type": "execute_result"
    }
   ],
   "source": [
    "c"
   ]
  },
  {
   "cell_type": "code",
   "execution_count": 6,
   "metadata": {},
   "outputs": [
    {
     "name": "stdout",
     "output_type": "stream",
     "text": [
      "(-0.7020966389323088+0j)\n"
     ]
    }
   ],
   "source": [
    "phi = 2.0\n",
    "theta = 3.0\n",
    "a = sp.sph_harm(0,3,phi,theta)\n",
    "print(a)"
   ]
  },
  {
   "cell_type": "code",
   "execution_count": 18,
   "metadata": {},
   "outputs": [],
   "source": [
    "def q(l,phi,theta):\n",
    "    a = 0\n",
    "    for m in range(-l,l+1):\n",
    "        a += np.abs(sp.sph_harm(m,l,phi,theta))*np.abs(sp.sph_harm(m,l,phi,theta))\n",
    "\n",
    "    return(np.sqrt(4*np.pi/(2l+1)*a))\n",
    "        "
   ]
  },
  {
   "cell_type": "code",
   "execution_count": 22,
   "metadata": {},
   "outputs": [
    {
     "name": "stdout",
     "output_type": "stream",
     "text": [
      "1.3592112019016371\n",
      "2.1294695806511315\n"
     ]
    }
   ],
   "source": [
    "a = q(4,2.0,3.0)\n",
    "print(a)\n",
    "a = q(4,2.0,3.0)\n",
    "print(a)"
   ]
  },
  {
   "cell_type": "code",
   "execution_count": null,
   "metadata": {},
   "outputs": [],
   "source": [
    "r1 : theta = 2.0, phi = 3.0+1.0\n",
    "r2 : theta =1.0, phi = 4.0+1.0"
   ]
  },
  {
   "cell_type": "code",
   "execution_count": 31,
   "metadata": {},
   "outputs": [],
   "source": [
    "def q(l,phi1,theta1,phi2,theta2):\n",
    "    a = 0\n",
    "    for m in range(-l,l+1):\n",
    "        q = 1/2*(sp.sph_harm(m,l,phi1,theta1)+sp.sph_harm(m,l,phi2,theta2))\n",
    "        a += np.abs(q)*np.abs(q)\n",
    "    return(np.sqrt(4*np.pi/(2*l+1)*a))"
   ]
  },
  {
   "cell_type": "code",
   "execution_count": 45,
   "metadata": {},
   "outputs": [
    {
     "name": "stdout",
     "output_type": "stream",
     "text": [
      "3.3018202619127863e-16\n"
     ]
    }
   ],
   "source": [
    "theta1 = 0.0+1.0\n",
    "phi1 = 0.0\n",
    "theta2 = np.pi-1.0\n",
    "phi2 = 0.0+np.pi\n",
    "a = q(3,phi1,theta1,phi2,theta2)\n",
    "print(a)"
   ]
  },
  {
   "cell_type": "code",
   "execution_count": 17,
   "metadata": {},
   "outputs": [
    {
     "name": "stdout",
     "output_type": "stream",
     "text": [
      "2.23606797749979\n"
     ]
    }
   ],
   "source": [
    "c = 1+2j\n",
    "print(np.abs(c))"
   ]
  },
  {
   "cell_type": "code",
   "execution_count": 26,
   "metadata": {},
   "outputs": [
    {
     "name": "stdout",
     "output_type": "stream",
     "text": [
      "0.1778874574683396\n",
      "(0.07402730268686386-0.16175260734052407j)\n"
     ]
    }
   ],
   "source": [
    "a = sp.sph_harm(-1,3,2.0,3.0)\n",
    "print(abs(a))\n",
    "a = sp.sph_harm(1,3,2.0,3.0)\n",
    "print(a)"
   ]
  },
  {
   "cell_type": "code",
   "execution_count": null,
   "metadata": {},
   "outputs": [],
   "source": [
    "0.07402730268686386 = c\n",
    "-0.16175260734052407 = d\n",
    "a = c + di\n",
    "abs(a) = sqrt(c^2 + d^2)"
   ]
  },
  {
   "cell_type": "code",
   "execution_count": 28,
   "metadata": {},
   "outputs": [],
   "source": [
    "c = 0.07402730268686386\n",
    "d = -0.16175260734052407\n",
    "e = np.sqrt(c*c+d*d)"
   ]
  },
  {
   "cell_type": "code",
   "execution_count": 46,
   "metadata": {},
   "outputs": [],
   "source": [
    "p = uw.select_atoms(\"name OW\")\n",
    "o = p.atoms.positions"
   ]
  },
  {
   "cell_type": "code",
   "execution_count": 49,
   "metadata": {},
   "outputs": [
    {
     "name": "stdout",
     "output_type": "stream",
     "text": [
      "[[27.040003   25.560001    1.44      ]\n",
      " [ 1.44        9.820001   25.95      ]\n",
      " [27.570002   22.220001    4.57      ]\n",
      " [22.880001    1.27       25.080002  ]\n",
      " [ 4.8         0.11000001 22.490002  ]\n",
      " [18.800001    8.690001   20.530003  ]\n",
      " [ 5.4800005   4.48        2.25      ]\n",
      " [21.910002   25.630001    2.98      ]\n",
      " [13.2300005  27.95        6.7700005 ]\n",
      " [23.990002   24.66       13.660001  ]\n",
      " [ 1.0500001  20.23       24.300001  ]\n",
      " [ 1.15        2.8         7.44      ]\n",
      " [14.790001   13.91       26.330002  ]\n",
      " [ 6.3900003  18.51       19.010002  ]\n",
      " [ 9.990001    9.59        1.6000001 ]\n",
      " [17.060001   24.160002   15.26      ]\n",
      " [13.190001   17.61        2.5       ]\n",
      " [ 3.33        3.4800003  12.        ]\n",
      " [16.310001    9.4800005  27.33      ]\n",
      " [15.16        5.4400005  15.780001  ]\n",
      " [16.840002   20.810001   28.77      ]\n",
      " [ 7.8500004  20.860003    2.3600001 ]\n",
      " [25.830002   23.04        1.85      ]\n",
      " [ 7.9         6.2        16.82      ]\n",
      " [19.28       16.170002   20.39      ]\n",
      " [15.760001   28.920002    8.570001  ]\n",
      " [29.680002   11.66       24.250002  ]\n",
      " [20.480001    1.9300001  26.390001  ]\n",
      " [29.180002   14.47        3.39      ]\n",
      " [ 2.8500004   8.76        2.7100003 ]\n",
      " [ 1.33        3.63       29.190002  ]\n",
      " [28.960001   18.33       15.920001  ]\n",
      " [ 0.6        16.59       27.23      ]\n",
      " [17.070002   24.640003   29.29      ]\n",
      " [13.530001   17.69       11.77      ]\n",
      " [15.9800005   2.3200002  29.79      ]\n",
      " [14.660001   10.710001    6.4700003 ]\n",
      " [11.2300005  23.140001    4.88      ]\n",
      " [21.970001   25.890003   26.64      ]\n",
      " [ 0.93       28.010002   10.42      ]\n",
      " [25.530003   14.630001   11.140001  ]\n",
      " [13.570002   22.03        0.58000004]\n",
      " [18.010002   13.22       19.44      ]\n",
      " [24.07        4.29       12.07      ]\n",
      " [16.29        2.7200003  26.480003  ]\n",
      " [ 9.56        4.4500003  10.630001  ]\n",
      " [11.570001   19.02       15.47      ]\n",
      " [ 3.1100001   6.42        6.66      ]\n",
      " [ 0.29000002 13.83       16.68      ]\n",
      " [16.810001    6.32        5.8500004 ]\n",
      " [21.220001   18.54        3.92      ]\n",
      " [20.140001   19.1         6.3500004 ]\n",
      " [14.4800005   3.8900003  19.740002  ]\n",
      " [10.46       11.72        6.8200006 ]\n",
      " [ 3.95        6.0300007  18.320002  ]\n",
      " [10.500001   17.6        25.500002  ]\n",
      " [22.580002   19.87       29.17      ]\n",
      " [12.320002    1.4300001  13.470001  ]\n",
      " [18.48        5.9800005  12.600001  ]\n",
      " [20.060001   26.980001   13.04      ]\n",
      " [ 4.17       19.750002    6.94      ]\n",
      " [15.700001   13.160001   23.880001  ]\n",
      " [ 0.61        8.54       20.82      ]\n",
      " [14.93       16.61       26.95      ]\n",
      " [ 6.88       28.810001   14.8       ]\n",
      " [11.360001   16.05        5.3300004 ]\n",
      " [ 3.0200002   1.2900001  10.42      ]\n",
      " [ 2.9900002   8.990001   27.930002  ]\n",
      " [15.150002   28.04        0.65999997]\n",
      " [10.49       17.33       19.750002  ]\n",
      " [18.37       27.930002   16.380001  ]\n",
      " [21.030003    5.92       14.02      ]\n",
      " [ 2.3        19.04       21.7       ]\n",
      " [ 1.7500001   3.3700001  24.910002  ]\n",
      " [18.320002    3.7         0.7700001 ]\n",
      " [29.910002    3.1200001  16.240002  ]\n",
      " [ 6.8        24.5        16.45      ]\n",
      " [13.18       28.91       12.860001  ]\n",
      " [26.64        9.7300005   0.45000002]\n",
      " [10.79       26.87       29.5       ]\n",
      " [24.990002   16.900002    2.7       ]\n",
      " [21.780003   26.250002   15.01      ]\n",
      " [ 2.8300002  29.380001    0.74      ]\n",
      " [ 4.96       20.130001   14.840001  ]\n",
      " [ 4.9        24.34       12.290001  ]\n",
      " [ 3.6000001  22.630001    7.17      ]\n",
      " [18.84        8.710001   13.68      ]\n",
      " [10.450001   29.480001   22.380001  ]\n",
      " [ 8.32        8.280001   25.29      ]\n",
      " [16.380001   16.830002    1.6800001 ]\n",
      " [ 9.440001    0.34000003  5.2799997 ]\n",
      " [23.94       24.14        5.7100005 ]\n",
      " [13.7300005  22.740002    3.39      ]\n",
      " [24.17       27.09       25.370003  ]\n",
      " [ 6.09       13.490001   14.280001  ]\n",
      " [ 7.4600005   9.650001   10.7300005 ]\n",
      " [22.03        2.8        13.260001  ]\n",
      " [ 1.23       13.02       26.7       ]\n",
      " [ 5.73       29.050003   12.05      ]]\n"
     ]
    }
   ],
   "source": [
    "print(o[1:100])"
   ]
  },
  {
   "cell_type": "code",
   "execution_count": null,
   "metadata": {},
   "outputs": [],
   "source": [
    "def rotate(o,box):\n",
    "    "
   ]
  }
 ],
 "metadata": {
  "kernelspec": {
   "display_name": "Python 3",
   "language": "python",
   "name": "python3"
  },
  "language_info": {
   "codemirror_mode": {
    "name": "ipython",
    "version": 3
   },
   "file_extension": ".py",
   "mimetype": "text/x-python",
   "name": "python",
   "nbconvert_exporter": "python",
   "pygments_lexer": "ipython3",
   "version": "3.8.5"
  }
 },
 "nbformat": 4,
 "nbformat_minor": 4
}
