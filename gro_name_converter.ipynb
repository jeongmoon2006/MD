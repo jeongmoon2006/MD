{
 "cells": [
  {
   "cell_type": "code",
   "execution_count": 11,
   "metadata": {},
   "outputs": [],
   "source": [
    "import numpy as np\n",
    "import MDAnalysis as mda\n",
    "import matplotlib.pyplot as plt\n",
    "import pickle\n",
    "import pandas as pd"
   ]
  },
  {
   "cell_type": "code",
   "execution_count": 12,
   "metadata": {},
   "outputs": [],
   "source": [
    "u = mda.Universe('npt.gro', format='gro')"
   ]
  },
  {
   "cell_type": "code",
   "execution_count": 13,
   "metadata": {},
   "outputs": [
    {
     "name": "stdout",
     "output_type": "stream",
     "text": [
      "SOL = 4625 ICE = 3136 LIQ = 1388\n",
      "SOL = 6714 ICE = 784 LIQ = 1651\n"
     ]
    }
   ],
   "source": [
    "####\n",
    "N = u.atoms.n_residues\n",
    "h = 27.0 #I can adjust this\n",
    "\n",
    "p = 0\n",
    "\n",
    "ow = u.select_atoms(\"name OW\")\n",
    "ol = u.select_atoms(\"name OL\")\n",
    "oi = u.select_atoms(\"name OI\")\n",
    "print(\"SOL =\",ow.n_atoms, \"ICE =\",oi.n_atoms, \"LIQ =\",ol.n_atoms)\n",
    "\n",
    "\n",
    "for i in range(N):\n",
    "    if u.atoms[4*i].residue.resname == 'ICE':\n",
    "        if u.atoms[4*i].position[2] > h: ## z value of atom\n",
    "            u.atoms[4*i].residue.resname ='SOL'\n",
    "            u.atoms[4*i].name ='OW'\n",
    "            u.atoms[4*i+1].name = 'HW1'\n",
    "            u.atoms[4*i+2].name = 'HW2'\n",
    "            u.atoms[4*i+3].name = 'MW'\n",
    "        \n",
    "        if u.atoms[4*i].position[2] < 10.0:\n",
    "            u.atoms[4*i].residue.resname ='LIQ'\n",
    "            u.atoms[4*i].name ='OL'\n",
    "            u.atoms[4*i+1].name = 'HL1'\n",
    "            u.atoms[4*i+2].name = 'HL2'\n",
    "            u.atoms[4*i+3].name = 'ML'\n",
    "            \n",
    "    if u.atoms[4*i].residue.resname == 'SOL':\n",
    "        if u.atoms[4*i].position[2] < 20: ## z value of atom\n",
    "            u.atoms[4*i].residue.resname ='LIQ'\n",
    "            u.atoms[4*i].name ='OL'\n",
    "            u.atoms[4*i+1].name = 'HL1'\n",
    "            u.atoms[4*i+2].name = 'HL2'\n",
    "            u.atoms[4*i+3].name = 'ML'\n",
    "\n",
    "    if u.atoms[4*i].residue.resname == 'LIQ':\n",
    "        if u.atoms[4*i].position[2] > 20: ## z value of atom\n",
    "            u.atoms[4*i].residue.resname ='SOL'\n",
    "            u.atoms[4*i].name ='OW'\n",
    "            u.atoms[4*i+1].name = 'HW1'\n",
    "            u.atoms[4*i+2].name = 'HW2'\n",
    "            u.atoms[4*i+3].name = 'MW'\n",
    "\n",
    "\n",
    "ow = u.select_atoms(\"name OW\")\n",
    "ol = u.select_atoms(\"name OL\")\n",
    "oi = u.select_atoms(\"name OI\")\n",
    "print(\"SOL =\",ow.n_atoms, \"ICE =\",oi.n_atoms, \"LIQ =\",ol.n_atoms)\n",
    "\n",
    "u.atoms.write('test.gro',reindex=False)\n",
    "\n"
   ]
  },
  {
   "cell_type": "code",
   "execution_count": 144,
   "metadata": {},
   "outputs": [],
   "source": [
    "ag = u.atoms"
   ]
  },
  {
   "cell_type": "code",
   "execution_count": 157,
   "metadata": {
    "scrolled": true
   },
   "outputs": [
    {
     "data": {
      "text/plain": [
       "<Residue SOL, 7>"
      ]
     },
     "execution_count": 157,
     "metadata": {},
     "output_type": "execute_result"
    }
   ],
   "source": [
    "u.residues[6]"
   ]
  },
  {
   "cell_type": "code",
   "execution_count": 150,
   "metadata": {},
   "outputs": [
    {
     "data": {
      "text/plain": [
       "<AtomGroup with 8532 atoms>"
      ]
     },
     "execution_count": 150,
     "metadata": {},
     "output_type": "execute_result"
    }
   ],
   "source": [
    "u.atoms[:]"
   ]
  },
  {
   "cell_type": "code",
   "execution_count": null,
   "metadata": {},
   "outputs": [],
   "source": [
    "sed -e '/ICE/{H;d}' -e '${x;s/^\\n//p;x}' hello.gro > hello1.gro\n",
    "sed -e '/SOL/{H;d}' -e '${x;s/^\\n//p;x}' hello1.gro > hello2.gro"
   ]
  },
  {
   "cell_type": "code",
   "execution_count": 14,
   "metadata": {},
   "outputs": [],
   "source": [
    "a = 2.76*np.cos(np.pi/6)"
   ]
  },
  {
   "cell_type": "code",
   "execution_count": 15,
   "metadata": {},
   "outputs": [
    {
     "data": {
      "text/plain": [
       "2.3902301144450506"
      ]
     },
     "execution_count": 15,
     "metadata": {},
     "output_type": "execute_result"
    }
   ],
   "source": [
    "a"
   ]
  },
  {
   "cell_type": "code",
   "execution_count": null,
   "metadata": {},
   "outputs": [],
   "source": []
  }
 ],
 "metadata": {
  "kernelspec": {
   "display_name": "Python 3",
   "language": "python",
   "name": "python3"
  },
  "language_info": {
   "codemirror_mode": {
    "name": "ipython",
    "version": 3
   },
   "file_extension": ".py",
   "mimetype": "text/x-python",
   "name": "python",
   "nbconvert_exporter": "python",
   "pygments_lexer": "ipython3",
   "version": "3.8.5"
  }
 },
 "nbformat": 4,
 "nbformat_minor": 4
}
