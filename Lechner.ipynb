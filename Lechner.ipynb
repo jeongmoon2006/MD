{
 "cells": [
  {
   "cell_type": "code",
   "execution_count": 1,
   "metadata": {},
   "outputs": [],
   "source": [
    "import numpy as np\n",
    "import MDAnalysis as mda\n",
    "import timeit\n",
    "import matplotlib.pyplot as plt  \n",
    "import copy\n",
    "import scipy.special as sp\n",
    "\n",
    "suw = mda.Universe(\"swater_prd.tpr\",\"swater_prd.xtc\")\n",
    "uw = mda.Universe(\"water2_prd.tpr\", \"water2_prd.xtc\")\n",
    "uh = mda.Universe(\"hexaice_prd.tpr\", \"hexaice_prd.xtc\")\n",
    "uc = mda.Universe(\"cubicice_prd.tpr\",\"cubicice_prd.xtc\")\n",
    "\n",
    "swbox = np.array([23.0, 23.0, 23.0])\n",
    "wbox = np.array([30.0,   30.0,   30.0])\n",
    "hbox = np.array([31.5251,   29.6340,   36.4161])\n",
    "cbox = np.array([32.0350,   32.0350,   32.0350])"
   ]
  },
  {
   "cell_type": "code",
   "execution_count": 2,
   "metadata": {},
   "outputs": [],
   "source": [
    "def cart2sph(x, y, z):\n",
    "    r = np.sqrt(x*x+y*y+z*z)\n",
    "    cos_theta = z/r\n",
    "    theta = np.arccos(cos_theta)\n",
    "    cos_phi = x/(np.sin(theta)*r)\n",
    "\n",
    "    #Due to machine precision, sometimes cos_phi = +-1.0000001\n",
    "    if cos_phi > 1:\n",
    "        cos_phi = 1\n",
    "    if cos_phi < -1:\n",
    "        cos_phi = -1\n",
    "    \n",
    "    phi = np.arccos(cos_phi)\n",
    "    if y < 0:\n",
    "        phi = 2*np.pi-phi\n",
    "    return theta, phi"
   ]
  },
  {
   "cell_type": "code",
   "execution_count": 3,
   "metadata": {},
   "outputs": [],
   "source": [
    "#Let's get theta and phi between i and j\n",
    "#for i = 0 j = 100 rij = r(j) - r(i)\n",
    "def angle(i,j,o,box):\n",
    "    ii = copy.copy(o[i])\n",
    "    jj = copy.copy(o[j])\n",
    "\n",
    "#     print(ii,jj)\n",
    "\n",
    "    for k in range (3):\n",
    "        if abs(ii[k]-jj[k]) > box[k]/2:\n",
    "            if ii[k] > box[k]/2:\n",
    "                jj[k] = jj[k] + box[k]\n",
    "            else:\n",
    "                jj[k] = jj[k] - box[k]\n",
    "\n",
    "    h = jj-ii\n",
    "#     print(jj-ii)\n",
    "#     print(np.linalg.norm(h))\n",
    "    theta, phi = cart2sph(h[0], h[1], h[2])\n",
    "    return theta, phi"
   ]
  },
  {
   "cell_type": "code",
   "execution_count": 4,
   "metadata": {},
   "outputs": [],
   "source": [
    "#Let's get q_lm(i)\n",
    "#neighborlist (n,)\n",
    "def steinhardt(m,l,i,neighborlist,o,box):\n",
    "    n = neighborlist.size\n",
    "    q_lm_i = 0\n",
    "    for k in range(n):\n",
    "        theta, phi = angle(i,np.intc(neighborlist[k]),o,box)\n",
    "        a = sp.sph_harm(m,l,phi,theta)\n",
    "        q_lm_i = a + q_lm_i\n",
    "    q_lm_i = q_lm_i/n\n",
    "    return q_lm_i"
   ]
  },
  {
   "cell_type": "code",
   "execution_count": 5,
   "metadata": {},
   "outputs": [],
   "source": [
    "def lechner(pos_A, pos_B, box, x_max, n_bins, cutoff, l):\n",
    "    o = pos_A\n",
    "    N = o.shape[0] # number of molecules\n",
    "    dist = np.abs(o[:, np.newaxis, :] - o)\n",
    "    ddist = np.abs(dist - box)\n",
    "    dist = np.minimum(dist, ddist)\n",
    "    dist = np.reshape(dist*dist, (N*N,3))\n",
    "    dist = np.sum(dist,axis = 1)\n",
    "    dist = np.sqrt(dist)\n",
    "\n",
    "\n",
    "\n",
    "    neighbor_list = []\n",
    "\n",
    "\n",
    "    for i in range(N):\n",
    "        distij = dist[i*(N):(i+1)*(N)] #make (N,) distance vector\n",
    "        list = np.argsort(distij)\n",
    "        distij = np.sort(distij)\n",
    "\n",
    "\n",
    "        k = 1\n",
    "        arr = []\n",
    "        while distij[k] < cutoff:\n",
    "            arr += [list[k]]\n",
    "            k += 1\n",
    "        arr = np.array(arr)\n",
    "        neighbor_list += [arr]\n",
    "    \n",
    "#     neighbor_number = np.zeros((N,1))\n",
    "#     for i in range(N):\n",
    "#         neighbor_number[i] = neighbor_list[i].shape[0]\n",
    "\n",
    "#     sort_neighbor_number = np.sort(neighbor_number)\n",
    "        \n",
    "    op = np.zeros((N,))\n",
    "    for i in range(N):\n",
    "        a = 0\n",
    "        for k in range(-l,l+1):\n",
    "            ni = neighbor_list[i]\n",
    "            qm = steinhardt(k,l,i,ni,o,box)\n",
    "            \n",
    "            for j in range(ni.shape[0]):\n",
    "                s = steinhardt(k,l,ni[j],neighbor_list[ni[j]],o,box)\n",
    "                qm += s\n",
    "            qm = qm/(ni.shape[0]+1)\n",
    "            a = a + np.square(np.absolute(qm))\n",
    "        op[i] = np.sqrt(4*np.pi/(2*l+1)*a)\n",
    "            \n",
    "    \n",
    "\n",
    "    \n",
    "    #binning step\n",
    "    bins = np.linspace(0, x_max, n_bins)\n",
    "    dr = bins[1] - bins[0]\n",
    "    opp = np.sort(op)\n",
    "    \n",
    "    p = 0\n",
    "    i = 0\n",
    "    m = 0\n",
    "    nr = np.zeros(n_bins)\n",
    "    rdf = np.zeros(n_bins)\n",
    "\n",
    "    while True:\n",
    "        while opp[i] > bins[p]:\n",
    "            nr[p] = m\n",
    "            p = p+1\n",
    "            if p== len(nr):\n",
    "                break\n",
    "        else:\n",
    "            i = i+1\n",
    "            m = m+1\n",
    "            if i == len(opp):\n",
    "                break\n",
    "        if p == len(nr):\n",
    "            break\n",
    "            \n",
    "    for i in range (n_bins-1):\n",
    "        rdf[i+1] = nr[i+1] - nr[i]\n",
    "        if rdf[i+1] <0:\n",
    "            rdf[i+1] = rdf[i+1] + N\n",
    "        \n",
    "    \n",
    "\n",
    "    return bins, rdf, op #, sort_neighbor_number"
   ]
  },
  {
   "cell_type": "code",
   "execution_count": 10,
   "metadata": {},
   "outputs": [],
   "source": [
    "uw.trajectory[50]\n",
    "p = uw.select_atoms('name OW')\n",
    "o = p.atoms.positions\n",
    "wbins, wrdf, wop = lechner(o, o, wbox, 1, 50, 3.5, 3)"
   ]
  },
  {
   "cell_type": "code",
   "execution_count": 16,
   "metadata": {},
   "outputs": [
    {
     "name": "stdout",
     "output_type": "stream",
     "text": [
      "0.29887995345496987 0.046280060386173064\n",
      "[0.04628006 0.04860811 0.05236436 0.05352619 0.0547545  0.05574605\n",
      " 0.05852164 0.05971604 0.06037623 0.06094972 0.06124228 0.06150319\n",
      " 0.06227416 0.06646998 0.06677628 0.06683104 0.06695662 0.06697306\n",
      " 0.06767794 0.06786918 0.06788186 0.06894972 0.06975487 0.07059175\n",
      " 0.07065288 0.07191037 0.07209915 0.07233849 0.07269004 0.07290843\n",
      " 0.07363975 0.0739623  0.07508884 0.07553804 0.07581982 0.07619118\n",
      " 0.07647827 0.07713507 0.07741871 0.07766668 0.07781538 0.07786129\n",
      " 0.07799315 0.07829875 0.0791864  0.08047311 0.0805442  0.08056878\n",
      " 0.0810804  0.08152221 0.08164982 0.08247747 0.08269251 0.08273419\n",
      " 0.08281583 0.08283505 0.08304799 0.08311053 0.08418425 0.08457463\n",
      " 0.08463294 0.08464279 0.08480105 0.08512246 0.08539809 0.08575969\n",
      " 0.08610297 0.0861634  0.08647354 0.08657063 0.08686215 0.08774143\n",
      " 0.08774267 0.08806276 0.08855307 0.08869363 0.08872436 0.08880613\n",
      " 0.08908739 0.0894703  0.08977339 0.08984588 0.08988719 0.08998067\n",
      " 0.08999903 0.09003471 0.0905151  0.09072334 0.09081302 0.09092524\n",
      " 0.09115964 0.09119591 0.09130254 0.0916021  0.09163414 0.09168065\n",
      " 0.09187016 0.09204829 0.09206379 0.09218716 0.09244245 0.09261664\n",
      " 0.09268242 0.09299797 0.0931323  0.09346873 0.09405044 0.0941135\n",
      " 0.09416484 0.09429793 0.09475777 0.09489101 0.09509206 0.09530317\n",
      " 0.09540644 0.09544197 0.09576129 0.09612122 0.09684193 0.09686938\n",
      " 0.0970435  0.09715297 0.09722326 0.09813306 0.09820111 0.09840443\n",
      " 0.09855228 0.09891266 0.09893804 0.09904152 0.09939855 0.0996405\n",
      " 0.09991059 0.09994613 0.10009826 0.10043713 0.10044269 0.10056397\n",
      " 0.10072631 0.100735   0.10075036 0.10083002 0.10096387 0.10122346\n",
      " 0.10140493 0.10151579 0.10152568 0.10158073 0.1019678  0.10204312\n",
      " 0.1021639  0.10216959 0.10228938 0.10234684 0.10241478 0.10271054\n",
      " 0.10312459 0.10323469 0.10327813 0.10393379 0.10395204 0.10395676\n",
      " 0.10400703 0.10412984 0.10444666 0.10449397 0.10450433 0.10453143\n",
      " 0.10453284 0.10472607 0.10474917 0.10509469 0.10520302 0.1054975\n",
      " 0.10554755 0.1056577  0.10566351 0.10648839 0.10670689 0.10692982\n",
      " 0.10713604 0.10732037 0.10738414 0.10741214 0.10741822 0.10742672\n",
      " 0.10763877 0.10777821 0.10783924 0.10799036 0.10822815 0.10831914\n",
      " 0.10855167 0.10909667 0.10910177 0.10912262 0.10934877 0.10938454\n",
      " 0.10947474 0.10950343 0.10951072 0.10958727 0.10967365 0.10968054\n",
      " 0.10969332 0.10989149 0.11015898 0.11018431 0.11026894 0.11033353\n",
      " 0.11033973 0.11039986 0.11063131 0.11076492 0.11077216 0.11087492\n",
      " 0.11103934 0.11110546 0.11129029 0.11140574 0.1114407  0.1114938\n",
      " 0.11155628 0.11180147 0.11193597 0.11214138 0.11216053 0.11219946\n",
      " 0.11219997 0.11253121 0.11268998 0.1128352  0.11295561 0.11331095\n",
      " 0.1133583  0.11337257 0.11344304 0.113445   0.11383072 0.11405378\n",
      " 0.11413243 0.11425789 0.11437642 0.11464405 0.1152197  0.11525232\n",
      " 0.11531874 0.11539683 0.1158193  0.11597357 0.11608496 0.11618814\n",
      " 0.11633135 0.11642735 0.11663056 0.11688957 0.11725515 0.11740099\n",
      " 0.11743312 0.11801838 0.11829614 0.1183447  0.11849417 0.11863067\n",
      " 0.11868601 0.11905021 0.11906669 0.119139   0.11925907 0.11929556\n",
      " 0.11932091 0.11949273 0.11965495 0.11965803 0.1198524  0.11993139\n",
      " 0.12017971 0.1202057  0.12023621 0.12026633 0.12031902 0.12032279\n",
      " 0.1203409  0.12049365 0.12056209 0.12070646 0.12071967 0.12072857\n",
      " 0.1209817  0.12113671 0.12117585 0.12130195 0.12130219 0.12160057\n",
      " 0.121642   0.12179774 0.1221878  0.12242918 0.12243278 0.12276674\n",
      " 0.12296036 0.12314783 0.12333991 0.12350736 0.12356912 0.12377733\n",
      " 0.12383299 0.12414635 0.12416308 0.12433904 0.1244283  0.12475142\n",
      " 0.12483641 0.1250496  0.12505668 0.12512062 0.12540241 0.12548006\n",
      " 0.12549331 0.12555193 0.12607067 0.12620955 0.12639464 0.12642141\n",
      " 0.12652831 0.12656943 0.12674662 0.12682027 0.12713663 0.12726779\n",
      " 0.12733166 0.12736128 0.12772166 0.12779435 0.12814712 0.12849375\n",
      " 0.12853879 0.12874205 0.12892162 0.12893983 0.12895533 0.12896374\n",
      " 0.12909863 0.1291009  0.12916202 0.12923622 0.12940131 0.12946166\n",
      " 0.12948465 0.12974205 0.12981584 0.12994611 0.13018752 0.13025484\n",
      " 0.13031412 0.13050241 0.13063476 0.13068218 0.13083372 0.13091692\n",
      " 0.13097356 0.13116356 0.13123756 0.13137249 0.13141692 0.13170548\n",
      " 0.13182262 0.13190268 0.13198534 0.13214374 0.13219085 0.13236357\n",
      " 0.13249904 0.13257536 0.13265983 0.13273461 0.13288258 0.13289176\n",
      " 0.13289515 0.13292292 0.13311856 0.13325121 0.13326643 0.13328253\n",
      " 0.13332707 0.13345182 0.13348479 0.1337173  0.13377962 0.13404209\n",
      " 0.1341704  0.13426528 0.13467956 0.13477446 0.13481912 0.13490387\n",
      " 0.13501285 0.13527349 0.13555181 0.13567922 0.13570617 0.13570849\n",
      " 0.13576401 0.1359417  0.13610966 0.13613513 0.13626886 0.1366413\n",
      " 0.13677428 0.13686513 0.1371299  0.13713535 0.13730171 0.13736808\n",
      " 0.13738183 0.13765623 0.13794053 0.13805767 0.13819926 0.1383265\n",
      " 0.1388731  0.13909876 0.13919378 0.13919559 0.13932515 0.13936207\n",
      " 0.13945445 0.13956521 0.13973514 0.13975719 0.1398884  0.13994015\n",
      " 0.13995196 0.13997026 0.14016927 0.14027874 0.14030293 0.14044519\n",
      " 0.14055779 0.14056576 0.1409765  0.14128646 0.14135349 0.14135653\n",
      " 0.14137534 0.14148507 0.14150905 0.14152269 0.14179017 0.14183402\n",
      " 0.14210694 0.14212188 0.14228766 0.14236049 0.14242907 0.14245745\n",
      " 0.14281807 0.1428394  0.14291978 0.14301234 0.14329732 0.14344533\n",
      " 0.14371238 0.14375917 0.1438354  0.14387059 0.1438733  0.14398025\n",
      " 0.1440285  0.14406525 0.14406741 0.14426133 0.14429042 0.14433546\n",
      " 0.14438323 0.14440236 0.14469691 0.14472024 0.14491827 0.14494924\n",
      " 0.14506225 0.14506272 0.14530202 0.14532499 0.14538119 0.1454936\n",
      " 0.14555311 0.14561871 0.14586846 0.14631497 0.14635258 0.14642906\n",
      " 0.1465032  0.14661917 0.14683337 0.14690683 0.14695774 0.14702763\n",
      " 0.14727233 0.14733469 0.14784818 0.1479906  0.14815534 0.14819228\n",
      " 0.14826455 0.14830456 0.1484372  0.14844445 0.14877721 0.14903682\n",
      " 0.14907515 0.14916703 0.14918816 0.149202   0.14924029 0.14925671\n",
      " 0.14938608 0.14950267 0.14958427 0.14969728 0.14995981 0.15018578\n",
      " 0.15035549 0.15039741 0.1505564  0.15059075 0.1506233  0.1507985\n",
      " 0.15080866 0.15110374 0.15111297 0.15116244 0.15145759 0.15149955\n",
      " 0.15156627 0.15178077 0.15181107 0.15188817 0.15204899 0.15251122\n",
      " 0.15291784 0.15294282 0.15318008 0.15330029 0.15343151 0.15344523\n",
      " 0.1534603  0.15349013 0.15368942 0.15374085 0.15389691 0.15412636\n",
      " 0.15433366 0.15461563 0.15465107 0.15468834 0.15482083 0.15488264\n",
      " 0.15490651 0.15501153 0.1550558  0.15511943 0.15512304 0.15526869\n",
      " 0.15551708 0.15565361 0.15611952 0.15614273 0.15634401 0.15635608\n",
      " 0.15640342 0.15653755 0.15657339 0.15687094 0.15706607 0.1572019\n",
      " 0.15740872 0.15772309 0.15775393 0.15777888 0.1578061  0.157885\n",
      " 0.15789033 0.15797945 0.15806775 0.15849407 0.15862527 0.158751\n",
      " 0.15888089 0.15901893 0.15914645 0.15923473 0.1595372  0.15966123\n",
      " 0.15966365 0.15979155 0.15991211 0.16000644 0.1601068  0.16025113\n",
      " 0.16027946 0.16032584 0.16036745 0.16038699 0.16038989 0.16042191\n",
      " 0.16066596 0.16082944 0.16097456 0.1609854  0.16109734 0.16111318\n",
      " 0.16118542 0.16151311 0.16154411 0.16167733 0.16182667 0.16199823\n",
      " 0.1623346  0.16260603 0.16265052 0.16270956 0.16271909 0.16302764\n",
      " 0.1630992  0.16320901 0.16321542 0.1634822  0.16350842 0.16359189\n",
      " 0.16359612 0.16376175 0.16379791 0.16394444 0.16426111 0.16427639\n",
      " 0.16440427 0.16471927 0.16480102 0.16497536 0.16514565 0.16532769\n",
      " 0.16542877 0.16589711 0.16625803 0.16629676 0.1663523  0.16638214\n",
      " 0.16654112 0.16728966 0.16758104 0.16758178 0.16794986 0.16809022\n",
      " 0.16812624 0.16832741 0.16846857 0.16858802 0.16862134 0.16865362\n",
      " 0.16879677 0.16887848 0.16890978 0.16891676 0.16912229 0.16929225\n",
      " 0.16949474 0.16969257 0.16969563 0.16990216 0.17046514 0.17127983\n",
      " 0.17157086 0.17160737 0.17167052 0.17168354 0.17182814 0.17226599\n",
      " 0.17234975 0.172417   0.1725445  0.17297518 0.17308008 0.17310848\n",
      " 0.17314877 0.17341529 0.17352006 0.17355336 0.17356533 0.17373433\n",
      " 0.17442245 0.17514272 0.17530197 0.1754035  0.17588963 0.17594314\n",
      " 0.17625681 0.17628525 0.17634092 0.17660808 0.17664901 0.17674758\n",
      " 0.17704606 0.17713629 0.17730053 0.17741549 0.17751706 0.17764604\n",
      " 0.17774079 0.17785683 0.17799266 0.17813483 0.17854121 0.17858556\n",
      " 0.1788007  0.17880241 0.17900382 0.17915607 0.17918883 0.17923913\n",
      " 0.17929715 0.17959913 0.17985064 0.1799299  0.18019632 0.18143911\n",
      " 0.18174286 0.18188022 0.18193568 0.18197873 0.18206735 0.18254907\n",
      " 0.18301908 0.18302389 0.18343289 0.18344341 0.1835037  0.18363394\n",
      " 0.18366362 0.18391578 0.18395468 0.18402209 0.18442024 0.18454683\n",
      " 0.18472857 0.1855587  0.18584774 0.18606537 0.18622986 0.18632845\n",
      " 0.18641309 0.18661746 0.18673218 0.18681092 0.18708352 0.18710121\n",
      " 0.18724665 0.18737545 0.18753006 0.18776829 0.18798928 0.18810262\n",
      " 0.18816188 0.18836979 0.18862536 0.18874375 0.18880608 0.18898899\n",
      " 0.189444   0.18997429 0.19007149 0.19099919 0.19108476 0.19127911\n",
      " 0.19136337 0.19160974 0.19179919 0.19191402 0.1919994  0.19206964\n",
      " 0.19266659 0.19278175 0.19282943 0.19310241 0.19314392 0.1933672\n",
      " 0.19339257 0.19358149 0.1938307  0.1940464  0.19456598 0.19472648\n",
      " 0.19591123 0.19596532 0.19616791 0.19678959 0.1970326  0.19793798\n",
      " 0.19841904 0.19896916 0.19912074 0.19959721 0.20032503 0.20036671\n",
      " 0.20058912 0.20090109 0.20104952 0.2018083  0.20210741 0.20242332\n",
      " 0.20257958 0.20278855 0.20338044 0.20355093 0.20357995 0.20362907\n",
      " 0.20369417 0.20456561 0.20469316 0.20479947 0.20483247 0.20526687\n",
      " 0.20545095 0.20550327 0.20558685 0.20570475 0.20599076 0.20693334\n",
      " 0.20696647 0.20700406 0.20704599 0.20790832 0.20839306 0.20910548\n",
      " 0.20959682 0.21051585 0.21065383 0.21101915 0.21108953 0.21109955\n",
      " 0.21161791 0.21240626 0.21337707 0.21340364 0.21383817 0.21396684\n",
      " 0.2140568  0.21406816 0.21434154 0.21565005 0.21607722 0.21754553\n",
      " 0.21893789 0.21946635 0.2197401  0.22022305 0.2215236  0.22197659\n",
      " 0.22223538 0.22254114 0.22276088 0.22284786 0.22343175 0.22392483\n",
      " 0.22412141 0.22533632 0.22542852 0.22648992 0.22756151 0.22844814\n",
      " 0.2296655  0.23050573 0.23131946 0.23164074 0.23410346 0.23423911\n",
      " 0.2358508  0.23739171 0.23742555 0.23875827 0.23897083 0.24133655\n",
      " 0.24135999 0.24299355 0.24449756 0.24498559 0.24534676 0.24536603\n",
      " 0.24723758 0.248168   0.25086603 0.25128346 0.25184712 0.25204661\n",
      " 0.25252425 0.2545584  0.25484565 0.25610421 0.25927412 0.2619652\n",
      " 0.26298181 0.26479534 0.27159156 0.27427004 0.2744988  0.28048427\n",
      " 0.28098884 0.29884549 0.29887995]\n"
     ]
    }
   ],
   "source": [
    "print(max(wop), min(wop))\n",
    "wop = np.sort(wop)\n",
    "print(wop)"
   ]
  },
  {
   "cell_type": "code",
   "execution_count": 12,
   "metadata": {},
   "outputs": [],
   "source": [
    "uh.trajectory[50]\n",
    "p = uh.select_atoms('name OW')\n",
    "o = p.atoms.positions\n",
    "hbins, hrdf, hop = lechner(o, o, hbox, 1, 50, 3.5, 3)"
   ]
  },
  {
   "cell_type": "code",
   "execution_count": 18,
   "metadata": {
    "scrolled": true
   },
   "outputs": [
    {
     "name": "stdout",
     "output_type": "stream",
     "text": [
      "0.3607325256224829 0.24484771765578192\n",
      "[0.24484772 0.24676891 0.24732709 0.2601502  0.26023236 0.26048634\n",
      " 0.26259691 0.26614295 0.26632877 0.27116375 0.27198276 0.27410492\n",
      " 0.27454207 0.2752376  0.27534842 0.27795014 0.27905859 0.28091093\n",
      " 0.28093728 0.28112702 0.28142235 0.28233403 0.28392519 0.28425777\n",
      " 0.28477568 0.28845913 0.28943912 0.28953258 0.28996948 0.28998767\n",
      " 0.29014304 0.29024051 0.29030336 0.2906842  0.29083777 0.29086718\n",
      " 0.29129839 0.29140265 0.29166197 0.2922797  0.29313352 0.29422644\n",
      " 0.294416   0.29449364 0.29469618 0.29500058 0.2952231  0.29541123\n",
      " 0.29586442 0.29618068]\n"
     ]
    }
   ],
   "source": [
    "print(max(hop), min(hop))\n",
    "hop = np.sort(hop)\n",
    "print(hop[:50])"
   ]
  },
  {
   "cell_type": "code",
   "execution_count": 14,
   "metadata": {},
   "outputs": [],
   "source": [
    "uc.trajectory[50]\n",
    "p = uc.select_atoms('name OW')\n",
    "o = p.atoms.positions\n",
    "cbins, crdf, cop = lechner(o, o, cbox, 1, 50, 3.5, 3)"
   ]
  },
  {
   "cell_type": "code",
   "execution_count": 15,
   "metadata": {},
   "outputs": [
    {
     "name": "stdout",
     "output_type": "stream",
     "text": [
      "0.439852963955249 0.3943174738317312\n"
     ]
    }
   ],
   "source": [
    "print(max(cop), min(cop))"
   ]
  },
  {
   "cell_type": "code",
   "execution_count": 52,
   "metadata": {},
   "outputs": [
    {
     "data": {
      "text/plain": [
       "Text(0.5, 1.0, 'water')"
      ]
     },
     "execution_count": 52,
     "metadata": {},
     "output_type": "execute_result"
    },
    {
     "data": {
      "image/png": "[encoded data removed]",
      "text/plain": [
       "<Figure size 432x288 with 1 Axes>"
      ]
     },
     "metadata": {
      "needs_background": "light"
     },
     "output_type": "display_data"
    }
   ],
   "source": [
    "plt.hist(sort,bins = np.linspace(3,10,8))\n",
    "plt.xlabel(\"number of neighbors at r = 3.5A\")\n",
    "plt.ylabel(\"number of molecules\")\n",
    "plt.title(\"water\")"
   ]
  },
  {
   "cell_type": "code",
   "execution_count": 44,
   "metadata": {},
   "outputs": [],
   "source": [
    "uc.trajectory[50]\n",
    "p = uc.select_atoms('name OW')\n",
    "o = p.atoms.positions\n",
    "bins, rdf, op, sortc = lechner(o, o, cbox, 1, 50, 3.5, 3)"
   ]
  },
  {
   "cell_type": "code",
   "execution_count": 57,
   "metadata": {},
   "outputs": [
    {
     "data": {
      "text/plain": [
       "Text(0, 0.5, 'number of molecules')"
      ]
     },
     "execution_count": 57,
     "metadata": {},
     "output_type": "execute_result"
    },
    {
     "data": {
      "image/png": "[encoded data removed]",
      "text/plain": [
       "<Figure size 432x288 with 1 Axes>"
      ]
     },
     "metadata": {
      "needs_background": "light"
     },
     "output_type": "display_data"
    }
   ],
   "source": [
    "plt.hist(sortc,bins = np.linspace(3,10,8))\n",
    "plt.xlabel(\"number of neighbors\")\n",
    "plt.ylabel(\"number of molecules\")\n",
    "# plt.title(\"cubic ice\")"
   ]
  },
  {
   "cell_type": "code",
   "execution_count": 47,
   "metadata": {},
   "outputs": [],
   "source": [
    "uh.trajectory[50]\n",
    "p = uh.select_atoms('name OW')\n",
    "o = p.atoms.positions\n",
    "bins, rdf, op, sorth = lechner(o, o, hbox, 1, 50, 3.5, 3)"
   ]
  },
  {
   "cell_type": "code",
   "execution_count": 56,
   "metadata": {},
   "outputs": [
    {
     "data": {
      "text/plain": [
       "Text(0.5, 1.0, 'hexagonal ice & cubic ice')"
      ]
     },
     "execution_count": 56,
     "metadata": {},
     "output_type": "execute_result"
    },
    {
     "data": {
      "image/png": "[encoded data removed]",
      "text/plain": [
       "<Figure size 432x288 with 1 Axes>"
      ]
     },
     "metadata": {
      "needs_background": "light"
     },
     "output_type": "display_data"
    }
   ],
   "source": [
    "plt.hist(sortc,bins = np.linspace(3,10,8))\n",
    "plt.xlabel(\"number of neighbors at r = 3.5A\")\n",
    "plt.ylabel(\"number of molecules\")\n",
    "plt.title(\"hexagonal ice & cubic ice\")"
   ]
  },
  {
   "cell_type": "code",
   "execution_count": 22,
   "metadata": {},
   "outputs": [
    {
     "name": "stdout",
     "output_type": "stream",
     "text": [
      "[0. 0. 0. 0. 0.]\n"
     ]
    }
   ],
   "source": [
    "a = np.zeros((5,))\n",
    "print(a)"
   ]
  },
  {
   "cell_type": "code",
   "execution_count": 67,
   "metadata": {},
   "outputs": [],
   "source": [
    "def op_average(u, array, fs_atom_name, sn_atom_name , box, x_max, n_bins, cutoff, l):\n",
    "\n",
    "    '''\n",
    "    Input:\n",
    "      array(numpy.ndarray) : (n_time_frames)  ex) [0,100,200,300...,1000]\n",
    "      \n",
    "    output:\n",
    "      bins(numpy.ndarray) : (n_bins,) array of bins\n",
    "      gr_average(numpy.ndarray) : (n_bins, ) radial distribution function\n",
    "      nr_average(numpy.ndarray) : (n_bins, ) number of cumulative molecules\n",
    "    \n",
    "    '''\n",
    "    \n",
    "    u.trajectory[0]\n",
    "    p = u.select_atoms(fs_atom_name)\n",
    "    o = p.atoms.positions\n",
    "    N = o.shape[0] # number of molecules\n",
    "\n",
    "    \n",
    "    rdf__ = np.zeros(n_bins)\n",
    "    opp = np.zeros((N,))\n",
    "    n_bins = n_bins\n",
    "    \n",
    "    for i in array:\n",
    "        u.trajectory[np.int(i)]\n",
    "        p = u.select_atoms(fs_atom_name)\n",
    "        pp = u.select_atoms(sn_atom_name)\n",
    "        bins, rdf_, op = lechner(p.atoms.positions, pp.atoms.positions, box, x_max, n_bins, cutoff, l)\n",
    "        rdf__ += rdf_\n",
    "        opp += op\n",
    "\n",
    "    \n",
    "    return bins, rdf__/len(array), op#opp/len(array)"
   ]
  },
  {
   "cell_type": "code",
   "execution_count": 68,
   "metadata": {},
   "outputs": [],
   "source": [
    "wbins, wrdf_, wop = op_average(uw, np.linspace(0,250,20),\"name OW\", \"name OW\", wbox, 1, 50, 3.5, 3)"
   ]
  },
  {
   "cell_type": "code",
   "execution_count": 69,
   "metadata": {},
   "outputs": [],
   "source": [
    "hbins, hrdf_, hop = op_average(uh, np.linspace(0,1000,20),\"name OW\", \"name OW\", hbox, 1, 50, 3.5, 3)"
   ]
  },
  {
   "cell_type": "code",
   "execution_count": 70,
   "metadata": {},
   "outputs": [],
   "source": [
    "cbins, crdf_, cop = op_average(uc, np.linspace(0,1000,20),\"name OW\", \"name OW\", cbox, 1, 50, 3.5, 3)"
   ]
  },
  {
   "cell_type": "code",
   "execution_count": 36,
   "metadata": {},
   "outputs": [
    {
     "data": {
      "text/plain": [
       "<matplotlib.legend.Legend at 0x29f2051ea00>"
      ]
     },
     "execution_count": 36,
     "metadata": {},
     "output_type": "execute_result"
    },
    {
     "data": {
      "image/png": "[encoded data removed]",
      "text/plain": [
       "<Figure size 432x288 with 1 Axes>"
      ]
     },
     "metadata": {
      "needs_background": "light"
     },
     "output_type": "display_data"
    }
   ],
   "source": [
    "plt.plot(wbins, wrdf_/50, label='water')\n",
    "plt.plot(hbins, hrdf_/50, label='hexagonal ice')\n",
    "plt.plot(cbins,crdf_/50, label='cubic ice')\n",
    "plt.xlabel(\"q3(i)\")\n",
    "plt.ylabel(\"P(q3(i))\")\n",
    "\n",
    "plt.legend()"
   ]
  },
  {
   "cell_type": "code",
   "execution_count": 71,
   "metadata": {},
   "outputs": [
    {
     "data": {
      "text/plain": [
       "<matplotlib.legend.Legend at 0x1ac0675b760>"
      ]
     },
     "execution_count": 71,
     "metadata": {},
     "output_type": "execute_result"
    },
    {
     "data": {
      "image/png": "[encoded data removed]",
      "text/plain": [
       "<Figure size 432x288 with 1 Axes>"
      ]
     },
     "metadata": {
      "needs_background": "light"
     },
     "output_type": "display_data"
    }
   ],
   "source": [
    "plt.plot(wbins, wrdf_/909, label='water')\n",
    "plt.plot(hbins, hrdf_/1024, label='hexagonal ice')\n",
    "plt.plot(cbins,crdf_/1000, label='cubic ice')\n",
    "plt.xlabel(\"q3(i)\")\n",
    "plt.ylabel(\"P(q3(i))\")\n",
    "\n",
    "plt.legend()"
   ]
  },
  {
   "cell_type": "code",
   "execution_count": 72,
   "metadata": {},
   "outputs": [],
   "source": [
    "wwbins, wwrdf_, wwop = op_average(uw, np.linspace(0,250,20),\"name OW\", \"name OW\", wbox, 1, 50, 3.5, 6)\n",
    "hhbins, hhrdf_, hhop = op_average(uh, np.linspace(0,1000,20),\"name OW\", \"name OW\", hbox, 1, 50, 3.5, 6)\n",
    "ccbins, ccrdf_, ccop = op_average(uc, np.linspace(0,1000,20),\"name OW\", \"name OW\", cbox, 1, 50, 3.5, 6)"
   ]
  },
  {
   "cell_type": "code",
   "execution_count": 73,
   "metadata": {},
   "outputs": [
    {
     "data": {
      "text/plain": [
       "<matplotlib.legend.Legend at 0x1ac060fcb80>"
      ]
     },
     "execution_count": 73,
     "metadata": {},
     "output_type": "execute_result"
    },
    {
     "data": {
      "image/png": "[encoded data removed]",
      "text/plain": [
       "<Figure size 432x288 with 1 Axes>"
      ]
     },
     "metadata": {
      "needs_background": "light"
     },
     "output_type": "display_data"
    }
   ],
   "source": [
    "plt.plot(wwbins, wwrdf_/909, label='water')\n",
    "plt.plot(hhbins, hhrdf_/1024, label='hexagonal ice')\n",
    "plt.plot(ccbins,ccrdf_/1000, label='cubic ice')\n",
    "plt.xlabel(\"q6(i)\")\n",
    "plt.ylabel(\"P(q6(i))\")\n",
    "\n",
    "plt.legend()"
   ]
  },
  {
   "cell_type": "code",
   "execution_count": 24,
   "metadata": {},
   "outputs": [],
   "source": [
    "uc.trajectory[50]\n",
    "p = uc.select_atoms('name OW')\n",
    "o = p.atoms.positions"
   ]
  },
  {
   "cell_type": "code",
   "execution_count": 25,
   "metadata": {},
   "outputs": [
    {
     "data": {
      "text/plain": [
       "[<matplotlib.lines.Line2D at 0x29f2038eca0>]"
      ]
     },
     "execution_count": 25,
     "metadata": {},
     "output_type": "execute_result"
    },
    {
     "data": {
      "image/png": "[encoded data removed]",
      "text/plain": [
       "<Figure size 432x288 with 1 Axes>"
      ]
     },
     "metadata": {
      "needs_background": "light"
     },
     "output_type": "display_data"
    }
   ],
   "source": [
    "bins, rdf, op = lechner(o, o, cbox, 1, 50, 3.5, 3)\n",
    "plt.plot(bins,rdf)"
   ]
  },
  {
   "cell_type": "code",
   "execution_count": null,
   "metadata": {},
   "outputs": [],
   "source": []
  },
  {
   "cell_type": "code",
   "execution_count": null,
   "metadata": {},
   "outputs": [],
   "source": []
  }
 ],
 "metadata": {
  "kernelspec": {
   "display_name": "Python 3",
   "language": "python",
   "name": "python3"
  },
  "language_info": {
   "codemirror_mode": {
    "name": "ipython",
    "version": 3
   },
   "file_extension": ".py",
   "mimetype": "text/x-python",
   "name": "python",
   "nbconvert_exporter": "python",
   "pygments_lexer": "ipython3",
   "version": "3.8.5"
  }
 },
 "nbformat": 4,
 "nbformat_minor": 4
}
